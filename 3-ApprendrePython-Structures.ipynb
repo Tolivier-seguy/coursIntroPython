{
 "metadata": {
  "name": "",
  "signature": "sha256:819907c80a9eafd0135ddd7f3cff824c50f64d320eebadbfe0ef0ad1ffef7528"
 },
 "nbformat": 3,
 "nbformat_minor": 0,
 "worksheets": [
  {
   "cells": [
    {
     "cell_type": "code",
     "collapsed": false,
     "input": [
      "from __future__ import print_function"
     ],
     "language": "python",
     "metadata": {},
     "outputs": [],
     "prompt_number": 1
    },
    {
     "cell_type": "heading",
     "level": 1,
     "metadata": {},
     "source": [
      "Structures de donn\u00e9es"
     ]
    },
    {
     "cell_type": "heading",
     "level": 2,
     "metadata": {},
     "source": [
      "Plus de d\u00e9tails sur les listes"
     ]
    },
    {
     "cell_type": "markdown",
     "metadata": {},
     "source": [
      "Le type de donne\u0301es liste posse\u0300de d\u2019autres me\u0301thodes. Voici toutes les me\u0301thodes des objets listes :\n",
      "\n",
      "**`append(x)`** \u00e9quivalent a\u0300 `a.insert(len(a), x).`\n",
      "    \n",
      "**`extend(L)`** rallonge la liste en ajoutant a\u0300 la fin tous les e\u0301le\u0301ments de la liste donne\u0301e ; e\u0301quivaut a\u0300 `a[len(a):] = L`. \n",
      "    \n",
      "**`insert(i, x)`** inse\u0300re un e\u0301le\u0301ment a\u0300 une position donne\u0301e. Le premier argument est l\u2019indice de l\u2019e\u0301le\u0301ment avant lequel il faut inse\u0301rer, donc `a.insert(0, x)` inse\u0300re au de\u0301but de la liste, et `a.insert(len(a), x)` est e\u0301quivalent a\u0300 `a.append(x)`.\n",
      "\n",
      "**`remove(x)`** enle\u0300ve le premier e\u0301le\u0301ment de la liste dont la valeur est `x`. Il y a erreur si cet e\u0301le\u0301ment n\u2019existe pas. \n",
      "\n",
      "**`pop([i ])`** enle\u0300ve l\u2019e\u0301le\u0301ment pre\u0301sent a\u0300 la position donne\u0301e dans la liste, et le renvoie. Si aucun indice n\u2019est spe\u0301cifie\u0301, `a.pop()` renvoie le dernier e\u0301le\u0301ment de la liste. L\u2019e\u0301le\u0301ment est aussi supprime\u0301 de la liste.\n",
      "\n",
      "**`index(x)`** retourne l\u2019indice dans la liste du premier e\u0301le\u0301ment dont la valeur est `x`. Il y a erreur si cet e\u0301le\u0301ment n\u2019existe pas.\n",
      "\n",
      "**`count(x)`** renvoie le nombre de fois que `x` apparai\u0302t dans la liste. \n",
      "\n",
      "**`sort()`** trie les e\u0301le\u0301ments a\u0300 l\u2019inte\u0301rieur de la liste.\n",
      "\n",
      "**`reverse()`** renverse l\u2019ordre des e\u0301le\u0301ments a\u0300 l\u2019inte\u0301rieur de la liste.\n",
      "\n",
      "Un exemple qui utilise toutes les me\u0301thodes des listes :"
     ]
    },
    {
     "cell_type": "code",
     "collapsed": false,
     "input": [
      "ma_liste = [66.6, 333, 333, 1, 1234.5]\n",
      "print (ma_liste.count(333), ma_liste.count(66.6), ma_liste.count('x'))"
     ],
     "language": "python",
     "metadata": {},
     "outputs": [
      {
       "output_type": "stream",
       "stream": "stdout",
       "text": [
        "2 1 0\n"
       ]
      }
     ],
     "prompt_number": 2
    },
    {
     "cell_type": "code",
     "collapsed": false,
     "input": [
      "ma_liste.insert(2, -1)"
     ],
     "language": "python",
     "metadata": {},
     "outputs": [],
     "prompt_number": 3
    },
    {
     "cell_type": "code",
     "collapsed": false,
     "input": [
      "ma_liste.append(333)"
     ],
     "language": "python",
     "metadata": {},
     "outputs": [],
     "prompt_number": 4
    },
    {
     "cell_type": "code",
     "collapsed": false,
     "input": [
      "ma_liste"
     ],
     "language": "python",
     "metadata": {},
     "outputs": [
      {
       "metadata": {},
       "output_type": "pyout",
       "prompt_number": 5,
       "text": [
        "[66.6, 333, -1, 333, 1, 1234.5, 333]"
       ]
      }
     ],
     "prompt_number": 5
    },
    {
     "cell_type": "code",
     "collapsed": false,
     "input": [
      "ma_liste.index(333)"
     ],
     "language": "python",
     "metadata": {},
     "outputs": [
      {
       "metadata": {},
       "output_type": "pyout",
       "prompt_number": 6,
       "text": [
        "1"
       ]
      }
     ],
     "prompt_number": 6
    },
    {
     "cell_type": "code",
     "collapsed": false,
     "input": [
      "ma_liste.remove(333)\n",
      "ma_liste"
     ],
     "language": "python",
     "metadata": {},
     "outputs": [
      {
       "metadata": {},
       "output_type": "pyout",
       "prompt_number": 7,
       "text": [
        "[66.6, -1, 333, 1, 1234.5, 333]"
       ]
      }
     ],
     "prompt_number": 7
    },
    {
     "cell_type": "code",
     "collapsed": false,
     "input": [
      "ma_liste.reverse()\n",
      "ma_liste"
     ],
     "language": "python",
     "metadata": {},
     "outputs": [
      {
       "metadata": {},
       "output_type": "pyout",
       "prompt_number": 9,
       "text": [
        "[66.6, -1, 333, 1, 1234.5, 333]"
       ]
      }
     ],
     "prompt_number": 9
    },
    {
     "cell_type": "code",
     "collapsed": false,
     "input": [
      "ma_liste.sort()\n",
      "ma_liste"
     ],
     "language": "python",
     "metadata": {},
     "outputs": [
      {
       "metadata": {},
       "output_type": "pyout",
       "prompt_number": 10,
       "text": [
        "[-1, 1, 66.6, 333, 333, 1234.5]"
       ]
      }
     ],
     "prompt_number": 10
    },
    {
     "cell_type": "heading",
     "level": 3,
     "metadata": {},
     "source": [
      "Utiliser les listes comme des piles (*)"
     ]
    },
    {
     "cell_type": "markdown",
     "metadata": {},
     "source": [
      "Les me\u0301thodes des listes rendent tre\u0300s facile l\u2019utilisation d\u2019une liste comme une pile, ou\u0300 le dernier e\u0301le\u0301ment ajoute\u0301 est le premier e\u0301le\u0301ment re\u0301cupe\u0301re\u0301 (LIFO, \"last-in, first-out\"). Pour ajouter un e\u0301le\u0301ment au sommet de la pile, utilisez la me\u0301thode `append()`. Pour re\u0301cupe\u0301rer un e\u0301le\u0301ment du sommet de la pile, utilisez `pop()` sans indice explicite. Par exemple :"
     ]
    },
    {
     "cell_type": "code",
     "collapsed": false,
     "input": [
      "pile = [3, 4, 5]\n",
      "pile.append(6)\n",
      "pile.append(7)\n",
      "pile"
     ],
     "language": "python",
     "metadata": {},
     "outputs": [
      {
       "metadata": {},
       "output_type": "pyout",
       "prompt_number": 10,
       "text": [
        "[3, 4, 5, 6, 7]"
       ]
      }
     ],
     "prompt_number": 10
    },
    {
     "cell_type": "code",
     "collapsed": false,
     "input": [
      "pile.pop()"
     ],
     "language": "python",
     "metadata": {},
     "outputs": [
      {
       "metadata": {},
       "output_type": "pyout",
       "prompt_number": 11,
       "text": [
        "7"
       ]
      }
     ],
     "prompt_number": 11
    },
    {
     "cell_type": "code",
     "collapsed": false,
     "input": [
      "pile"
     ],
     "language": "python",
     "metadata": {},
     "outputs": [
      {
       "metadata": {},
       "output_type": "pyout",
       "prompt_number": 13,
       "text": [
        "[3, 4, 5, 6]"
       ]
      }
     ],
     "prompt_number": 13
    },
    {
     "cell_type": "code",
     "collapsed": false,
     "input": [
      "pile.pop()"
     ],
     "language": "python",
     "metadata": {},
     "outputs": [
      {
       "metadata": {},
       "output_type": "pyout",
       "prompt_number": 14,
       "text": [
        "6"
       ]
      }
     ],
     "prompt_number": 14
    },
    {
     "cell_type": "code",
     "collapsed": false,
     "input": [
      "pile.pop()"
     ],
     "language": "python",
     "metadata": {},
     "outputs": [
      {
       "metadata": {},
       "output_type": "pyout",
       "prompt_number": 15,
       "text": [
        "5"
       ]
      }
     ],
     "prompt_number": 15
    },
    {
     "cell_type": "code",
     "collapsed": false,
     "input": [
      "pile"
     ],
     "language": "python",
     "metadata": {},
     "outputs": [
      {
       "metadata": {},
       "output_type": "pyout",
       "prompt_number": 17,
       "text": [
        "[3, 4]"
       ]
      }
     ],
     "prompt_number": 17
    },
    {
     "cell_type": "code",
     "collapsed": false,
     "input": [
      "type(pile)"
     ],
     "language": "python",
     "metadata": {},
     "outputs": [
      {
       "metadata": {},
       "output_type": "pyout",
       "prompt_number": 18,
       "text": [
        "list"
       ]
      }
     ],
     "prompt_number": 18
    },
    {
     "cell_type": "heading",
     "level": 3,
     "metadata": {},
     "source": [
      "Utiliser les listes comme des files (*)"
     ]
    },
    {
     "cell_type": "markdown",
     "metadata": {},
     "source": [
      "Vous pouvez aussi utiliser facilement une liste comme une file, ou\u0300 le premier e\u0301le\u0301ment ajoute\u0301 est le premier e\u0301le\u0301ment retire\u0301 (FIFO, \"first-in, first-out\"). Pour ajouter un e\u0301le\u0301ment a\u0300 la fin de la file, utiliser `append()`. Pour re\u0301cupe\u0301rer un e\u0301le\u0301ment du devant de la file, utilisez `pop()` avec 0 pour indice. Par exemple :"
     ]
    },
    {
     "cell_type": "code",
     "collapsed": false,
     "input": [
      "file = [\"Eric\", \"John\", \"Michael\"]\n",
      "file.append(\"Terry\")                # Terry arrive\n",
      "file.append(\"Graham\")               # Graham arrive\n",
      "file.pop(0)"
     ],
     "language": "python",
     "metadata": {},
     "outputs": [
      {
       "metadata": {},
       "output_type": "pyout",
       "prompt_number": 19,
       "text": [
        "'Eric'"
       ]
      }
     ],
     "prompt_number": 19
    },
    {
     "cell_type": "code",
     "collapsed": false,
     "input": [
      "file.pop(0)"
     ],
     "language": "python",
     "metadata": {},
     "outputs": [
      {
       "metadata": {},
       "output_type": "pyout",
       "prompt_number": 20,
       "text": [
        "'John'"
       ]
      }
     ],
     "prompt_number": 20
    },
    {
     "cell_type": "code",
     "collapsed": false,
     "input": [
      "file"
     ],
     "language": "python",
     "metadata": {},
     "outputs": [
      {
       "metadata": {},
       "output_type": "pyout",
       "prompt_number": 21,
       "text": [
        "['Michael', 'Terry', 'Graham']"
       ]
      }
     ],
     "prompt_number": 21
    },
    {
     "cell_type": "heading",
     "level": 3,
     "metadata": {},
     "source": [
      "Outils de programmation fonctionnelle (*)"
     ]
    },
    {
     "cell_type": "markdown",
     "metadata": {},
     "source": [
      "Il y a trois fonctions inte\u0301gre\u0301es qui sont tre\u0300s pratiques avec les listes : `filter()`, `map()`, et `reduce()`. \n",
      "\n",
      "'`filter(`*fonction*, *sequence*`)`' renvoit une liste (du me\u0302me type, si possible) contenant les seul e\u0301le\u0301ments de la\n",
      "se\u0301quence pour lesquels `fonction(`*element*`)` est vraie. Par exemple, pour calculer quelques nombres premiers :"
     ]
    },
    {
     "cell_type": "code",
     "collapsed": false,
     "input": [
      "def f(x): return x % 2 != 0 and x % 3 != 0\n",
      "\n",
      "filter(f, range(2, 25))"
     ],
     "language": "python",
     "metadata": {},
     "outputs": [
      {
       "metadata": {},
       "output_type": "pyout",
       "prompt_number": 107,
       "text": [
        "[5, 7, 11, 13, 17, 19, 23]"
       ]
      }
     ],
     "prompt_number": 107
    },
    {
     "cell_type": "markdown",
     "metadata": {},
     "source": [
      "'`map(`*fonction*, *sequence*`)`' appelle `fonction(`*element*`)` pour chacun des e\u0301le\u0301ments de la se\u0301quence et renvoie la liste des valeurs de retour. Par exemple, pour calculer les cubes :"
     ]
    },
    {
     "cell_type": "code",
     "collapsed": false,
     "input": [
      "def cube(x): return x*x*x\n",
      "\n",
      "map(cube, range(1, 11))"
     ],
     "language": "python",
     "metadata": {},
     "outputs": [
      {
       "metadata": {},
       "output_type": "pyout",
       "prompt_number": 108,
       "text": [
        "[1, 8, 27, 64, 125, 216, 343, 512, 729, 1000]"
       ]
      }
     ],
     "prompt_number": 108
    },
    {
     "cell_type": "markdown",
     "metadata": {},
     "source": [
      "Plusieurs se\u0301quences peuvent e\u0302tre passe\u0301es en parame\u0300tre ; la fonction doit alors avoir autant d\u2019arguments qu\u2019il y a de se\u0301quences et est appele\u0301e avec les e\u0301le\u0301ments correspondants de chacune des se\u0301quences (ou `None` si l\u2019une des se\u0301quences est plus courte que l\u2019autre). Si `None` est passe\u0301 en tant que fonction, une fonction retournant ses arguments lui est substitue\u0301e.\n",
      "\n",
      "'`reduce(`*fonction*, *sequence*`)`' renvoie une valeur unique construite par l\u2019appel de la fonction binaire `fonction` sur les deux premiers e\u0301le\u0301ments de la se\u0301quence, puis sur le re\u0301sultat et l\u2019e\u0301le\u0301ment suivant, et ainsi de suite. Par exemple, pour calculer la somme des nombres de 1 a\u0300 10 :"
     ]
    },
    {
     "cell_type": "code",
     "collapsed": false,
     "input": [
      "def ajoute(x,y): return x+y\n",
      "\n",
      "reduce(ajoute, range(1, 11))"
     ],
     "language": "python",
     "metadata": {},
     "outputs": [
      {
       "metadata": {},
       "output_type": "pyout",
       "prompt_number": 109,
       "text": [
        "55"
       ]
      }
     ],
     "prompt_number": 109
    },
    {
     "cell_type": "markdown",
     "metadata": {},
     "source": [
      "S\u2019il y a seulement un e\u0301le\u0301ment dans la se\u0301quence, sa valeur est renvoye\u0301e ; si la se\u0301quence est vide, une exception est de\u0301clenche\u0301e.\n",
      "\n",
      "Un troisie\u0300me argument peut e\u0302tre transmis pour indiquer la valeur de de\u0301part. Dans ce cas, la valeur de de\u0301part est renvoye\u0301e pour une se\u0301quence vide, et la fonction est d\u2019abord applique\u0301e a\u0300 la valeur de de\u0301part et au premier e\u0301le\u0301ment de la se\u0301quence, puis au re\u0301sultat et a\u0300 l\u2019e\u0301le\u0301ment suivant, et ainsi de suite. Par exemple,"
     ]
    },
    {
     "cell_type": "code",
     "collapsed": false,
     "input": [
      "def somme(seq):\n",
      "    def ajoute(x,y): return x+y\n",
      "    return reduce(ajoute, seq, 0)\n",
      "\n",
      "somme(range(1, 11))"
     ],
     "language": "python",
     "metadata": {},
     "outputs": [
      {
       "metadata": {},
       "output_type": "pyout",
       "prompt_number": 110,
       "text": [
        "55"
       ]
      }
     ],
     "prompt_number": 110
    },
    {
     "cell_type": "code",
     "collapsed": false,
     "input": [
      "somme([])"
     ],
     "language": "python",
     "metadata": {},
     "outputs": [
      {
       "metadata": {},
       "output_type": "pyout",
       "prompt_number": 111,
       "text": [
        "0"
       ]
      }
     ],
     "prompt_number": 111
    },
    {
     "cell_type": "heading",
     "level": 3,
     "metadata": {},
     "source": [
      "*List Comprehensions* (*)"
     ]
    },
    {
     "cell_type": "markdown",
     "metadata": {},
     "source": [
      "Les *list comprehensions* fournissent une fac\u0327on concise de cre\u0301er des listes sans avoir recours a\u0300 `map()`, `filter()` et/ou `lambda`. La de\u0301finition de liste qui en re\u0301sulte a souvent tendance a\u0300 e\u0302tre plus claire que des listes construites avec ces outils. Chaque *list comprehension* consiste en une expression suivie d\u2019une clause `for`, puis ze\u0301ro ou plus clauses `for` ou `if`. Le re\u0301sultat sera une liste re\u0301sultant de l\u2019e\u0301valuation de l\u2019expression dans le contexte des clauses `for` et `if` qui la suivent. Si l\u2019expression s\u2019e\u0301value en un tuple, elle doit e\u0302tre mise entre parenthe\u0300ses."
     ]
    },
    {
     "cell_type": "code",
     "collapsed": false,
     "input": [
      "liste_de_fruits = ['  banane', '  myrtille ', 'fruit de la passion  ']\n",
      "nouvelle_liste_de_fruits = [fruit.strip() for fruit in liste_de_fruits]\n",
      "print (nouvelle_liste_de_fruits)"
     ],
     "language": "python",
     "metadata": {},
     "outputs": [
      {
       "output_type": "stream",
       "stream": "stdout",
       "text": [
        "['banane', 'myrtille', 'fruit de la passion']\n"
       ]
      }
     ],
     "prompt_number": 23
    },
    {
     "cell_type": "code",
     "collapsed": false,
     "input": [
      "vec = [2, 4, 6]\n",
      "[3*x for x in vec]"
     ],
     "language": "python",
     "metadata": {},
     "outputs": [
      {
       "metadata": {},
       "output_type": "pyout",
       "prompt_number": 113,
       "text": [
        "[6, 12, 18]"
       ]
      }
     ],
     "prompt_number": 113
    },
    {
     "cell_type": "code",
     "collapsed": false,
     "input": [
      "[3*x for x in vec if x > 3]"
     ],
     "language": "python",
     "metadata": {},
     "outputs": [
      {
       "metadata": {},
       "output_type": "pyout",
       "prompt_number": 114,
       "text": [
        "[12, 18]"
       ]
      }
     ],
     "prompt_number": 114
    },
    {
     "cell_type": "code",
     "collapsed": false,
     "input": [
      "[3*x for x in vec if x < 2]"
     ],
     "language": "python",
     "metadata": {},
     "outputs": [
      {
       "metadata": {},
       "output_type": "pyout",
       "prompt_number": 115,
       "text": [
        "[]"
       ]
      }
     ],
     "prompt_number": 115
    },
    {
     "cell_type": "code",
     "collapsed": false,
     "input": [
      "[{x: x**2} for x in vec]"
     ],
     "language": "python",
     "metadata": {},
     "outputs": [
      {
       "metadata": {},
       "output_type": "pyout",
       "prompt_number": 116,
       "text": [
        "[{2: 4}, {4: 16}, {6: 36}]"
       ]
      }
     ],
     "prompt_number": 116
    },
    {
     "cell_type": "code",
     "collapsed": false,
     "input": [
      "[[x,x**2] for x in vec]"
     ],
     "language": "python",
     "metadata": {},
     "outputs": [
      {
       "metadata": {},
       "output_type": "pyout",
       "prompt_number": 117,
       "text": [
        "[[2, 4], [4, 16], [6, 36]]"
       ]
      }
     ],
     "prompt_number": 117
    },
    {
     "cell_type": "code",
     "collapsed": false,
     "input": [
      "[x, x**2 for x in vec] # erreur : parenth\u00e8ses obligatoires pour les tuples"
     ],
     "language": "python",
     "metadata": {},
     "outputs": [
      {
       "ename": "SyntaxError",
       "evalue": "invalid syntax (<ipython-input-118-7a0f143b733f>, line 1)",
       "output_type": "pyerr",
       "traceback": [
        "\u001b[0;36m  File \u001b[0;32m\"<ipython-input-118-7a0f143b733f>\"\u001b[0;36m, line \u001b[0;32m1\u001b[0m\n\u001b[0;31m    [x, x**2 for x in vec] # erreur : parenth\u00e8ses obligatoires pour les tuples\u001b[0m\n\u001b[0m               ^\u001b[0m\n\u001b[0;31mSyntaxError\u001b[0m\u001b[0;31m:\u001b[0m invalid syntax\n"
       ]
      }
     ],
     "prompt_number": 118
    },
    {
     "cell_type": "code",
     "collapsed": false,
     "input": [
      "[(x, x**2) for x in vec]"
     ],
     "language": "python",
     "metadata": {},
     "outputs": [
      {
       "metadata": {},
       "output_type": "pyout",
       "prompt_number": 119,
       "text": [
        "[(2, 4), (4, 16), (6, 36)]"
       ]
      }
     ],
     "prompt_number": 119
    },
    {
     "cell_type": "code",
     "collapsed": false,
     "input": [
      "vec1 = [2, 4, 6]\n",
      "vec2 = [4, 3, -9]\n",
      "[x*y for x in vec1 for y in vec2]"
     ],
     "language": "python",
     "metadata": {},
     "outputs": [
      {
       "metadata": {},
       "output_type": "pyout",
       "prompt_number": 120,
       "text": [
        "[8, 6, -18, 16, 12, -36, 24, 18, -54]"
       ]
      }
     ],
     "prompt_number": 120
    },
    {
     "cell_type": "code",
     "collapsed": false,
     "input": [
      "[x+y for x in vec1 for y in vec2]"
     ],
     "language": "python",
     "metadata": {},
     "outputs": [
      {
       "metadata": {},
       "output_type": "pyout",
       "prompt_number": 121,
       "text": [
        "[6, 5, -7, 8, 7, -5, 10, 9, -3]"
       ]
      }
     ],
     "prompt_number": 121
    },
    {
     "cell_type": "code",
     "collapsed": false,
     "input": [
      "[vec1[i]*vec2[i] for i in range(len(vec1))]"
     ],
     "language": "python",
     "metadata": {},
     "outputs": [
      {
       "metadata": {},
       "output_type": "pyout",
       "prompt_number": 122,
       "text": [
        "[8, 12, -54]"
       ]
      }
     ],
     "prompt_number": 122
    },
    {
     "cell_type": "heading",
     "level": 2,
     "metadata": {},
     "source": [
      "L'instruction `del`"
     ]
    },
    {
     "cell_type": "markdown",
     "metadata": {},
     "source": [
      "Il y a un moyen d\u2019enlever un e\u0301le\u0301ment d\u2019une liste en ayant son indice au lieu de sa valeur : l\u2019instruction `del`. Cela peut aussi e\u0302tre utilise\u0301 pour enlever des tranches dans une liste (ce que l\u2019on a fait pre\u0301ce\u0301demment par remplacement de la tranche par une liste vide). Par exemple :"
     ]
    },
    {
     "cell_type": "code",
     "collapsed": false,
     "input": [
      "a = [-1, 1, 66.6, 333, 333, 1234.5]\n",
      "del a[0]\n",
      "a"
     ],
     "language": "python",
     "metadata": {},
     "outputs": [
      {
       "metadata": {},
       "output_type": "pyout",
       "prompt_number": 123,
       "text": [
        "[1, 66.6, 333, 333, 1234.5]"
       ]
      }
     ],
     "prompt_number": 123
    },
    {
     "cell_type": "code",
     "collapsed": false,
     "input": [
      "del a[2:4]\n",
      "a"
     ],
     "language": "python",
     "metadata": {},
     "outputs": [
      {
       "metadata": {},
       "output_type": "pyout",
       "prompt_number": 124,
       "text": [
        "[1, 66.6, 1234.5]"
       ]
      }
     ],
     "prompt_number": 124
    },
    {
     "cell_type": "markdown",
     "metadata": {},
     "source": [
      "`del` peut aussi e\u0302tre utilise\u0301 pour supprimer des variables comple\u0300tes :"
     ]
    },
    {
     "cell_type": "code",
     "collapsed": false,
     "input": [
      "del a"
     ],
     "language": "python",
     "metadata": {},
     "outputs": [],
     "prompt_number": 125
    },
    {
     "cell_type": "markdown",
     "metadata": {},
     "source": [
      "Faire par la suite re\u0301fe\u0301rence au nom `a` est une erreur (au moins jusqu\u2019a\u0300 ce qu\u2019une autre valeur ne lui soit affecte\u0301e). Nous trouverons d\u2019autres utilisations de `del` plus tard."
     ]
    },
    {
     "cell_type": "heading",
     "level": 2,
     "metadata": {},
     "source": [
      "N-uplets (tuples) et se\u0301quences"
     ]
    },
    {
     "cell_type": "markdown",
     "metadata": {},
     "source": [
      "Nous avons vu que les listes et les chai\u0302nes ont plusieurs proprie\u0301te\u0301s communes, telles que l\u2019indexation et les ope\u0301rations de de\u0301coupage. Elles sont deux exemples de types de donne\u0301es de type *se\u0301quence*. Puisque Python est un langage qui e\u0301volue, d\u2019autres types de donne\u0301es de type se\u0301quence pourraient e\u0302tre ajoute\u0301s. Il y a aussi un autre type de donne\u0301es de type se\u0301quence standard : le *tuple* (ou n-uplet).\n",
      "\n",
      "Un n-uplet consiste en un ensemble de valeurs se\u0301pare\u0301es par des virgules, par exemple :"
     ]
    },
    {
     "cell_type": "code",
     "collapsed": false,
     "input": [
      "t = 12345, 54321, 'salut!'\n",
      "t[0]"
     ],
     "language": "python",
     "metadata": {},
     "outputs": [
      {
       "metadata": {},
       "output_type": "pyout",
       "prompt_number": 24,
       "text": [
        "12345"
       ]
      }
     ],
     "prompt_number": 24
    },
    {
     "cell_type": "code",
     "collapsed": false,
     "input": [
      "t"
     ],
     "language": "python",
     "metadata": {},
     "outputs": [
      {
       "metadata": {},
       "output_type": "pyout",
       "prompt_number": 25,
       "text": [
        "(12345, 54321, 'salut!')"
       ]
      }
     ],
     "prompt_number": 25
    },
    {
     "cell_type": "code",
     "collapsed": false,
     "input": [
      "# Les tuples peuvent e\u0302tre imbrique\u0301s:\n",
      "u = t, (1, 2, 3, 4, 5)\n",
      "u"
     ],
     "language": "python",
     "metadata": {},
     "outputs": [
      {
       "metadata": {},
       "output_type": "pyout",
       "prompt_number": 27,
       "text": [
        "((12345, 54321, 'salut!'), (1, 2, 3, 4, 5))"
       ]
      }
     ],
     "prompt_number": 27
    },
    {
     "cell_type": "markdown",
     "metadata": {},
     "source": [
      "Comme vous pouvez le voir, a\u0300 l\u2019affichage, les tuples sont toujours entre parenthe\u0300ses, de fac\u0327on a\u0300 ce que des tuples de tuples puissent e\u0302tre interpre\u0301te\u0301s correctement ; ils peuvent e\u0302tre saisis avec ou sans parenthe\u0300ses, bien que des parenthe\u0300ses soient souvent ne\u0301cessaires (si le tuple fait partie d\u2019une expression plus complexe).\n",
      "\n",
      "Les tuples ont plein d\u2019utilisations. Par exemple, les couples de coordonne\u0301es (x, y), les enregistrements des employe\u0301s d\u2019une base de donne\u0301es, etc. Les tuples, comme les chai\u0302nes, sont non-modifiables : il est impossible d\u2019affecter individuellement une valeur aux e\u0301le\u0301ments d\u2019un tuple (bien que vous puissiez simuler quasiment cela avec le de\u0301coupage et la concate\u0301nation)."
     ]
    },
    {
     "cell_type": "heading",
     "level": 3,
     "metadata": {},
     "source": [
      "sp\u00e9cificit\u00e9s des tuples (*)"
     ]
    },
    {
     "cell_type": "markdown",
     "metadata": {},
     "source": [
      "Un proble\u0300me particulier consiste a\u0300 cre\u0301er des tuples contenant 0 ou 1 e\u0301le\u0301ment : la syntaxe reconnai\u0302t quelques subtilite\u0301s pour y arriver. Les tuples vides sont construits gra\u0302ce a\u0300 des parenthe\u0300ses vides ; un tuple avec un e\u0301le\u0301ment est construit en faisant suivre une valeur d\u2019une virgule (il ne suffit pas de mettre une valeur seule entre parenthe\u0300ses). Peu lisible, mais efficace. Par exemple :"
     ]
    },
    {
     "cell_type": "code",
     "collapsed": false,
     "input": [
      "empty = ()\n",
      "singleton = 'salut', # <-- notez la virgule en fin de ligne\n",
      "len(empty)"
     ],
     "language": "python",
     "metadata": {},
     "outputs": [
      {
       "metadata": {},
       "output_type": "pyout",
       "prompt_number": 129,
       "text": [
        "0"
       ]
      }
     ],
     "prompt_number": 129
    },
    {
     "cell_type": "code",
     "collapsed": false,
     "input": [
      "len(singleton)"
     ],
     "language": "python",
     "metadata": {},
     "outputs": [
      {
       "metadata": {},
       "output_type": "pyout",
       "prompt_number": 130,
       "text": [
        "1"
       ]
      }
     ],
     "prompt_number": 130
    },
    {
     "cell_type": "code",
     "collapsed": false,
     "input": [
      "singleton"
     ],
     "language": "python",
     "metadata": {},
     "outputs": [
      {
       "metadata": {},
       "output_type": "pyout",
       "prompt_number": 131,
       "text": [
        "('salut',)"
       ]
      }
     ],
     "prompt_number": 131
    },
    {
     "cell_type": "markdown",
     "metadata": {},
     "source": [
      "L\u2019instruction `t = 12345, 54321, 'salut !'` est un exemple d\u2019 emballage en tuple (*tuple packing*) : les valeurs `12345`, `54321` et `'salut !'` sont emballe\u0301es ensemble dans un tuple. L\u2019ope\u0301ration inverse est aussi possible :"
     ]
    },
    {
     "cell_type": "code",
     "collapsed": false,
     "input": [
      "x, y, z = t"
     ],
     "language": "python",
     "metadata": {},
     "outputs": [],
     "prompt_number": 132
    },
    {
     "cell_type": "markdown",
     "metadata": {},
     "source": [
      "Cela est appele\u0301, fort judicieusement, *de\u0301ballage de tuple* (tuple unpacking). Le de\u0301ballage d\u2019un tuple ne\u0301cessite que la liste des variables a\u0300 gauche ait un nombre d\u2019e\u0301le\u0301ments e\u0301gal a\u0300 la longueur du tuple. Notez que des affectations multiples ne sont en re\u0301alite\u0301 qu\u2019une combinaison d\u2019emballage et de\u0301ballage de tuples !"
     ]
    },
    {
     "cell_type": "heading",
     "level": 2,
     "metadata": {},
     "source": [
      "Ensembles (*)"
     ]
    },
    {
     "cell_type": "markdown",
     "metadata": {},
     "source": [
      "Python comporte e\u0301galement un type de donne\u0301es pour repre\u0301senter des ensembles. Un `set` est une collection (non range\u0301e) sans e\u0301le\u0301ments duplique\u0301s. Les emplois basiques sont le test d\u2019appartenance et l\u2019e\u0301limination des entre\u0301e duplique\u0301es. Les objets ensembles supportent les ope\u0301rations mathe\u0301matiques comme l\u2019union, l\u2019intersection, la diffe\u0301rence et la diffe\u0301rence syme\u0301trique.\n",
      "Voici une de\u0301monstration succincte :"
     ]
    },
    {
     "cell_type": "code",
     "collapsed": false,
     "input": [
      "panier = ['pomme', 'orange', 'pomme', 'poire', 'orange', 'banane']\n",
      "fruits = set(panier) # creation d'un set sans \u00e9l\u00e9ments dupliqu\u00e9s\n",
      "fruits"
     ],
     "language": "python",
     "metadata": {},
     "outputs": [
      {
       "metadata": {},
       "output_type": "pyout",
       "prompt_number": 29,
       "text": [
        "{'banane', 'orange', 'poire', 'pomme'}"
       ]
      }
     ],
     "prompt_number": 29
    },
    {
     "cell_type": "code",
     "collapsed": false,
     "input": [
      "'orange' in fruits # test d'appartenance rapide"
     ],
     "language": "python",
     "metadata": {},
     "outputs": [
      {
       "metadata": {},
       "output_type": "pyout",
       "prompt_number": 134,
       "text": [
        "True"
       ]
      }
     ],
     "prompt_number": 134
    },
    {
     "cell_type": "code",
     "collapsed": false,
     "input": [
      "'ananas' in fruits"
     ],
     "language": "python",
     "metadata": {},
     "outputs": [
      {
       "metadata": {},
       "output_type": "pyout",
       "prompt_number": 135,
       "text": [
        "False"
       ]
      }
     ],
     "prompt_number": 135
    },
    {
     "cell_type": "markdown",
     "metadata": {},
     "source": [
      "Une autre d\u00e9monstration rapide des ensembles sur les lettres uniques de deux mots"
     ]
    },
    {
     "cell_type": "code",
     "collapsed": false,
     "input": [
      "a = set('abracadabra')\n",
      "b = set('alacazam')\n",
      "a                       # lettres uniques dans abracadabra"
     ],
     "language": "python",
     "metadata": {},
     "outputs": [
      {
       "metadata": {},
       "output_type": "pyout",
       "prompt_number": 136,
       "text": [
        "{'a', 'b', 'c', 'd', 'r'}"
       ]
      }
     ],
     "prompt_number": 136
    },
    {
     "cell_type": "code",
     "collapsed": false,
     "input": [
      "b                       # lettres uniques dans alacazam"
     ],
     "language": "python",
     "metadata": {},
     "outputs": [
      {
       "metadata": {},
       "output_type": "pyout",
       "prompt_number": 137,
       "text": [
        "{'a', 'c', 'l', 'm', 'z'}"
       ]
      }
     ],
     "prompt_number": 137
    },
    {
     "cell_type": "code",
     "collapsed": false,
     "input": [
      "a - b                   # lettres dans a mais pas dans b"
     ],
     "language": "python",
     "metadata": {},
     "outputs": [
      {
       "metadata": {},
       "output_type": "pyout",
       "prompt_number": 138,
       "text": [
        "{'b', 'd', 'r'}"
       ]
      }
     ],
     "prompt_number": 138
    },
    {
     "cell_type": "code",
     "collapsed": false,
     "input": [
      "a | b                   # lettres soit dans a ou b"
     ],
     "language": "python",
     "metadata": {},
     "outputs": [
      {
       "metadata": {},
       "output_type": "pyout",
       "prompt_number": 139,
       "text": [
        "{'a', 'b', 'c', 'd', 'l', 'm', 'r', 'z'}"
       ]
      }
     ],
     "prompt_number": 139
    },
    {
     "cell_type": "code",
     "collapsed": false,
     "input": [
      "a & b                   # lettres dans a et b"
     ],
     "language": "python",
     "metadata": {},
     "outputs": [
      {
       "metadata": {},
       "output_type": "pyout",
       "prompt_number": 140,
       "text": [
        "{'a', 'c'}"
       ]
      }
     ],
     "prompt_number": 140
    },
    {
     "cell_type": "code",
     "collapsed": false,
     "input": [
      "a ^ b                   # lettres dans a ou dans b mais pas dans les deux"
     ],
     "language": "python",
     "metadata": {},
     "outputs": [
      {
       "metadata": {},
       "output_type": "pyout",
       "prompt_number": 141,
       "text": [
        "{'b', 'd', 'l', 'm', 'r', 'z'}"
       ]
      }
     ],
     "prompt_number": 141
    },
    {
     "cell_type": "heading",
     "level": 2,
     "metadata": {},
     "source": [
      "Dictionnaires"
     ]
    },
    {
     "cell_type": "markdown",
     "metadata": {},
     "source": [
      "Un autre type de donne\u0301es inte\u0301gre\u0301 a\u0300 Python est le *dictionnaire*. Les dictionnaires sont parfois trouve\u0301s dans d\u2019autres langages sous le nom de \"me\u0301moires associatives\" ou \"tableaux associatifs\". A la diffe\u0301rence des se\u0301quences, qui sont indexe\u0301es par un intervalle nume\u0301rique, les dictionnaires sont indexe\u0301s par des *cle\u0301s*, qui peuvent e\u0302tre de n\u2019importe quel type non-modifiable ; les chai\u0302nes et les nombres peuvent toujours e\u0302tre des cle\u0301s. Les tuples peuvent e\u0302tre utilise\u0301s comme cle\u0301s s\u2019ils ne contiennent que des chai\u0302nes, des nombres ou des tuples. Vous ne pouvez pas utiliser des listes comme cle\u0301s, puisque les listes peuvent e\u0302tre modifie\u0301es en utilisant leur me\u0301thode **`append()`**.\n",
      "\n",
      "Il est pre\u0301fe\u0301rable de conside\u0301rer les dictionnaires comme des ensembles non ordonne\u0301s de couples `cle\u0301:valeur`, avec la contrainte que les cle\u0301s soient uniques (a\u0300 l\u2019inte\u0301rieur d\u2019un me\u0302me dictionnaire). Un couple d\u2019accolades cre\u0301e un dictionnaire vide : `{}`. Placer une liste de couples `cle\u0301:valeur` se\u0301pare\u0301s par des virgules a\u0300 l\u2019inte\u0301rieur des accolades ajoute les couples initiaux `cle\u0301 :valeur` au dictionnaire ; c\u2019est aussi de cette fac\u0327on que les dictionnaires sont affiche\u0301s.\n",
      "\n",
      "Les ope\u0301rations principales sur un dictionnaire sont le stockage d\u2019une valeur a\u0300 l\u2019aide d\u2019une certaine cle\u0301 et l\u2019extraction de la valeur en donnant la cle\u0301. Il est aussi possible de de\u0301truire des couples `cle\u0301:valeur` avec **`del`**. Si vous stockez avec une cle\u0301 de\u0301ja\u0300 utilise\u0301e, l\u2019ancienne valeur associe\u0301e a\u0300 cette cle\u0301 est oublie\u0301e. C\u2019est une erreur d\u2019extraire une valeur en utilisant une cle\u0301 qui n\u2019existe pas.\n",
      "\n",
      "La me\u0301thode **`keys()`** d\u2019un objet de type dictionnaire retourne une liste de toutes les cle\u0301s utilise\u0301es dans le dictionnaire, dans un ordre quelconque (si vous voulez qu\u2019elle soit trie\u0301e, appliquez juste la me\u0301thode **`sort()`** a\u0300 la liste des cle\u0301s). Pour savoir si une cle\u0301 particulie\u0300re est dans le dictionnaire, utilisez la me\u0301thode **`has_key()`** du dictionnaire.\n",
      "Voici un petit exemple utilisant un dictionnaire :"
     ]
    },
    {
     "cell_type": "code",
     "collapsed": false,
     "input": [
      "tel = {'jack': 4098, 'sape': 4139}\n",
      "tel['guido'] = 4127\n",
      "tel"
     ],
     "language": "python",
     "metadata": {},
     "outputs": [
      {
       "metadata": {},
       "output_type": "pyout",
       "prompt_number": 30,
       "text": [
        "{'guido': 4127, 'jack': 4098, 'sape': 4139}"
       ]
      }
     ],
     "prompt_number": 30
    },
    {
     "cell_type": "code",
     "collapsed": false,
     "input": [
      "tel['jack']"
     ],
     "language": "python",
     "metadata": {},
     "outputs": [
      {
       "metadata": {},
       "output_type": "pyout",
       "prompt_number": 143,
       "text": [
        "4098"
       ]
      }
     ],
     "prompt_number": 143
    },
    {
     "cell_type": "code",
     "collapsed": false,
     "input": [
      "del (tel['sape'])\n",
      "tel['irv'] = 4127\n",
      "tel"
     ],
     "language": "python",
     "metadata": {},
     "outputs": [
      {
       "metadata": {},
       "output_type": "pyout",
       "prompt_number": 144,
       "text": [
        "{'guido': 4127, 'irv': 4127, 'jack': 4098}"
       ]
      }
     ],
     "prompt_number": 144
    },
    {
     "cell_type": "code",
     "collapsed": false,
     "input": [
      "tel.keys()"
     ],
     "language": "python",
     "metadata": {},
     "outputs": [
      {
       "metadata": {},
       "output_type": "pyout",
       "prompt_number": 145,
       "text": [
        "['jack', 'irv', 'guido']"
       ]
      }
     ],
     "prompt_number": 145
    },
    {
     "cell_type": "code",
     "collapsed": false,
     "input": [
      "tel.has_key('guido')"
     ],
     "language": "python",
     "metadata": {},
     "outputs": [
      {
       "metadata": {},
       "output_type": "pyout",
       "prompt_number": 146,
       "text": [
        "True"
       ]
      }
     ],
     "prompt_number": 146
    },
    {
     "cell_type": "markdown",
     "metadata": {},
     "source": [
      "Le constructeur **`dict()`** construit des dictionnaires directement a\u0300 partir de listes de paires `cle\u0301:valeur` range\u0301es comme des n-uplets. Lorsque les paires forment un motif, les *list comprehensions* peuvent spe\u0301cifier de manie\u0300re compacte la liste de cle\u0301s-valeurs."
     ]
    },
    {
     "cell_type": "code",
     "collapsed": false,
     "input": [
      "dict([('sape', 4139), ('guido', 4127), ('jack', 4098)])"
     ],
     "language": "python",
     "metadata": {},
     "outputs": [
      {
       "metadata": {},
       "output_type": "pyout",
       "prompt_number": 147,
       "text": [
        "{'guido': 4127, 'jack': 4098, 'sape': 4139}"
       ]
      }
     ],
     "prompt_number": 147
    },
    {
     "cell_type": "code",
     "collapsed": false,
     "input": [
      "dict([(x, x**2) for x in (2, 4, 6)]) # utilisation de la list comprehension"
     ],
     "language": "python",
     "metadata": {},
     "outputs": [
      {
       "metadata": {},
       "output_type": "pyout",
       "prompt_number": 148,
       "text": [
        "{2: 4, 4: 16, 6: 36}"
       ]
      }
     ],
     "prompt_number": 148
    },
    {
     "cell_type": "markdown",
     "metadata": {},
     "source": [
      "Lorsque les cle\u0301s sont de simples chai\u0302nes il est parfois plus simple de spe\u0301cifier les paires en utilisant des arguments a\u0300 mot-cle\u0301 :"
     ]
    },
    {
     "cell_type": "code",
     "collapsed": false,
     "input": [
      "dict(sape=4139, guido=4127, jack=4098)"
     ],
     "language": "python",
     "metadata": {},
     "outputs": [
      {
       "metadata": {},
       "output_type": "pyout",
       "prompt_number": 149,
       "text": [
        "{'guido': 4127, 'jack': 4098, 'sape': 4139}"
       ]
      }
     ],
     "prompt_number": 149
    },
    {
     "cell_type": "heading",
     "level": 2,
     "metadata": {},
     "source": [
      "Techniques de boucles"
     ]
    },
    {
     "cell_type": "markdown",
     "metadata": {},
     "source": [
      "Lorsqu\u2019on boucle sur un dictionnaire, les cle\u0301s et les valeurs correspondantes peuvent e\u0302tre obtenues en me\u0302me temps en utilisant la me\u0301thode **`iteritems()`**"
     ]
    },
    {
     "cell_type": "code",
     "collapsed": false,
     "input": [
      "chevaliers = {'gallahad': 'le pur', 'robin': 'le brave'}\n",
      "for c, v in chevaliers.iteritems():\n",
      "    print (c, v)"
     ],
     "language": "python",
     "metadata": {},
     "outputs": [
      {
       "output_type": "stream",
       "stream": "stdout",
       "text": [
        "gallahad le pur\n",
        "robin le brave\n"
       ]
      }
     ],
     "prompt_number": 150
    },
    {
     "cell_type": "markdown",
     "metadata": {},
     "source": [
      "Lorsqu\u2019on boucle sur une se\u0301quence, l\u2019indice donnant la position et la valeur correspondante peuvent e\u0302tre obtenus en me\u0302me temps en utilisant la fonction **`enumerate()`**."
     ]
    },
    {
     "cell_type": "code",
     "collapsed": false,
     "input": [
      "for i, v in enumerate(['tic', 'tac', 'toe']):\n",
      "    print (i, v)"
     ],
     "language": "python",
     "metadata": {},
     "outputs": [
      {
       "output_type": "stream",
       "stream": "stdout",
       "text": [
        "0 tic\n",
        "1 tac\n",
        "2 toe\n"
       ]
      }
     ],
     "prompt_number": 151
    },
    {
     "cell_type": "markdown",
     "metadata": {},
     "source": [
      "Pour boucler sur deux se\u0301quences, ou plus, en me\u0302me temps, les e\u0301le\u0301ments peuvent e\u0302tre apparie\u0301s avec la fonction **`zip()`**."
     ]
    },
    {
     "cell_type": "code",
     "collapsed": false,
     "input": [
      "questions = ['nom', 'but', 'drapeau']\n",
      "reponses = ['lancelot', 'le sacre graal', 'le bleu']\n",
      "for q, r in zip(questions, reponses):\n",
      "    print (\"Quel est ton %s? C'est %s.\" % (q, r))"
     ],
     "language": "python",
     "metadata": {},
     "outputs": [
      {
       "output_type": "stream",
       "stream": "stdout",
       "text": [
        "Quel est ton nom? C'est lancelot.\n",
        "Quel est ton but? C'est le sacre graal.\n",
        "Quel est ton drapeau? C'est le bleu.\n"
       ]
      }
     ],
     "prompt_number": 152
    },
    {
     "cell_type": "markdown",
     "metadata": {},
     "source": [
      "Pour boucler a\u0300 l\u2019envers sur une se\u0301quence, spe\u0301cifiez d\u2019abord la se\u0301quence a\u0300 l\u2019endroit, ensuite appelez la fonction **`reversed()`**."
     ]
    },
    {
     "cell_type": "code",
     "collapsed": false,
     "input": [
      "for i in reversed(xrange(1,10,2)):\n",
      "    print (i)"
     ],
     "language": "python",
     "metadata": {},
     "outputs": [
      {
       "output_type": "stream",
       "stream": "stdout",
       "text": [
        "9\n",
        "7\n",
        "5\n",
        "3\n",
        "1\n"
       ]
      }
     ],
     "prompt_number": 153
    },
    {
     "cell_type": "markdown",
     "metadata": {},
     "source": [
      "Pour boucler sur une se\u0301quence comme si elle e\u0301tait trie\u0301e, utilisez la fonction **`sorted()`** qui retourne une liste nouvelle trie\u0301e tout en laissant la source inchange\u0301e."
     ]
    },
    {
     "cell_type": "code",
     "collapsed": false,
     "input": [
      "panier = ['pomme', 'orange', 'pomme', 'poire', 'orange', 'banane']\n",
      "for f in sorted(set(panier)):\n",
      "    print (f)"
     ],
     "language": "python",
     "metadata": {},
     "outputs": [
      {
       "output_type": "stream",
       "stream": "stdout",
       "text": [
        "banane\n",
        "orange\n",
        "poire\n",
        "pomme\n"
       ]
      }
     ],
     "prompt_number": 154
    },
    {
     "cell_type": "heading",
     "level": 2,
     "metadata": {},
     "source": [
      "Plus de de\u0301tails sur les conditions (*)"
     ]
    },
    {
     "cell_type": "markdown",
     "metadata": {},
     "source": [
      "Les conditions utilise\u0301es dans les instructions **`while`** et **`if`** peuvent contenir d\u2019autres ope\u0301rateurs en dehors des comparaisons.\n",
      "\n",
      "Les ope\u0301rateurs de comparaison **`in`** et **`not`** in ve\u0301rifient si une valeur apparai\u0302t (ou non) dans une se\u0301quence. Les ope\u0301rateurs **`is`** et **`is not`** ve\u0301rifient si deux objets sont re\u0301ellement le me\u0302me objet ; cela se justifie seulement pour les objets modifiables comme les listes. Tous les ope\u0301rateurs de comparaison ont la me\u0302me priorite\u0301, qui est plus faible que celle de tous les ope\u0301rateurs nume\u0301riques.\n",
      "\n",
      "Les comparaisons peuvent e\u0302tre enchai\u0302ne\u0301es. Par exemple, `a < b == c` teste si `a` est strictement infe\u0301rieur a\u0300 `b` et de plus si `b` est e\u0301gal a\u0300 `c`.\n",
      "\n",
      "Les comparaisons peuvent e\u0302tre combine\u0301es avec les ope\u0301rateurs boole\u0301ens **`and`** (et) et **`or`** (ou), et le re\u0301sultat d\u2019une comparaison (ou de n\u2019importe quel autre expression Boole\u0301enne) peut e\u0302tre inverse\u0301 avec **`not`** (pas). Ces ope\u0301rateurs ont encore une fois une priorite\u0301 infe\u0301rieure a\u0300 celle des ope\u0301rateurs de comparaison ; et entre eux, **`not`** a la plus haute priorite\u0301, et **`or`** la plus faible, de sorte que `A and not B or C` est e\u0301quivalent a\u0300 `(A and (not B)) or C`. Bien su\u0302r, les parenthe\u0300ses peuvent e\u0302tre utilise\u0301es pour exprimer les compositions de\u0301sire\u0301es.\n",
      "\n",
      "Les ope\u0301rateurs boole\u0301ens **`and`** et **`or`** sont des ope\u0301rateurs dits court-circuit : leurs arguments sont e\u0301value\u0301s de gauche a\u0300 droite, et l\u2019e\u0301valuation s\u2019arre\u0302te de\u0300s que le re\u0301sultat est trouve\u0301. Par exemple, si `A` et `C` sont vrais mais que `B ` est faux, `A and B and C` n'e\u0301value pas l'expression `C`. En ge\u0301ne\u0301ral, la valeur de retour d'un ope\u0301rateur court-circuit, quand elle est utilise\u0301e comme une valeur ge\u0301ne\u0301rale et non comme un boole\u0301en, est celle du dernier argument e\u0301value\u0301.\n",
      "\n",
      "Il est possible d\u2019affecter le re\u0301sultat d\u2019une comparaison ou une autre expression boole\u0301enne a\u0300 une variable. Par exemple"
     ]
    },
    {
     "cell_type": "code",
     "collapsed": false,
     "input": [
      "chaine1, chaine2, chaine3 = '', 'Trondheim', 'Hammer Dance'\n",
      "non_null = chaine1 or chaine2 or chaine3\n",
      "non_null"
     ],
     "language": "python",
     "metadata": {},
     "outputs": [
      {
       "metadata": {},
       "output_type": "pyout",
       "prompt_number": 155,
       "text": [
        "'Trondheim'"
       ]
      }
     ],
     "prompt_number": 155
    },
    {
     "cell_type": "markdown",
     "metadata": {},
     "source": [
      "Notez qu\u2019en Python, au contraire du C, les affectations ne peuvent pas e\u0302tre effectue\u0301es a\u0300 l\u2019inte\u0301rieur des expressions. Les programmeurs C ronchonneront peut-e\u0302tre, mais cela e\u0301vite une classe de proble\u0300mes qu\u2019on rencontre dans les programmes C : e\u0301crire `=` dans une expression alors qu\u2019il fallait `==`."
     ]
    },
    {
     "cell_type": "heading",
     "level": 2,
     "metadata": {},
     "source": [
      "Comparer les se\u0301quences et d\u2019autres types (*)"
     ]
    },
    {
     "cell_type": "markdown",
     "metadata": {},
     "source": [
      "Les objets de type se\u0301quence peuvent e\u0302tre compare\u0301s a\u0300 d\u2019autres objets appartenant au me\u0302me type de se\u0301quence. La comparaison utilise l\u2019ordre *lexicographique* : les deux premiers e\u0301le\u0301ments sont d\u2019abord compare\u0301s, et s\u2019ils diffe\u0300rent cela de\u0301termine le re\u0301sultat de la comparaison ; s\u2019ils sont e\u0301gaux, les deux e\u0301le\u0301ments suivants sont compare\u0301s, et ainsi de suite, jusqu\u2019a\u0300 ce que l\u2019une des deux se\u0301quences soit e\u0301puise\u0301e. Si deux e\u0301le\u0301ments a\u0300 comparer sont eux-me\u0302mes des se\u0301quences du me\u0302me type, la comparaison lexicographique est reconside\u0301re\u0301e re\u0301cursivement. Si la comparaison de tous les e\u0301le\u0301ments de deux se\u0301quences les donne e\u0301gaux, les se\u0301quences sont conside\u0301re\u0301es comme e\u0301gales. Si une se\u0301quence est une sous-se\u0301quence initiale de l\u2019autre, la se\u0301quence la plus courte est la plus petite (infe\u0301rieure). L\u2019ordonnancement lexicographique pour les chai\u0302nes utilise l\u2019ordonnancement ASCII pour les caracte\u0300res. Quelques exemples de comparaisons de se\u0301quences du me\u0302me type :"
     ]
    },
    {
     "cell_type": "code",
     "collapsed": false,
     "input": [
      "(1, 2, 3) < (1, 2, 4)"
     ],
     "language": "python",
     "metadata": {},
     "outputs": [
      {
       "metadata": {},
       "output_type": "pyout",
       "prompt_number": 156,
       "text": [
        "True"
       ]
      }
     ],
     "prompt_number": 156
    },
    {
     "cell_type": "code",
     "collapsed": false,
     "input": [
      "[1, 2, 3] < [1, 2, 4]"
     ],
     "language": "python",
     "metadata": {},
     "outputs": [
      {
       "metadata": {},
       "output_type": "pyout",
       "prompt_number": 157,
       "text": [
        "True"
       ]
      }
     ],
     "prompt_number": 157
    },
    {
     "cell_type": "code",
     "collapsed": false,
     "input": [
      "'ABC' < 'C' < 'Pascal' < 'Python'"
     ],
     "language": "python",
     "metadata": {},
     "outputs": [
      {
       "metadata": {},
       "output_type": "pyout",
       "prompt_number": 158,
       "text": [
        "True"
       ]
      }
     ],
     "prompt_number": 158
    },
    {
     "cell_type": "code",
     "collapsed": false,
     "input": [
      "(1, 2, 3, 4) < (1, 2, 4)"
     ],
     "language": "python",
     "metadata": {},
     "outputs": [
      {
       "metadata": {},
       "output_type": "pyout",
       "prompt_number": 159,
       "text": [
        "True"
       ]
      }
     ],
     "prompt_number": 159
    },
    {
     "cell_type": "code",
     "collapsed": false,
     "input": [
      "(1, 2) < (1, 2, -1)"
     ],
     "language": "python",
     "metadata": {},
     "outputs": [
      {
       "metadata": {},
       "output_type": "pyout",
       "prompt_number": 160,
       "text": [
        "True"
       ]
      }
     ],
     "prompt_number": 160
    },
    {
     "cell_type": "code",
     "collapsed": false,
     "input": [
      "(1, 2, 3) == (1.0, 2.0, 3.0)"
     ],
     "language": "python",
     "metadata": {},
     "outputs": [
      {
       "metadata": {},
       "output_type": "pyout",
       "prompt_number": 161,
       "text": [
        "True"
       ]
      }
     ],
     "prompt_number": 161
    },
    {
     "cell_type": "code",
     "collapsed": false,
     "input": [
      "(1, 2, ('aa', 'ab')) < (1, 2, ('abc', 'a'), 4)"
     ],
     "language": "python",
     "metadata": {},
     "outputs": [
      {
       "metadata": {},
       "output_type": "pyout",
       "prompt_number": 162,
       "text": [
        "True"
       ]
      }
     ],
     "prompt_number": 162
    },
    {
     "cell_type": "markdown",
     "metadata": {},
     "source": [
      "Notez que la comparaison d\u2019objets de types diffe\u0301rents est licite. Le re\u0301sultat est de\u0301terministe mais arbitraire : les types sont trie\u0301s selon leur nom. Ainsi une liste (list) est toujours infe\u0301rieure a\u0300 une chai\u0302ne (string), une chai\u0302ne (string) est toujours infe\u0301rieure a\u0300 un n-uplet (tuple), etc. Les types nume\u0301riques me\u0301lange\u0301s sont compare\u0301s en fonction de leur valeur nume\u0301rique, ainsi 0 est e\u0301gal a\u0300 0.0, etc."
     ]
    },
    {
     "cell_type": "markdown",
     "metadata": {},
     "source": [
      "*Ce notebook est une adaptation de la traduction fran\u00e7aise, dirig\u00e9e par Olivier Berger et mise \u00e0 jour par Henri Garreta, du tutoriel Python \u00e9dit\u00e9 par Guido van Rossum et Fred L. Drake.*"
     ]
    }
   ],
   "metadata": {}
  }
 ]
}