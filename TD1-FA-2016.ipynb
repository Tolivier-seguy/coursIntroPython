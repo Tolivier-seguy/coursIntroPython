{
 "cells": [
  {
   "cell_type": "code",
   "execution_count": 2,
   "metadata": {
    "collapsed": true
   },
   "outputs": [],
   "source": [
    "from __future__ import print_function"
   ]
  },
  {
   "cell_type": "markdown",
   "metadata": {},
   "source": [
    "# Question 1 : échauffement"
   ]
  },
  {
   "cell_type": "markdown",
   "metadata": {},
   "source": [
    "## Question 1.1"
   ]
  },
  {
   "cell_type": "code",
   "execution_count": 2,
   "metadata": {
    "collapsed": false
   },
   "outputs": [
    {
     "name": "stdout",
     "output_type": "stream",
     "text": [
      "[1, 3, 5, 7, 9, 11, 13, 15, 17, 19, 21, 23, 25, 27, 29, 31, 33, 35, 37, 39, 41, 43, 45, 47, 49, 51, 53, 55, 57, 59, 61, 63, 65, 67, 69, 71, 73, 75, 77, 79, 81, 83, 85, 87, 89, 91, 93, 95, 97, 99, 101, 103, 105, 107, 109, 111, 113, 115, 117, 119, 121, 123, 125, 127, 129, 131, 133, 135, 137, 139, 141, 143, 145, 147, 149, 151, 153, 155, 157, 159, 161, 163, 165, 167, 169, 171, 173, 175, 177, 179, 181, 183, 185, 187, 189, 191, 193, 195, 197, 199]\n"
     ]
    }
   ],
   "source": [
    "liste_entier_impairs = list()\n",
    "n = 1\n",
    "while len(liste_entier_impairs) < 100:\n",
    "    liste_entier_impairs.append(n)\n",
    "    n = n+2\n",
    "print (liste_entier_impairs)"
   ]
  },
  {
   "cell_type": "code",
   "execution_count": null,
   "metadata": {
    "collapsed": false
   },
   "outputs": [],
   "source": [
    "range(1, 200, 2)"
   ]
  },
  {
   "cell_type": "code",
   "execution_count": null,
   "metadata": {
    "collapsed": false
   },
   "outputs": [],
   "source": [
    "n = 100\n",
    "range (1, n*2, 2)"
   ]
  },
  {
   "cell_type": "markdown",
   "metadata": {
    "collapsed": true
   },
   "source": [
    "## Question 1.2"
   ]
  },
  {
   "cell_type": "code",
   "execution_count": 9,
   "metadata": {
    "collapsed": false
   },
   "outputs": [
    {
     "name": "stdout",
     "output_type": "stream",
     "text": [
      "100\n"
     ]
    }
   ],
   "source": [
    "liste_fibonacci = []\n",
    "a, b = 0, 1\n",
    "i = 0\n",
    "while i < 100 : \n",
    "    liste_fibonacci.append(b) # peut aussi s'écrire liste_fibonacci += [b]\n",
    "    a, b = b, a+b\n",
    "    i = i + 1 # peut aussi s'écrire i += 1\n",
    "print (len(liste_fibonacci))"
   ]
  },
  {
   "cell_type": "code",
   "execution_count": 10,
   "metadata": {
    "collapsed": false
   },
   "outputs": [
    {
     "name": "stdout",
     "output_type": "stream",
     "text": [
      "100\n"
     ]
    }
   ],
   "source": [
    "liste_fibonacci = []\n",
    "a, b = 0, 1\n",
    "while len(liste_fibonacci) < 100 : \n",
    "    liste_fibonacci.append(b) # peut aussi s'écrire liste_fibonacci += [b]\n",
    "    a, b = b, a+b\n",
    "print (len(liste_fibonacci))"
   ]
  },
  {
   "cell_type": "code",
   "execution_count": 19,
   "metadata": {
    "collapsed": false
   },
   "outputs": [
    {
     "name": "stdout",
     "output_type": "stream",
     "text": [
      "100\n",
      "354224848179261915075\n"
     ]
    }
   ],
   "source": [
    "liste_fibonacci = []\n",
    "a, b = 0, 1\n",
    "for i in range(100): \n",
    "    liste_fibonacci.append(b) # peut aussi s'écrire liste_fibonacci += [b]\n",
    "    a, b = b, a+b\n",
    "print (len(liste_fibonacci))\n",
    "print (liste_fibonacci[-1])"
   ]
  },
  {
   "cell_type": "markdown",
   "metadata": {},
   "source": [
    "## Question 1.3"
   ]
  },
  {
   "cell_type": "code",
   "execution_count": 28,
   "metadata": {
    "collapsed": false
   },
   "outputs": [
    {
     "name": "stdout",
     "output_type": "stream",
     "text": [
      "100\n",
      "69283081864224717136290077681328518273399124385204820718966040597691435587278383112277161967532530675374170857404743017623467220361778016172106855838975759985190398725\n"
     ]
    }
   ],
   "source": [
    "liste_fibonacci = []\n",
    "a, b = 0, 1\n",
    "while len(liste_fibonacci) < 100 : \n",
    "    if b % 7 == 0:\n",
    "        liste_fibonacci.append(b) \n",
    "    a, b = b, a+b\n",
    "print (len(liste_fibonacci))\n",
    "print (liste_fibonacci[-1])"
   ]
  },
  {
   "cell_type": "markdown",
   "metadata": {},
   "source": [
    "# Question 2"
   ]
  },
  {
   "cell_type": "markdown",
   "metadata": {},
   "source": [
    "## Question 2.1"
   ]
  },
  {
   "cell_type": "code",
   "execution_count": 3,
   "metadata": {
    "collapsed": false
   },
   "outputs": [
    {
     "name": "stdout",
     "output_type": "stream",
     "text": [
      "100 a pour diviseurs [1, 2, 4, 5, 10, 20, 25, 50, 100]\n",
      "7 a pour diviseurs [1, 7]\n",
      "1 a pour diviseurs [1]\n"
     ]
    }
   ],
   "source": [
    "def diviseurs(i):\n",
    "    \"\"\"renvoie la liste des diviseurs d'un entier i donné\"\"\"\n",
    "    liste_diviseur = []\n",
    "    for d in range(1, i+1):\n",
    "        if i % d == 0:\n",
    "            liste_diviseur.append(d)\n",
    "    return liste_diviseur\n",
    "print (\"100 a pour diviseurs\", diviseurs(100))\n",
    "print ('7 a pour diviseurs', diviseurs(7))\n",
    "print ('1 a pour diviseurs', diviseurs(1))"
   ]
  },
  {
   "cell_type": "markdown",
   "metadata": {
    "collapsed": true
   },
   "source": [
    "## Question 2.3"
   ]
  },
  {
   "cell_type": "code",
   "execution_count": 4,
   "metadata": {
    "collapsed": true
   },
   "outputs": [],
   "source": [
    "def est_premier(i):\n",
    "    \"\"\"Indique si l'entier i est premier, retourne True/False\"\"\"\n",
    "    liste_diviseurs = diviseurs(i)\n",
    "    if len(liste_diviseurs) ==  2: return True\n",
    "    else: return False"
   ]
  },
  {
   "cell_type": "code",
   "execution_count": 6,
   "metadata": {
    "collapsed": false
   },
   "outputs": [
    {
     "name": "stdout",
     "output_type": "stream",
     "text": [
      "7 est premier ? True\n",
      "15 est premier ? False\n",
      "1 est premier ? False\n"
     ]
    }
   ],
   "source": [
    "def est_premier(i):\n",
    "    \"\"\"Indique si l'entier i est premier, retourne True/False\"\"\"\n",
    "    if len(diviseurs(i)) ==  2: return True\n",
    "    else: return False\n",
    "print ('7 est premier ?', est_premier(7))\n",
    "print ('15 est premier ?', est_premier(15))\n",
    "print ('1 est premier ?', est_premier(1))"
   ]
  },
  {
   "cell_type": "markdown",
   "metadata": {},
   "source": [
    "## Question 2.3"
   ]
  },
  {
   "cell_type": "code",
   "execution_count": 8,
   "metadata": {
    "collapsed": false
   },
   "outputs": [
    {
     "name": "stdout",
     "output_type": "stream",
     "text": [
      "Les nombres premiers inférieurs à 100 sont  [2, 3, 5, 7, 11, 13, 17, 19, 23, 29, 31, 37, 41, 43, 47, 53, 59, 61, 67, 71, 73, 79, 83, 89, 97]\n"
     ]
    }
   ],
   "source": [
    "def liste_premiers(n):\n",
    "    \"\"\"renvoie la liste des nombres premiers strictement inférieurs à n\"\"\"\n",
    "    liste_nombre_premier = []\n",
    "    for i in range(1, n):\n",
    "        if est_premier (i) == True: \n",
    "            liste_nombre_premier.append(i)\n",
    "    return liste_nombre_premier\n",
    "        \n",
    "print (\"Les nombres premiers inférieurs à 100 sont \", liste_premiers(100))"
   ]
  },
  {
   "cell_type": "code",
   "execution_count": 10,
   "metadata": {
    "collapsed": false
   },
   "outputs": [
    {
     "name": "stdout",
     "output_type": "stream",
     "text": [
      "10 loops, best of 3: 90.2 ms per loop\n"
     ]
    }
   ],
   "source": [
    "%timeit liste_premiers(1000)"
   ]
  },
  {
   "cell_type": "code",
   "execution_count": 11,
   "metadata": {
    "collapsed": false
   },
   "outputs": [
    {
     "name": "stdout",
     "output_type": "stream",
     "text": [
      "1 loop, best of 3: 9.23 s per loop\n"
     ]
    }
   ],
   "source": [
    "%timeit liste_premiers(10000)"
   ]
  },
  {
   "cell_type": "markdown",
   "metadata": {},
   "source": [
    "Nous allons essayer d'optimiser la vitesse de recherche des nombres premiers :"
   ]
  },
  {
   "cell_type": "code",
   "execution_count": 18,
   "metadata": {
    "collapsed": false
   },
   "outputs": [
    {
     "name": "stdout",
     "output_type": "stream",
     "text": [
      "Les nombres premiers inférieurs à 100 sont  [1, 2, 3, 5, 7, 11, 13, 17, 19, 23, 29, 31, 37, 41, 43, 47, 53, 59, 61, 67, 71, 73, 79, 83, 89, 97]\n"
     ]
    }
   ],
   "source": [
    "def diviseurs(i):\n",
    "    \"\"\"renvoie la liste des diviseurs d'un entier i donné\"\"\"\n",
    "    liste_diviseur = [1]\n",
    "    for d in range(2, i/2+1):\n",
    "        if i % d == 0:\n",
    "            liste_diviseur.append(d)\n",
    "    liste_diviseur.append(i)\n",
    "    return liste_diviseur\n",
    "print (\"Les nombres premiers inférieurs à 100 sont \", liste_premiers(100))"
   ]
  },
  {
   "cell_type": "code",
   "execution_count": 17,
   "metadata": {
    "collapsed": false
   },
   "outputs": [
    {
     "name": "stdout",
     "output_type": "stream",
     "text": [
      "10 loops, best of 3: 47.6 ms per loop\n"
     ]
    }
   ],
   "source": [
    "%timeit liste_premiers(1000)"
   ]
  },
  {
   "cell_type": "markdown",
   "metadata": {},
   "source": [
    "# Question 3\n"
   ]
  },
  {
   "cell_type": "code",
   "execution_count": 26,
   "metadata": {
    "collapsed": false
   },
   "outputs": [
    {
     "name": "stdout",
     "output_type": "stream",
     "text": [
      "les 3 premiers nombres parfaits sont: [6, 28, 496, 8128]\n"
     ]
    }
   ],
   "source": [
    "def liste_parfait(n):\n",
    "    \"\"\"renvoie la liste des n premiers nombres parfaits\"\"\"\n",
    "    i = 2\n",
    "    liste_nombres_parfaits = []\n",
    "    while len(liste_nombres_parfaits) < n:\n",
    "        liste_diviseurs = diviseurs(i)\n",
    "        somme = 0\n",
    "        for j in range (0, len(liste_diviseurs)-1):\n",
    "            somme = somme + liste_diviseurs[j]\n",
    "        if somme == i: \n",
    "            liste_nombres_parfaits.append(i)\n",
    "        i = i + 1\n",
    "    return liste_nombres_parfaits\n",
    "        \n",
    "print (\"les 3 premiers nombres parfaits sont:\", liste_parfait(4))"
   ]
  },
  {
   "cell_type": "code",
   "execution_count": 24,
   "metadata": {
    "collapsed": false
   },
   "outputs": [
    {
     "data": {
      "text/plain": [
       "[1, 2, 4, 8, 16, 31, 62, 124, 248, 496]"
      ]
     },
     "execution_count": 24,
     "metadata": {},
     "output_type": "execute_result"
    }
   ],
   "source": [
    "diviseurs(496)"
   ]
  },
  {
   "cell_type": "code",
   "execution_count": 25,
   "metadata": {
    "collapsed": false
   },
   "outputs": [
    {
     "data": {
      "text/plain": [
       "496"
      ]
     },
     "execution_count": 25,
     "metadata": {},
     "output_type": "execute_result"
    }
   ],
   "source": [
    "1+2+4+8+16+31+62+124+248"
   ]
  },
  {
   "cell_type": "code",
   "execution_count": null,
   "metadata": {
    "collapsed": true
   },
   "outputs": [],
   "source": []
  }
 ],
 "metadata": {
  "anaconda-cloud": {},
  "kernelspec": {
   "display_name": "Python [Root]",
   "language": "python",
   "name": "Python [Root]"
  },
  "language_info": {
   "codemirror_mode": {
    "name": "ipython",
    "version": 2
   },
   "file_extension": ".py",
   "mimetype": "text/x-python",
   "name": "python",
   "nbconvert_exporter": "python",
   "pygments_lexer": "ipython2",
   "version": "2.7.12"
  }
 },
 "nbformat": 4,
 "nbformat_minor": 0
}
