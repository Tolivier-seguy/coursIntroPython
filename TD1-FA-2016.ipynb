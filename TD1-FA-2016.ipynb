{
 "cells": [
  {
   "cell_type": "code",
   "execution_count": 1,
   "metadata": {
    "collapsed": true
   },
   "outputs": [],
   "source": [
    "from __future__ import print_function"
   ]
  },
  {
   "cell_type": "markdown",
   "metadata": {},
   "source": [
    "# Question 1 : échauffement"
   ]
  },
  {
   "cell_type": "markdown",
   "metadata": {},
   "source": [
    "## Question 1.1"
   ]
  },
  {
   "cell_type": "code",
   "execution_count": 2,
   "metadata": {
    "collapsed": false
   },
   "outputs": [
    {
     "name": "stdout",
     "output_type": "stream",
     "text": [
      "[1, 3, 5, 7, 9, 11, 13, 15, 17, 19, 21, 23, 25, 27, 29, 31, 33, 35, 37, 39, 41, 43, 45, 47, 49, 51, 53, 55, 57, 59, 61, 63, 65, 67, 69, 71, 73, 75, 77, 79, 81, 83, 85, 87, 89, 91, 93, 95, 97, 99, 101, 103, 105, 107, 109, 111, 113, 115, 117, 119, 121, 123, 125, 127, 129, 131, 133, 135, 137, 139, 141, 143, 145, 147, 149, 151, 153, 155, 157, 159, 161, 163, 165, 167, 169, 171, 173, 175, 177, 179, 181, 183, 185, 187, 189, 191, 193, 195, 197, 199]\n"
     ]
    }
   ],
   "source": [
    "liste_entier_impairs = list()\n",
    "n = 1\n",
    "while len(liste_entier_impairs) < 100:\n",
    "    liste_entier_impairs.append(n)\n",
    "    n = n+2\n",
    "print (liste_entier_impairs)"
   ]
  },
  {
   "cell_type": "code",
   "execution_count": 3,
   "metadata": {
    "collapsed": false
   },
   "outputs": [
    {
     "data": {
      "text/plain": [
       "[1,\n",
       " 3,\n",
       " 5,\n",
       " 7,\n",
       " 9,\n",
       " 11,\n",
       " 13,\n",
       " 15,\n",
       " 17,\n",
       " 19,\n",
       " 21,\n",
       " 23,\n",
       " 25,\n",
       " 27,\n",
       " 29,\n",
       " 31,\n",
       " 33,\n",
       " 35,\n",
       " 37,\n",
       " 39,\n",
       " 41,\n",
       " 43,\n",
       " 45,\n",
       " 47,\n",
       " 49,\n",
       " 51,\n",
       " 53,\n",
       " 55,\n",
       " 57,\n",
       " 59,\n",
       " 61,\n",
       " 63,\n",
       " 65,\n",
       " 67,\n",
       " 69,\n",
       " 71,\n",
       " 73,\n",
       " 75,\n",
       " 77,\n",
       " 79,\n",
       " 81,\n",
       " 83,\n",
       " 85,\n",
       " 87,\n",
       " 89,\n",
       " 91,\n",
       " 93,\n",
       " 95,\n",
       " 97,\n",
       " 99,\n",
       " 101,\n",
       " 103,\n",
       " 105,\n",
       " 107,\n",
       " 109,\n",
       " 111,\n",
       " 113,\n",
       " 115,\n",
       " 117,\n",
       " 119,\n",
       " 121,\n",
       " 123,\n",
       " 125,\n",
       " 127,\n",
       " 129,\n",
       " 131,\n",
       " 133,\n",
       " 135,\n",
       " 137,\n",
       " 139,\n",
       " 141,\n",
       " 143,\n",
       " 145,\n",
       " 147,\n",
       " 149,\n",
       " 151,\n",
       " 153,\n",
       " 155,\n",
       " 157,\n",
       " 159,\n",
       " 161,\n",
       " 163,\n",
       " 165,\n",
       " 167,\n",
       " 169,\n",
       " 171,\n",
       " 173,\n",
       " 175,\n",
       " 177,\n",
       " 179,\n",
       " 181,\n",
       " 183,\n",
       " 185,\n",
       " 187,\n",
       " 189,\n",
       " 191,\n",
       " 193,\n",
       " 195,\n",
       " 197,\n",
       " 199]"
      ]
     },
     "execution_count": 3,
     "metadata": {},
     "output_type": "execute_result"
    }
   ],
   "source": [
    "range(1, 200, 2)"
   ]
  },
  {
   "cell_type": "code",
   "execution_count": 4,
   "metadata": {
    "collapsed": false
   },
   "outputs": [
    {
     "data": {
      "text/plain": [
       "[1,\n",
       " 3,\n",
       " 5,\n",
       " 7,\n",
       " 9,\n",
       " 11,\n",
       " 13,\n",
       " 15,\n",
       " 17,\n",
       " 19,\n",
       " 21,\n",
       " 23,\n",
       " 25,\n",
       " 27,\n",
       " 29,\n",
       " 31,\n",
       " 33,\n",
       " 35,\n",
       " 37,\n",
       " 39,\n",
       " 41,\n",
       " 43,\n",
       " 45,\n",
       " 47,\n",
       " 49,\n",
       " 51,\n",
       " 53,\n",
       " 55,\n",
       " 57,\n",
       " 59,\n",
       " 61,\n",
       " 63,\n",
       " 65,\n",
       " 67,\n",
       " 69,\n",
       " 71,\n",
       " 73,\n",
       " 75,\n",
       " 77,\n",
       " 79,\n",
       " 81,\n",
       " 83,\n",
       " 85,\n",
       " 87,\n",
       " 89,\n",
       " 91,\n",
       " 93,\n",
       " 95,\n",
       " 97,\n",
       " 99,\n",
       " 101,\n",
       " 103,\n",
       " 105,\n",
       " 107,\n",
       " 109,\n",
       " 111,\n",
       " 113,\n",
       " 115,\n",
       " 117,\n",
       " 119,\n",
       " 121,\n",
       " 123,\n",
       " 125,\n",
       " 127,\n",
       " 129,\n",
       " 131,\n",
       " 133,\n",
       " 135,\n",
       " 137,\n",
       " 139,\n",
       " 141,\n",
       " 143,\n",
       " 145,\n",
       " 147,\n",
       " 149,\n",
       " 151,\n",
       " 153,\n",
       " 155,\n",
       " 157,\n",
       " 159,\n",
       " 161,\n",
       " 163,\n",
       " 165,\n",
       " 167,\n",
       " 169,\n",
       " 171,\n",
       " 173,\n",
       " 175,\n",
       " 177,\n",
       " 179,\n",
       " 181,\n",
       " 183,\n",
       " 185,\n",
       " 187,\n",
       " 189,\n",
       " 191,\n",
       " 193,\n",
       " 195,\n",
       " 197,\n",
       " 199]"
      ]
     },
     "execution_count": 4,
     "metadata": {},
     "output_type": "execute_result"
    }
   ],
   "source": [
    "n = 100\n",
    "range (1, n*2, 2)"
   ]
  },
  {
   "cell_type": "code",
   "execution_count": null,
   "metadata": {
    "collapsed": true
   },
   "outputs": [],
   "source": []
  }
 ],
 "metadata": {
  "kernelspec": {
   "display_name": "Python [Root]",
   "language": "python",
   "name": "Python [Root]"
  },
  "language_info": {
   "codemirror_mode": {
    "name": "ipython",
    "version": 2
   },
   "file_extension": ".py",
   "mimetype": "text/x-python",
   "name": "python",
   "nbconvert_exporter": "python",
   "pygments_lexer": "ipython2",
   "version": "2.7.12"
  }
 },
 "nbformat": 4,
 "nbformat_minor": 0
}
