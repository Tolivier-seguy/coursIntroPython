{
 "cells": [
  {
   "cell_type": "code",
   "execution_count": 3,
   "metadata": {
    "collapsed": true
   },
   "outputs": [],
   "source": [
    "from __future__ import print_function"
   ]
  },
  {
   "cell_type": "markdown",
   "metadata": {},
   "source": [
    "# Introduction"
   ]
  },
  {
   "cell_type": "markdown",
   "metadata": {},
   "source": [
    "Exemple de *list comprehension* :"
   ]
  },
  {
   "cell_type": "code",
   "execution_count": 1,
   "metadata": {
    "collapsed": false
   },
   "outputs": [
    {
     "data": {
      "text/plain": [
       "[1, 4, 9, 16, 25, 36, 49, 64, 81]"
      ]
     },
     "execution_count": 1,
     "metadata": {},
     "output_type": "execute_result"
    }
   ],
   "source": [
    "[x**2 for x in range(1,10)]"
   ]
  },
  {
   "cell_type": "code",
   "execution_count": 3,
   "metadata": {
    "collapsed": false
   },
   "outputs": [
    {
     "data": {
      "text/plain": [
       "[1, 4, 9, 16, 25, 36, 49, 64, 81]"
      ]
     },
     "execution_count": 3,
     "metadata": {},
     "output_type": "execute_result"
    }
   ],
   "source": [
    "carre = []\n",
    "for x in range(1,10):\n",
    "    carre.append(x**2)\n",
    "carre"
   ]
  },
  {
   "cell_type": "code",
   "execution_count": 4,
   "metadata": {
    "collapsed": false
   },
   "outputs": [
    {
     "data": {
      "text/plain": [
       "[25, 36, 49, 64, 81]"
      ]
     },
     "execution_count": 4,
     "metadata": {},
     "output_type": "execute_result"
    }
   ],
   "source": [
    "[x**2 for x in range(1,10) if x**2 > 20]"
   ]
  },
  {
   "cell_type": "markdown",
   "metadata": {},
   "source": [
    "# Question 1.1"
   ]
  },
  {
   "cell_type": "markdown",
   "metadata": {},
   "source": [
    "Attention, avec `range`, il faut faire attention au fait que le 100e terme de la suite des entiers positifs impairs est 199, donc nous devons aller de 1 à 200 :"
   ]
  },
  {
   "cell_type": "code",
   "execution_count": 11,
   "metadata": {
    "collapsed": false
   },
   "outputs": [
    {
     "data": {
      "text/plain": [
       "50"
      ]
     },
     "execution_count": 11,
     "metadata": {},
     "output_type": "execute_result"
    }
   ],
   "source": [
    "impairs = range(1, 100, 2)\n",
    "len(impairs)"
   ]
  },
  {
   "cell_type": "code",
   "execution_count": 12,
   "metadata": {
    "collapsed": false
   },
   "outputs": [
    {
     "data": {
      "text/plain": [
       "100"
      ]
     },
     "execution_count": 12,
     "metadata": {},
     "output_type": "execute_result"
    }
   ],
   "source": [
    "impairs = range(1, 200, 2)\n",
    "len (impairs)"
   ]
  },
  {
   "cell_type": "markdown",
   "metadata": {},
   "source": [
    "Si nous devions le faire avec une boucle :"
   ]
  },
  {
   "cell_type": "code",
   "execution_count": 15,
   "metadata": {
    "collapsed": false
   },
   "outputs": [
    {
     "name": "stdout",
     "output_type": "stream",
     "text": [
      "[1, 3, 5, 7, 9, 11, 13, 15, 17, 19, 21, 23, 25, 27, 29, 31, 33, 35, 37, 39, 41, 43, 45, 47, 49, 51, 53, 55, 57, 59, 61, 63, 65, 67, 69, 71, 73, 75, 77, 79, 81, 83, 85, 87, 89, 91, 93, 95, 97, 99, 101, 103, 105, 107, 109, 111, 113, 115, 117, 119, 121, 123, 125, 127, 129, 131, 133, 135, 137, 139, 141, 143, 145, 147, 149, 151, 153, 155, 157, 159, 161, 163, 165, 167, 169, 171, 173, 175, 177, 179, 181, 183, 185, 187, 189, 191, 193, 195, 197, 199]\n"
     ]
    }
   ],
   "source": [
    "impairs = [] \n",
    "for i in range(1,200):\n",
    "    if i % 2 == 1: # i est impair\n",
    "        impairs.append(i)\n",
    "print (impairs)"
   ]
  },
  {
   "cell_type": "markdown",
   "metadata": {},
   "source": [
    "Avec la définition des entiers impairs $i = 2n+1$"
   ]
  },
  {
   "cell_type": "code",
   "execution_count": 17,
   "metadata": {
    "collapsed": false
   },
   "outputs": [
    {
     "name": "stdout",
     "output_type": "stream",
     "text": [
      "[1, 3, 5, 7, 9, 11, 13, 15, 17, 19, 21, 23, 25, 27, 29, 31, 33, 35, 37, 39, 41, 43, 45, 47, 49, 51, 53, 55, 57, 59, 61, 63, 65, 67, 69, 71, 73, 75, 77, 79, 81, 83, 85, 87, 89, 91, 93, 95, 97, 99, 101, 103, 105, 107, 109, 111, 113, 115, 117, 119, 121, 123, 125, 127, 129, 131, 133, 135, 137, 139, 141, 143, 145, 147, 149, 151, 153, 155, 157, 159, 161, 163, 165, 167, 169, 171, 173, 175, 177, 179, 181, 183, 185, 187, 189, 191, 193, 195, 197, 199]\n"
     ]
    }
   ],
   "source": [
    "impairs = []\n",
    "for i in range(100):\n",
    "    impairs.append(2*i+1)\n",
    "print(impairs)"
   ]
  },
  {
   "cell_type": "markdown",
   "metadata": {},
   "source": [
    "# Question 1.2"
   ]
  },
  {
   "cell_type": "code",
   "execution_count": 19,
   "metadata": {
    "collapsed": false
   },
   "outputs": [
    {
     "name": "stdout",
     "output_type": "stream",
     "text": [
      "[1, 1, 2, 3, 5, 8, 13, 21, 34, 55, 89, 144, 233, 377, 610, 987, 1597, 2584, 4181, 6765, 10946, 17711, 28657, 46368, 75025, 121393, 196418, 317811, 514229, 832040, 1346269, 2178309, 3524578, 5702887, 9227465, 14930352, 24157817, 39088169, 63245986, 102334155, 165580141, 267914296, 433494437, 701408733, 1134903170, 1836311903, 2971215073, 4807526976, 7778742049, 12586269025, 20365011074, 32951280099, 53316291173, 86267571272, 139583862445, 225851433717, 365435296162, 591286729879, 956722026041, 1548008755920, 2504730781961, 4052739537881, 6557470319842, 10610209857723, 17167680177565, 27777890035288, 44945570212853, 72723460248141, 117669030460994, 190392490709135, 308061521170129, 498454011879264, 806515533049393, 1304969544928657, 2111485077978050, 3416454622906707, 5527939700884757, 8944394323791464, 14472334024676221, 23416728348467685, 37889062373143906, 61305790721611591, 99194853094755497, 160500643816367088, 259695496911122585, 420196140727489673, 679891637638612258, 1100087778366101931, 1779979416004714189, 2880067194370816120, 4660046610375530309, 7540113804746346429, 12200160415121876738L, 19740274219868223167L, 31940434634990099905L, 51680708854858323072L, 83621143489848422977L, 135301852344706746049L, 218922995834555169026L, 354224848179261915075L]\n",
      "100\n"
     ]
    }
   ],
   "source": [
    "fibo = []\n",
    "a, b = 0, 1\n",
    "while len(fibo) < 100:\n",
    "    fibo.append(b)\n",
    "    a, b = b, a+b\n",
    "print (fibo)\n",
    "print (len(fibo))"
   ]
  },
  {
   "cell_type": "markdown",
   "metadata": {},
   "source": [
    "# Question 1.3"
   ]
  },
  {
   "cell_type": "code",
   "execution_count": 26,
   "metadata": {
    "collapsed": false
   },
   "outputs": [
    {
     "name": "stdout",
     "output_type": "stream",
     "text": [
      "100\n",
      "69283081864224717136290077681328518273399124385204820718966040597691435587278383112277161967532530675374170857404743017623467220361778016172106855838975759985190398725\n"
     ]
    }
   ],
   "source": [
    "fibo = []\n",
    "a, b = 0, 1\n",
    "while len(fibo) < 100:\n",
    "    if b % 7 == 0:\n",
    "        fibo.append(b)\n",
    "    a, b = b, a+b\n",
    "print (len(fibo))\n",
    "print (fibo[-1])"
   ]
  },
  {
   "cell_type": "code",
   "execution_count": 27,
   "metadata": {
    "collapsed": false
   },
   "outputs": [
    {
     "data": {
      "text/plain": [
       "167"
      ]
     },
     "execution_count": 27,
     "metadata": {},
     "output_type": "execute_result"
    }
   ],
   "source": [
    "len('69283081864224717136290077681328518273399124385204820718966040597691435587278383112277161967532530675374170857404743017623467220361778016172106855838975759985190398725')"
   ]
  },
  {
   "cell_type": "markdown",
   "metadata": {},
   "source": [
    "# Question 2.1"
   ]
  },
  {
   "cell_type": "code",
   "execution_count": 2,
   "metadata": {
    "collapsed": false
   },
   "outputs": [
    {
     "name": "stdout",
     "output_type": "stream",
     "text": [
      "('le parametre', 'a', \"n'est pas un entier\")\n",
      "[1, 2, 5, 10]\n"
     ]
    }
   ],
   "source": [
    "def diviseurs(n):\n",
    "    \"\"\"Diviseurs renvoie la liste des diviseurs\n",
    "    de l'entier n passé en paramètre\"\"\"\n",
    "    if type(n) is not int:\n",
    "        print (\"le parametre\", n, \"n'est pas un entier\")\n",
    "        return\n",
    "    \n",
    "    div = [1]\n",
    "    for d in range(2, n/2+1):\n",
    "        if n % d == 0:\n",
    "            div.append(d)\n",
    "    div.append(n)\n",
    "    \n",
    "    return div\n",
    "    \n",
    "diviseurs('a')\n",
    "d = diviseurs(10)\n",
    "print (d)"
   ]
  },
  {
   "cell_type": "markdown",
   "metadata": {},
   "source": [
    "# Question 2.2"
   ]
  },
  {
   "cell_type": "code",
   "execution_count": 5,
   "metadata": {
    "collapsed": false
   },
   "outputs": [
    {
     "name": "stdout",
     "output_type": "stream",
     "text": [
      "Est ce que 57 est premier ? False\n",
      "Est ce que 13 est premier ? True\n",
      "Est ce que -13 est premier ? False\n"
     ]
    }
   ],
   "source": [
    "def est_premier(n):\n",
    "    \"\"\"Teste si l'entier positif est premier\"\"\"\n",
    "    if n <= 1:\n",
    "        return False\n",
    "    if len(diviseurs(n)) == 2:\n",
    "        return True\n",
    "    else:\n",
    "        return False\n",
    "\n",
    "print ('Est ce que', 57, 'est premier ?', est_premier(57))\n",
    "print ('Est ce que', 13, 'est premier ?', est_premier(13))\n",
    "print ('Est ce que', -13, 'est premier ?', est_premier(-13))"
   ]
  },
  {
   "cell_type": "markdown",
   "metadata": {
    "collapsed": true
   },
   "source": [
    "# Question 2.3"
   ]
  },
  {
   "cell_type": "code",
   "execution_count": 11,
   "metadata": {
    "collapsed": false
   },
   "outputs": [
    {
     "name": "stdout",
     "output_type": "stream",
     "text": [
      "la liste des nombres premiers inférieurs à 20 est [2, 3, 5, 7, 11, 13, 17, 19]\n",
      "vérifions avec n=-20 : []\n",
      "vérifions avec n=1 : []\n",
      "vérifions avec n=1000 : [2, 3, 5, 7, 11, 13, 17, 19, 23, 29, 31, 37, 41, 43, 47, 53, 59, 61, 67, 71, 73, 79, 83, 89, 97, 101, 103, 107, 109, 113, 127, 131, 137, 139, 149, 151, 157, 163, 167, 173, 179, 181, 191, 193, 197, 199, 211, 223, 227, 229, 233, 239, 241, 251, 257, 263, 269, 271, 277, 281, 283, 293, 307, 311, 313, 317, 331, 337, 347, 349, 353, 359, 367, 373, 379, 383, 389, 397, 401, 409, 419, 421, 431, 433, 439, 443, 449, 457, 461, 463, 467, 479, 487, 491, 499, 503, 509, 521, 523, 541, 547, 557, 563, 569, 571, 577, 587, 593, 599, 601, 607, 613, 617, 619, 631, 641, 643, 647, 653, 659, 661, 673, 677, 683, 691, 701, 709, 719, 727, 733, 739, 743, 751, 757, 761, 769, 773, 787, 797, 809, 811, 821, 823, 827, 829, 839, 853, 857, 859, 863, 877, 881, 883, 887, 907, 911, 919, 929, 937, 941, 947, 953, 967, 971, 977, 983, 991, 997]\n"
     ]
    }
   ],
   "source": [
    "def liste_premiers(n):\n",
    "    \"\"\"Renvoie la liste des nombres premiers inférieurs à l'entier n\"\"\"\n",
    "    prem = []\n",
    "    for i in range(2, n):\n",
    "        if est_premier(i): prem.append(i)\n",
    "    return prem\n",
    "\n",
    "l = liste_premiers(20)\n",
    "print (\"la liste des nombres premiers inférieurs à 20 est\", l)\n",
    "l = liste_premiers(-20)\n",
    "print (\"vérifions avec n=-20 :\", l)\n",
    "l = liste_premiers(1)\n",
    "print (\"vérifions avec n=1 :\", l)\n",
    "l = liste_premiers(1000)\n",
    "print (\"vérifions avec n=1000 :\", l)\n"
   ]
  },
  {
   "cell_type": "markdown",
   "metadata": {},
   "source": [
    "# Question 2.4"
   ]
  },
  {
   "cell_type": "code",
   "execution_count": 3,
   "metadata": {
    "collapsed": false
   },
   "outputs": [
    {
     "name": "stdout",
     "output_type": "stream",
     "text": [
      "('les 3 premiers nombres parfaits sont:', [6, 28, 496])\n",
      "('les 4 premiers nombres parfaits sont:', [6, 28, 496, 8128])\n"
     ]
    }
   ],
   "source": [
    "def liste_parfait(n):\n",
    "    \"\"\"Liste les n premiers nombres parfaits, qui sont égaux\n",
    "    à la somme de leurs diviseurs outre eux-même\"\"\"\n",
    "    parfaits = [6]\n",
    "    i = 7\n",
    "    while len(parfaits) < n:\n",
    "        liste_diviseurs = diviseurs(i)\n",
    "        somme = 0\n",
    "        for j in range(len(liste_diviseurs)-1):\n",
    "            somme = somme + liste_diviseurs[j]\n",
    "        if somme == i:\n",
    "            parfaits.append(i)\n",
    "        i = i + 1\n",
    "    return parfaits\n",
    "\n",
    "print (\"les 3 premiers nombres parfaits sont:\", liste_parfait(3))\n",
    "print (\"les 4 premiers nombres parfaits sont:\", liste_parfait(4))"
   ]
  },
  {
   "cell_type": "markdown",
   "metadata": {},
   "source": [
    "# Pour aller plus loin"
   ]
  },
  {
   "cell_type": "markdown",
   "metadata": {},
   "source": [
    "Le crible d'[Erathosthène](https://fr.wikipedia.org/wiki/%C3%89ratosth%C3%A8ne) : \n",
    "<img src=\"http://paquito.amposta.free.fr/images/eratosth.gif\">\n",
    "\n",
    "Et le site [Project Euler](https://projecteuler.net/) qui permet de tester vos capacités à écrire du code pour résoudre des problèmes plus ou moins compliqués."
   ]
  }
 ],
 "metadata": {
  "kernelspec": {
   "display_name": "Python 2",
   "language": "python",
   "name": "python2"
  },
  "language_info": {
   "codemirror_mode": {
    "name": "ipython",
    "version": 2
   },
   "file_extension": ".py",
   "mimetype": "text/x-python",
   "name": "python",
   "nbconvert_exporter": "python",
   "pygments_lexer": "ipython2",
   "version": "2.7.9"
  }
 },
 "nbformat": 4,
 "nbformat_minor": 0
}
