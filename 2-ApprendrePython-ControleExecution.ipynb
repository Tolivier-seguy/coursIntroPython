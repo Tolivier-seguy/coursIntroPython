{
 "metadata": {
  "name": "",
  "signature": "sha256:f6c14608452fa6d47063a6a6b40d16262b9a7c089c642b4aee1cf442feee0789"
 },
 "nbformat": 3,
 "nbformat_minor": 0,
 "worksheets": [
  {
   "cells": [
    {
     "cell_type": "code",
     "collapsed": false,
     "input": [
      "from __future__ import print_function"
     ],
     "language": "python",
     "metadata": {},
     "outputs": [],
     "prompt_number": 1
    },
    {
     "cell_type": "heading",
     "level": 1,
     "metadata": {},
     "source": [
      "Contr\u00f4les d'ex\u00e9cution"
     ]
    },
    {
     "cell_type": "markdown",
     "metadata": {},
     "source": [
      "A part l\u2019instruction `while` que l\u2019on vient de de\u0301couvrir, Python comprend les instructions de contro\u0302le d\u2019exe\u0301cution habituelles connues dans d\u2019autres langages, avec quelques adaptations."
     ]
    },
    {
     "cell_type": "heading",
     "level": 2,
     "metadata": {},
     "source": [
      "Instruction `if`"
     ]
    },
    {
     "cell_type": "markdown",
     "metadata": {},
     "source": [
      "Peut-e\u0302tre l\u2019instruction la plus connue est-elle l\u2019instruction `if`. Par exemple :"
     ]
    },
    {
     "cell_type": "code",
     "collapsed": false,
     "input": [
      "x = int(raw_input(\"Entrez un entier : \"))\n",
      "if x < 0:\n",
      "    x=0\n",
      "    print ('Ne\u0301gatif change\u0301 en ze\u0301ro')\n",
      "elif x == 0: print ('Z\u00e9ro')\n",
      "elif x == 1: print ('Un seul')\n",
      "else: print ('Plus')"
     ],
     "language": "python",
     "metadata": {},
     "outputs": [
      {
       "name": "stdout",
       "output_type": "stream",
       "stream": "stdout",
       "text": [
        "Entrez un entier : 3\n"
       ]
      },
      {
       "output_type": "stream",
       "stream": "stdout",
       "text": [
        "Plus\n"
       ]
      }
     ],
     "prompt_number": 5
    },
    {
     "cell_type": "markdown",
     "metadata": {},
     "source": [
      "Il peut y avoir aucune ou plusieurs sections `elif`, et la section `else` est optionnelle. Le mot-cle\u0301 `elif` est une abre\u0301viation de `else if`, et est utile pour e\u0301viter une indentation excessive. Une se\u0301quence `if ... elif ... elif ...` est un substitut pour les instructions `switch` ou `case` qu\u2019on trouve dans d\u2019autres langages."
     ]
    },
    {
     "cell_type": "heading",
     "level": 2,
     "metadata": {},
     "source": [
      "Instruction `for`"
     ]
    },
    {
     "cell_type": "markdown",
     "metadata": {},
     "source": [
      "L\u2019instruction `for` en Python diffe\u0300re un petit peu de ce que vous avez pu utiliser en C ou en Pascal. Au lieu d\u2019ite\u0301rer toujours dans une progression arithme\u0301tique de nombres (comme en Pascal), ou de laisser l\u2019utilisateur comple\u0300tement libre dans les tests et les pas d\u2019ite\u0301ration (comme en C), l\u2019instruction `for` de Python ite\u0300re parmi les e\u0301le\u0301ments de n\u2019importe quelle se\u0301quence (une liste ou une chai\u0302ne), dans l\u2019ordre ou\u0300 ils apparaissent dans la se\u0301quence. Par exemple :"
     ]
    },
    {
     "cell_type": "code",
     "collapsed": false,
     "input": [
      "# Mesurer quelques chai\u0302nes de caract\u00e8res:\n",
      "liste = ['chat', 'fenetre', 'defenestrer']\n",
      "for chaine in liste:\n",
      "    print (chaine, len(chaine))"
     ],
     "language": "python",
     "metadata": {},
     "outputs": [
      {
       "output_type": "stream",
       "stream": "stdout",
       "text": [
        "chat 4\n",
        "fenetre 7\n",
        "defenestrer 11\n"
       ]
      }
     ],
     "prompt_number": 6
    },
    {
     "cell_type": "markdown",
     "metadata": {},
     "source": [
      "Il n\u2019est pas prudent de modifier la se\u0301quence sur laquelle on ite\u0300re dans la boucle (cela peut seulement arriver pour les types de se\u0301quences modifiables, tels que les listes). Si vous avez besoin de modifier la liste sur laquelle vous ite\u0301rez (par exemple, pour dupliquer des e\u0301le\u0301ments se\u0301lectionne\u0301s), vous devez ite\u0301rer sur une copie. La notation de de\u0301coupage rend cela particulie\u0300rement pratique :"
     ]
    },
    {
     "cell_type": "code",
     "collapsed": false,
     "input": [
      "for x in a[:]: # fait une copie de la liste entie\u0300re par de\u0301coupage\n",
      "    if len(x) > 8: a.insert(0, x)\n",
      "        \n",
      "print (a)"
     ],
     "language": "python",
     "metadata": {},
     "outputs": [
      {
       "output_type": "stream",
       "stream": "stdout",
       "text": [
        "['defenestrer', 'chat', 'fenetre', 'defenestrer']\n"
       ]
      }
     ],
     "prompt_number": 4
    },
    {
     "cell_type": "heading",
     "level": 2,
     "metadata": {},
     "source": [
      "La fonction `range`"
     ]
    },
    {
     "cell_type": "markdown",
     "metadata": {},
     "source": [
      "Si vous avez besoin d\u2019ite\u0301rer sur une se\u0301quence de nombres, la fonction inte\u0301gre\u0301e `range()` vient a\u0300 point. Elle ge\u0301ne\u0300re des listes contenant des progressions arithme\u0301tiques :"
     ]
    },
    {
     "cell_type": "code",
     "collapsed": false,
     "input": [
      "range(10)"
     ],
     "language": "python",
     "metadata": {},
     "outputs": [
      {
       "metadata": {},
       "output_type": "pyout",
       "prompt_number": 2,
       "text": [
        "[0, 1, 2, 3, 4, 5, 6, 7, 8, 9]"
       ]
      }
     ],
     "prompt_number": 2
    },
    {
     "cell_type": "markdown",
     "metadata": {},
     "source": [
      "Le nombre de fin qui lui est passe\u0301 n\u2019est jamais dans la liste ge\u0301ne\u0301re\u0301e ; `range(10)` ge\u0301ne\u0300re une liste de 10 valeurs, exactement les indices des e\u0301le\u0301ments d\u2019une se\u0301quence de longueur 10. Il est possible de faire commencer l\u2019intervalle a\u0300 un autre nombre, ou de spe\u0301cifier un incre\u0301ment diffe\u0301rent (me\u0302me ne\u0301gatif) :"
     ]
    },
    {
     "cell_type": "code",
     "collapsed": false,
     "input": [
      "range(5, 10)"
     ],
     "language": "python",
     "metadata": {},
     "outputs": [
      {
       "metadata": {},
       "output_type": "pyout",
       "prompt_number": 6,
       "text": [
        "[5, 6, 7, 8, 9]"
       ]
      }
     ],
     "prompt_number": 6
    },
    {
     "cell_type": "code",
     "collapsed": false,
     "input": [
      "range(0, 10, 3)"
     ],
     "language": "python",
     "metadata": {},
     "outputs": [
      {
       "metadata": {},
       "output_type": "pyout",
       "prompt_number": 7,
       "text": [
        "[0, 3, 6, 9]"
       ]
      }
     ],
     "prompt_number": 7
    },
    {
     "cell_type": "code",
     "collapsed": false,
     "input": [
      "range(-10, -100, -30)"
     ],
     "language": "python",
     "metadata": {},
     "outputs": [
      {
       "metadata": {},
       "output_type": "pyout",
       "prompt_number": 8,
       "text": [
        "[-10, -40, -70]"
       ]
      }
     ],
     "prompt_number": 8
    },
    {
     "cell_type": "markdown",
     "metadata": {},
     "source": [
      "Habituellement, on combine `for`et `range`de la fa\u00e7on suivante :"
     ]
    },
    {
     "cell_type": "code",
     "collapsed": false,
     "input": [
      "liste = ['chat', 'fenetre', 'defenestrer']\n",
      "for i in range(0, 3, 1):  # comme for (i=0; i<3; i++)\n",
      "    print (liste[i], \"est l'\u00e9l\u00e9ment d'indice\", i)\n",
      "    "
     ],
     "language": "python",
     "metadata": {},
     "outputs": [
      {
       "output_type": "stream",
       "stream": "stdout",
       "text": [
        "chat est l'\u00e9l\u00e9ment d'indice 0\n",
        "fenetre est l'\u00e9l\u00e9ment d'indice 1\n",
        "defenestrer est l'\u00e9l\u00e9ment d'indice 2\n"
       ]
      }
     ],
     "prompt_number": 9
    },
    {
     "cell_type": "markdown",
     "metadata": {},
     "source": [
      "Pour parcourir les indices d\u2019une se\u0301quence, combinez `range()` et `len()` comme ci-dessous :"
     ]
    },
    {
     "cell_type": "code",
     "collapsed": false,
     "input": [
      "a = ['Le', 'Lion', 'et', 'le', 'Moucheron']\n",
      "for i in range(len(a)):\n",
      "    print (\"L'\u00e9l\u00e9ment d'indice\", i, 'est', a[i])"
     ],
     "language": "python",
     "metadata": {},
     "outputs": [
      {
       "output_type": "stream",
       "stream": "stdout",
       "text": [
        "L'\u00e9l\u00e9ment d'indice 0 est Le\n",
        "L'\u00e9l\u00e9ment d'indice 1 est Lion\n",
        "L'\u00e9l\u00e9ment d'indice 2 est et\n",
        "L'\u00e9l\u00e9ment d'indice 3 est le\n",
        "L'\u00e9l\u00e9ment d'indice 4 est Moucheron\n"
       ]
      }
     ],
     "prompt_number": 10
    },
    {
     "cell_type": "heading",
     "level": 2,
     "metadata": {},
     "source": [
      "Les instructions `break` et `continue`, et les clauses `else` dans les boucles (*)"
     ]
    },
    {
     "cell_type": "markdown",
     "metadata": {},
     "source": [
      "L\u2019instruction `break`, comme en C, sort de la plus petite boucle `for` ou `while` englobante.\n",
      "\n",
      "L\u2019instruction `continue`, e\u0301galement emprunte\u0301e au C, continue sur la prochaine ite\u0301ration de la boucle.\n",
      "\n",
      "Les instructions de boucle ont une clause `else` ; elle est exe\u0301cute\u0301e lorsque la boucle se termine par e\u0301puisement de la liste (avec `for`) ou quand la condition devient fausse (avec `while`), mais pas quand la boucle est interrompue par une instruction `break`. Cela est explique\u0301 dans la boucle suivante, qui recherche des nombres premiers :"
     ]
    },
    {
     "cell_type": "code",
     "collapsed": false,
     "input": [
      "for n in range(2, 10):\n",
      "    for x in range(2, n):\n",
      "        if n % x == 0:\n",
      "            print (n, '\u00e9gale', x, '*', n/x)\n",
      "            break\n",
      "    else:\n",
      "        # la boucle s'est termin\u00e9e sans trouver facteur\n",
      "        print (n, 'est un nombre premier')"
     ],
     "language": "python",
     "metadata": {},
     "outputs": [
      {
       "output_type": "stream",
       "stream": "stdout",
       "text": [
        "2 est un nombre premier\n",
        "3 est un nombre premier\n",
        "4 \u00e9gale 2 * 2\n",
        "5 est un nombre premier\n",
        "6 \u00e9gale 2 * 3\n",
        "7 est un nombre premier\n",
        "8 \u00e9gale 2 * 4\n",
        "9 \u00e9gale 3 * 3\n"
       ]
      }
     ],
     "prompt_number": 10
    },
    {
     "cell_type": "heading",
     "level": 2,
     "metadata": {},
     "source": [
      "L'instruction `pass` (*)"
     ]
    },
    {
     "cell_type": "markdown",
     "metadata": {},
     "source": [
      "L\u2019instruction `pass` ne fait rien. Elle peut e\u0302tre utilise\u0301e lorsqu\u2019une instruction est requise syntaxiquement mais que le programme ne ne\u0301cessite aucune action. Par exemple :"
     ]
    },
    {
     "cell_type": "code",
     "collapsed": false,
     "input": [
      "n =  10\n",
      "if n > 0:\n",
      "    pass\n",
      "else:\n",
      "    print ('Attention n est n\u00e9gatif')    "
     ],
     "language": "python",
     "metadata": {},
     "outputs": [],
     "prompt_number": 9
    },
    {
     "cell_type": "heading",
     "level": 2,
     "metadata": {},
     "source": [
      "D\u00e9finition de fonctions"
     ]
    },
    {
     "cell_type": "markdown",
     "metadata": {},
     "source": [
      "Nous pouvons cre\u0301er une fonction qui e\u0301crit la se\u0301rie de Fibonacci jusqu\u2019a\u0300 une limite quelconque :"
     ]
    },
    {
     "cell_type": "code",
     "collapsed": false,
     "input": [
      "def fib(n):    # e\u0301crit la se\u0301rie de Fibonacci jusqu\u2019a\u0300 n\n",
      "    \"\"\"Affiche une suite de Fibonacci jusqu'\u00e0 n.\"\"\"\n",
      "    if type(n) != int:\n",
      "        print (\"n n'est pas un entier\")\n",
      "        return\n",
      "    a, b = 0, 1\n",
      "    while b < n:\n",
      "        print (b, end=' ')\n",
      "        a, b = b, a+b\n",
      "        \n",
      "# Maintenant on appelle la fonction qui vient juste d\u2019e\u0302tre de\u0301finie\n",
      "fib(2000)"
     ],
     "language": "python",
     "metadata": {},
     "outputs": [
      {
       "output_type": "stream",
       "stream": "stdout",
       "text": [
        "1 1 2 3 5 8 13 21 34 55 89 144 233 377 610 987 1597 "
       ]
      }
     ],
     "prompt_number": 12
    },
    {
     "cell_type": "markdown",
     "metadata": {},
     "source": [
      "Le mot-cle\u0301 `def` de\u0301bute la *de\u0301finition* d\u2019une fonction. Il doit e\u0302tre suivi par le nom de la fonction et une liste entre parenthe\u0300ses de parame\u0300tres formels. Les instructions qui forment le corps de la fonction commencent sur la ligne suivante, indente\u0301e par une tabulation. La premie\u0300re instruction du corps de la fonction peut e\u0301ventuellement e\u0302tre un texte dans une chai\u0302ne de caracte\u0300res ; cette chai\u0302ne est la chai\u0302ne de documentation de la fonction, ou *docstring*.\n",
      "\n",
      "Il y a des outils qui utilisent les *docstrings* pour ge\u0301ne\u0301rer automatiquement de la documentation papier, ou pour permettre a\u0300 l\u2019utilisateur de naviguer interactivement dans le code ; c\u2019est une bonne technique que d\u2019inclure les *docstrings* dans le code que vous e\u0301crivez, donc essayez de vous y habituer."
     ]
    },
    {
     "cell_type": "code",
     "collapsed": false,
     "input": [
      "fib?"
     ],
     "language": "python",
     "metadata": {},
     "outputs": [],
     "prompt_number": 14
    },
    {
     "cell_type": "markdown",
     "metadata": {},
     "source": [
      "\n",
      "L\u2019*exe\u0301cution* d\u2019une fonction ge\u0301ne\u0300re une nouvelle table de symboles, utilise\u0301e pour les variables locales de la fonction. Plus pre\u0301cise\u0301ment, toutes les affectations de variables dans une fonction stockent la valeur dans la table de symboles locale ; alors que les re\u0301fe\u0301rences a\u0300 des variables regardent en premier dans la table de symboles locale, puis dans la table de symboles globale, et enfin dans la table des noms inte\u0301gre\u0301s. Ainsi, on ne peut affecter directement une valeur aux variables globales a\u0300 l\u2019inte\u0301rieur d\u2019une fonction (a\u0300 moins de les de\u0301clarer avec une instruction `global`), bien qu\u2019on puisse y faire re\u0301fe\u0301rence.\n",
      "\n",
      "Les vrais parame\u0300tres (arguments) d\u2019un appel de fonction sont introduits dans la table de symboles locale de la fonction appele\u0301e quand elle est appele\u0301e ; ainsi, les arguments sont passe\u0301s en utilisant un *passage par valeur*. Quand une fonction appele\u0301e appelle a\u0300 son tour une autre fonction, une nouvelle table de symboles locaux est cre\u0301e\u0301e pour cet appel.\n",
      "La de\u0301finition d\u2019une fonction introduit le nom de la fonction dans la table de symboles courante. La valeur du nom de la fonction a un type qui est reconnu par l\u2019interpre\u0301teur comme une fonction de\u0301finie par l\u2019utilisateur. Cette valeur peut e\u0302tre affecte\u0301e a\u0300 un autre nom qui peut alors e\u0302tre utilise\u0301 aussi comme une fonction. Cela permet de disposer d\u2019un me\u0301canisme ge\u0301ne\u0301ral de renommage :"
     ]
    },
    {
     "cell_type": "code",
     "collapsed": false,
     "input": [
      "fib"
     ],
     "language": "python",
     "metadata": {},
     "outputs": [
      {
       "metadata": {},
       "output_type": "pyout",
       "prompt_number": 13,
       "text": [
        "<function __main__.fib>"
       ]
      }
     ],
     "prompt_number": 13
    },
    {
     "cell_type": "code",
     "collapsed": false,
     "input": [
      "f = fib\n",
      "f(100)"
     ],
     "language": "python",
     "metadata": {},
     "outputs": [
      {
       "output_type": "stream",
       "stream": "stdout",
       "text": [
        "1 1 2 3 5 8 13 21 34 55 89 "
       ]
      }
     ],
     "prompt_number": 15
    },
    {
     "cell_type": "markdown",
     "metadata": {},
     "source": [
      "Nous pourrions noter que `fib` n\u2019est pas une fonction mais une proce\u0301dure. En Python, comme en C, les proce\u0301dures sont juste des fonctions qui ne retournent pas de valeur. En fait, techniquement parlant, les proce\u0301dures retournent bien une valeur, bien qu\u2019elle soit pluto\u0302t de\u0301cevante. Cette valeur est appele\u0301e `None` (c\u2019est un nom inte\u0301gre\u0301). La valeur `None` n\u2019est normalement pas affiche\u0301e par l\u2019interpre\u0301teur si elle devait e\u0302tre la seule valeur e\u0301crite. Vous pouvez le ve\u0301rifier si vous y tenez vraiment :"
     ]
    },
    {
     "cell_type": "code",
     "collapsed": false,
     "input": [
      "print (fib(0))"
     ],
     "language": "python",
     "metadata": {},
     "outputs": [
      {
       "output_type": "stream",
       "stream": "stdout",
       "text": [
        "None\n"
       ]
      }
     ],
     "prompt_number": 16
    },
    {
     "cell_type": "markdown",
     "metadata": {},
     "source": [
      "\u00c9crire une fonction qui retourne une liste des nombres de la suite de Fibonacci, au lieu de les imprimer, est tre\u0300s simple :"
     ]
    },
    {
     "cell_type": "code",
     "collapsed": false,
     "input": [
      "def fib2(n): # retourne la se\u0301rie de Fibonacci jusqu\u2019a\u0300 n\n",
      "    \"\"\"Retourne une liste contenant la s\u00e9rie de Fibonacci jusqu'\u00e0 n.\"\"\"\n",
      "    resultat = []\n",
      "    a, b = 0, 1\n",
      "    while b < n:\n",
      "        resultat.append(b) # voir ci-dessous\n",
      "        a, b = b, a+b\n",
      "    return resultat\n",
      "        \n",
      "f100 = fib2(100)  # Appel de la fonction\n",
      "print (f100)      # Affichage du r\u00e9sultat"
     ],
     "language": "python",
     "metadata": {},
     "outputs": [
      {
       "output_type": "stream",
       "stream": "stdout",
       "text": [
        "[1, 1, 2, 3, 5, 8, 13, 21, 34, 55, 89]\n"
       ]
      }
     ],
     "prompt_number": 22
    },
    {
     "cell_type": "markdown",
     "metadata": {},
     "source": [
      "Cet exemple, comme d\u2019habitude, de\u0301montre quelques nouvelles caracte\u0301ristiques de Python :\n",
      "\n",
      "- L\u2019instruction `return` termine une fonction en renvoyant une valeur. `return` sans une expression en argument renvoie `None`. Parvenir jusqu\u2019au bout de la proce\u0301dure renvoie e\u0301galement `None`.\n",
      "- L\u2019instruction `resultat.append(b)` appelle une me\u0301thode de l\u2019objet `resultat`. Une me\u0301thode est une fonction qui \"appartient\" a\u0300 un objet et est nomme\u0301e `obj.nommethode`, ou\u0300 `obj` est un objet (cela pourrait e\u0302tre une expression), et `nommethode` est le nom d\u2019une me\u0301thode qui est de\u0301finie d\u2019apre\u0300s le type de l\u2019objet. Diffe\u0301rents types de\u0301finissent diffe\u0301rentes me\u0301thodes. Les me\u0301thodes de types diffe\u0301rents peuvent avoir le me\u0302me nom sans que cela soit source d\u2019ambigui\u0308te\u0301s. (Il est possible de de\u0301finir vos propres types d\u2019objets et me\u0301thodes, en utilisant des classes, mais cela sort du cadre de ce cours.) La me\u0301thode `append()` montre\u0301e pre\u0301ce\u0301demment, est de\u0301finie pour les objets listes ; elle ajoute un nouvel e\u0301le\u0301ment a\u0300 la fin de la liste. Dans cet exemple, c\u2019est e\u0301quivalent a\u0300 `result = result + [b]`, mais en plus performant."
     ]
    },
    {
     "cell_type": "heading",
     "level": 2,
     "metadata": {},
     "source": [
      "Encore plus sur la de\u0301finition de fonctions"
     ]
    },
    {
     "cell_type": "markdown",
     "metadata": {},
     "source": [
      "Il est aussi possible de de\u0301finir des fonctions a\u0300 nombre d\u2019arguments variable. Il y a trois fac\u0327ons de faire, qui peuvent e\u0302tre combine\u0301es."
     ]
    },
    {
     "cell_type": "heading",
     "level": 3,
     "metadata": {},
     "source": [
      "Valeurs d\u2019argument par de\u0301faut"
     ]
    },
    {
     "cell_type": "markdown",
     "metadata": {},
     "source": [
      "La technique la plus utile consiste a\u0300 spe\u0301cifier une valeur par de\u0301faut pour un ou plusieurs arguments. Cela cre\u0301e une fonction qui peut e\u0302tre appele\u0301e avec moins d\u2019arguments qu\u2019il n\u2019en a e\u0301te\u0301 de\u0301fini."
     ]
    },
    {
     "cell_type": "code",
     "collapsed": false,
     "input": [
      "def demande_ok(question, tentatives=3, plainte='Oui ou non, svp!'):\n",
      "    while 1:\n",
      "        ok = raw_input(question)\n",
      "        if ok in ('o', 'ou', 'oui'): return 1\n",
      "        if ok in ('n', 'no', 'non', 'niet'): return 0\n",
      "        tentatives = tentatives - 1\n",
      "        if tentatives < 0: raise IOError, 'utilisateur refusenik'\n",
      "        print (plainte)\n",
      "        \n",
      "# Cette fonction peut e\u0302tre appele\u0301e soit comme ceci :\n",
      "demande_ok('Etes vous su\u0302r de vouloir quitter?')\n",
      "# ou comme ceci\n",
      "demande_ok('OK pour e\u0301crasement du fichier?', 2)"
     ],
     "language": "python",
     "metadata": {},
     "outputs": [
      {
       "name": "stdout",
       "output_type": "stream",
       "stream": "stdout",
       "text": [
        "Etes vous su\u0302r de vouloir quitter?nein\n"
       ]
      },
      {
       "output_type": "stream",
       "stream": "stdout",
       "text": [
        "Oui ou non, svp!\n"
       ]
      },
      {
       "name": "stdout",
       "output_type": "stream",
       "stream": "stdout",
       "text": [
        "Etes vous su\u0302r de vouloir quitter?nonn\n"
       ]
      },
      {
       "output_type": "stream",
       "stream": "stdout",
       "text": [
        "Oui ou non, svp!\n"
       ]
      },
      {
       "name": "stdout",
       "output_type": "stream",
       "stream": "stdout",
       "text": [
        "Etes vous su\u0302r de vouloir quitter?non\n"
       ]
      },
      {
       "name": "stdout",
       "output_type": "stream",
       "stream": "stdout",
       "text": [
        "OK pour e\u0301crasement du fichier?nein\n"
       ]
      },
      {
       "output_type": "stream",
       "stream": "stdout",
       "text": [
        "Oui ou non, svp!\n"
       ]
      },
      {
       "name": "stdout",
       "output_type": "stream",
       "stream": "stdout",
       "text": [
        "OK pour e\u0301crasement du fichier?nonn\n"
       ]
      },
      {
       "output_type": "stream",
       "stream": "stdout",
       "text": [
        "Oui ou non, svp!\n"
       ]
      },
      {
       "name": "stdout",
       "output_type": "stream",
       "stream": "stdout",
       "text": [
        "OK pour e\u0301crasement du fichier?nicht\n"
       ]
      },
      {
       "ename": "IOError",
       "evalue": "utilisateur refusenik",
       "output_type": "pyerr",
       "traceback": [
        "\u001b[0;31m---------------------------------------------------------------------------\u001b[0m\n\u001b[0;31mIOError\u001b[0m                                   Traceback (most recent call last)",
        "\u001b[0;32m<ipython-input-18-6d96d9e4348d>\u001b[0m in \u001b[0;36m<module>\u001b[0;34m()\u001b[0m\n\u001b[1;32m     11\u001b[0m \u001b[0mdemande_ok\u001b[0m\u001b[0;34m(\u001b[0m\u001b[0;34m'Etes vous su\u0302r de vouloir quitter?'\u001b[0m\u001b[0;34m)\u001b[0m\u001b[0;34m\u001b[0m\u001b[0m\n\u001b[1;32m     12\u001b[0m \u001b[0;31m# ou comme ceci\u001b[0m\u001b[0;34m\u001b[0m\u001b[0;34m\u001b[0m\u001b[0m\n\u001b[0;32m---> 13\u001b[0;31m \u001b[0mdemande_ok\u001b[0m\u001b[0;34m(\u001b[0m\u001b[0;34m'OK pour e\u0301crasement du fichier?'\u001b[0m\u001b[0;34m,\u001b[0m \u001b[0;36m2\u001b[0m\u001b[0;34m)\u001b[0m\u001b[0;34m\u001b[0m\u001b[0m\n\u001b[0m",
        "\u001b[0;32m<ipython-input-18-6d96d9e4348d>\u001b[0m in \u001b[0;36mdemande_ok\u001b[0;34m(question, tentatives, plainte)\u001b[0m\n\u001b[1;32m      5\u001b[0m         \u001b[0;32mif\u001b[0m \u001b[0mok\u001b[0m \u001b[0;32min\u001b[0m \u001b[0;34m(\u001b[0m\u001b[0;34m'n'\u001b[0m\u001b[0;34m,\u001b[0m \u001b[0;34m'no'\u001b[0m\u001b[0;34m,\u001b[0m \u001b[0;34m'non'\u001b[0m\u001b[0;34m,\u001b[0m \u001b[0;34m'niet'\u001b[0m\u001b[0;34m)\u001b[0m\u001b[0;34m:\u001b[0m \u001b[0;32mreturn\u001b[0m \u001b[0;36m0\u001b[0m\u001b[0;34m\u001b[0m\u001b[0m\n\u001b[1;32m      6\u001b[0m         \u001b[0mtentatives\u001b[0m \u001b[0;34m=\u001b[0m \u001b[0mtentatives\u001b[0m \u001b[0;34m-\u001b[0m \u001b[0;36m1\u001b[0m\u001b[0;34m\u001b[0m\u001b[0m\n\u001b[0;32m----> 7\u001b[0;31m         \u001b[0;32mif\u001b[0m \u001b[0mtentatives\u001b[0m \u001b[0;34m<\u001b[0m \u001b[0;36m0\u001b[0m\u001b[0;34m:\u001b[0m \u001b[0;32mraise\u001b[0m \u001b[0mIOError\u001b[0m\u001b[0;34m,\u001b[0m \u001b[0;34m'utilisateur refusenik'\u001b[0m\u001b[0;34m\u001b[0m\u001b[0m\n\u001b[0m\u001b[1;32m      8\u001b[0m         \u001b[0;32mprint\u001b[0m \u001b[0;34m(\u001b[0m\u001b[0mplainte\u001b[0m\u001b[0;34m)\u001b[0m\u001b[0;34m\u001b[0m\u001b[0m\n\u001b[1;32m      9\u001b[0m \u001b[0;34m\u001b[0m\u001b[0m\n",
        "\u001b[0;31mIOError\u001b[0m: utilisateur refusenik"
       ]
      }
     ],
     "prompt_number": 18
    },
    {
     "cell_type": "markdown",
     "metadata": {},
     "source": [
      "Les valeurs par de\u0301faut sont e\u0301value\u0301es au moment de la de\u0301finition de la fonction dans la porte\u0301e de de\u0301finition, ainsi:"
     ]
    },
    {
     "cell_type": "code",
     "collapsed": false,
     "input": [
      "i=5\n",
      "def f (arg = i):\n",
      "    print (arg)\n",
      "    \n",
      "i = 6\n",
      "f()"
     ],
     "language": "python",
     "metadata": {},
     "outputs": [
      {
       "output_type": "stream",
       "stream": "stdout",
       "text": [
        "5\n"
       ]
      }
     ],
     "prompt_number": 18
    },
    {
     "cell_type": "markdown",
     "metadata": {},
     "source": [
      "**Avertissement important (\\*\\*)** : La valeur par de\u0301faut est e\u0301value\u0301e seulement une fois. Cela est important lorsque la valeur par de\u0301faut est un objet modifiable comme une liste ou un dictionnaire. Par exemple, la fonction suivante accumule les arguments qui lui sont passe\u0301s au fur et a\u0300 mesure des appels :"
     ]
    },
    {
     "cell_type": "code",
     "collapsed": false,
     "input": [
      "def f(a, L=[]):\n",
      "    L.append(a)\n",
      "    return L\n",
      "\n",
      "print (f(1))\n",
      "print (f(2))\n",
      "print (f(3))"
     ],
     "language": "python",
     "metadata": {},
     "outputs": [
      {
       "output_type": "stream",
       "stream": "stdout",
       "text": [
        "[1]\n",
        "[1, 2]\n",
        "[1, 2, 3]\n"
       ]
      }
     ],
     "prompt_number": 19
    },
    {
     "cell_type": "markdown",
     "metadata": {},
     "source": [
      "Si vous ne voulez pas que la valeur par de\u0301faut soit partage\u0301e entre des appels successifs, vous pouvez pluto\u0302t e\u0301crire la fonction comme ceci :"
     ]
    },
    {
     "cell_type": "code",
     "collapsed": false,
     "input": [
      "def f(a, L=None):\n",
      "    if L is None:\n",
      "        L = []\n",
      "    L.append(a)\n",
      "    return L"
     ],
     "language": "python",
     "metadata": {},
     "outputs": [],
     "prompt_number": 20
    },
    {
     "cell_type": "heading",
     "level": 3,
     "metadata": {},
     "source": [
      "Argument \u00e0 mot-cl\u00e9"
     ]
    },
    {
     "cell_type": "markdown",
     "metadata": {},
     "source": [
      "Les fonctions peuvent aussi e\u0302tre appele\u0301es en utilisant des arguments mots-cle\u0301s de la forme `motcle = valeur`. Par exemple, la fonction suivante :"
     ]
    },
    {
     "cell_type": "code",
     "collapsed": false,
     "input": [
      "def mafonc(x, p=2, debug=False):\n",
      "    \"\"\"\n",
      "    Calcule x \u00e0 la puissance p. p vaut 2 par d\u00e9faut.\n",
      "    \"\"\"\n",
      "    if debug:\n",
      "        print(\"evaluation de mafonc pour x = \" + str(x) + \n",
      "              \" en utilisant comme exposant p = \" + str(p))\n",
      "    return x**p"
     ],
     "language": "python",
     "metadata": {},
     "outputs": [],
     "prompt_number": 19
    },
    {
     "cell_type": "markdown",
     "metadata": {},
     "source": [
      "pourrait \u00eatre appel\u00e9e de l'une des fa\u00e7on suivante:"
     ]
    },
    {
     "cell_type": "code",
     "collapsed": false,
     "input": [
      "print ('Le r\u00e9sultat est :', mafonc(5))"
     ],
     "language": "python",
     "metadata": {},
     "outputs": [
      {
       "output_type": "stream",
       "stream": "stdout",
       "text": [
        "Le r\u00e9sultat est : 25\n"
       ]
      }
     ],
     "prompt_number": 22
    },
    {
     "cell_type": "code",
     "collapsed": false,
     "input": [
      "mafonc(5, 3, False)"
     ],
     "language": "python",
     "metadata": {},
     "outputs": [
      {
       "metadata": {},
       "output_type": "pyout",
       "prompt_number": 23,
       "text": [
        "125"
       ]
      }
     ],
     "prompt_number": 23
    },
    {
     "cell_type": "code",
     "collapsed": false,
     "input": [
      "mafonc(5, debug=True)"
     ],
     "language": "python",
     "metadata": {},
     "outputs": [
      {
       "output_type": "stream",
       "stream": "stdout",
       "text": [
        "evaluation de mafonc pour x = 5 en utilisant comme exposant p = 2\n"
       ]
      },
      {
       "metadata": {},
       "output_type": "pyout",
       "prompt_number": 24,
       "text": [
        "25"
       ]
      }
     ],
     "prompt_number": 24
    },
    {
     "cell_type": "code",
     "collapsed": false,
     "input": [
      "mafonc(p=3, debug=True, x=7)"
     ],
     "language": "python",
     "metadata": {},
     "outputs": [
      {
       "output_type": "stream",
       "stream": "stdout",
       "text": [
        "evaluation de mafonc pour x = 7 en utilisant comme exposant p = 3\n"
       ]
      },
      {
       "metadata": {},
       "output_type": "pyout",
       "prompt_number": 26,
       "text": [
        "343"
       ]
      }
     ],
     "prompt_number": 26
    },
    {
     "cell_type": "markdown",
     "metadata": {},
     "source": [
      "En ge\u0301ne\u0301ral, une liste d\u2019arguments doit e\u0302tre constitue\u0301e de tous les arguments de position, suivis de tous les arguments mots-cle\u0301s, ou\u0300 ces mots-cle\u0301s doivent e\u0302tre choisis parmi les noms des parame\u0300tres formels. Il n\u2019est pas important qu\u2019un parame\u0300tre formel ait une valeur par de\u0301faut ou non. Aucun argument ne peut recevoir une valeur plus d\u2019une fois - les noms de parame\u0300tre formel correspondant aux arguments de position ne peuvent e\u0302tre utilise\u0301s comme mots-cle\u0301s dans les me\u0302mes appels."
     ]
    },
    {
     "cell_type": "code",
     "collapsed": false,
     "input": [
      "def function(a):\n",
      "    pass\n",
      "\n",
      "function(0, a=0)"
     ],
     "language": "python",
     "metadata": {},
     "outputs": [
      {
       "ename": "TypeError",
       "evalue": "function() got multiple values for keyword argument 'a'",
       "output_type": "pyerr",
       "traceback": [
        "\u001b[0;31m---------------------------------------------------------------------------\u001b[0m\n\u001b[0;31mTypeError\u001b[0m                                 Traceback (most recent call last)",
        "\u001b[0;32m<ipython-input-27-2346fc3947e2>\u001b[0m in \u001b[0;36m<module>\u001b[0;34m()\u001b[0m\n\u001b[1;32m      2\u001b[0m     \u001b[0;32mpass\u001b[0m\u001b[0;34m\u001b[0m\u001b[0m\n\u001b[1;32m      3\u001b[0m \u001b[0;34m\u001b[0m\u001b[0m\n\u001b[0;32m----> 4\u001b[0;31m \u001b[0mfunction\u001b[0m\u001b[0;34m(\u001b[0m\u001b[0;36m0\u001b[0m\u001b[0;34m,\u001b[0m \u001b[0ma\u001b[0m\u001b[0;34m=\u001b[0m\u001b[0;36m0\u001b[0m\u001b[0;34m)\u001b[0m\u001b[0;34m\u001b[0m\u001b[0m\n\u001b[0m",
        "\u001b[0;31mTypeError\u001b[0m: function() got multiple values for keyword argument 'a'"
       ]
      }
     ],
     "prompt_number": 27
    },
    {
     "cell_type": "markdown",
     "metadata": {},
     "source": [
      "Quand un parame\u0300tre formel de la forme `**nom` est pre\u0301sent en dernie\u0300re position, il rec\u0327oit un dictionnaire contenant tous les arguments mots-cle\u0301s dont les mots-cle\u0301s ne correspondent pas a\u0300 un parame\u0300tre formel. Cela peut e\u0302tre combine\u0301 avec un parame\u0300tre formel de la forme `*nom` (de\u0301crit dans la sous-section suivante) qui rec\u0327oit un tuple contenant les arguments positionnels au-dela\u0300 de la liste de parame\u0300tres formels. (`*nom` doit e\u0302tre place\u0301 avant `**nom`.) Par exemple, nous de\u0301finissons une fonction comme ceci :"
     ]
    },
    {
     "cell_type": "code",
     "collapsed": false,
     "input": [
      "def fromagerie(type, *arguments, **motcles):\n",
      "         print (\"-- Avez-vous du\", type, '?')\n",
      "         print (\"-- Je suis de\u0301sole\u0301, plus personne n\u2019a de\", type)\n",
      "         for arg in arguments: print (arg)\n",
      "         print ('-'*40)\n",
      "         cles = motcles.keys()\n",
      "         cles.sort()\n",
      "         for mc in cles : print (mc, ':', motcles[mc])"
     ],
     "language": "python",
     "metadata": {},
     "outputs": [],
     "prompt_number": 28
    },
    {
     "cell_type": "markdown",
     "metadata": {},
     "source": [
      "qui pourrait \u00eatre appel\u00e9e comme ceci:"
     ]
    },
    {
     "cell_type": "code",
     "collapsed": false,
     "input": [
      "fromagerie('Camembert', \"Il est tre\u0300s coulant, monsieur.\",\n",
      "                \"Il est vraiment tre\u0300s, TRES coulant, monsieur.\",\n",
      "                client='John Cleese',\n",
      "                proprietaire='Michael Palin',\n",
      "                sketch='Sketch de la Fromagerie')"
     ],
     "language": "python",
     "metadata": {},
     "outputs": [
      {
       "output_type": "stream",
       "stream": "stdout",
       "text": [
        "-- Avez-vous du Camembert ?\n",
        "-- Je suis de\u0301sole\u0301, plus personne n\u2019a de Camembert\n",
        "Il est tre\u0300s coulant, monsieur.\n",
        "Il est vraiment tre\u0300s, TRES coulant, monsieur.\n",
        "----------------------------------------\n",
        "client : John Cleese\n",
        "proprietaire : Michael Palin\n",
        "sketch : Sketch de la Fromagerie\n"
       ]
      }
     ],
     "prompt_number": 29
    },
    {
     "cell_type": "markdown",
     "metadata": {},
     "source": [
      "Notez que la me\u0301thode `sort()` de la liste de des mots-cle\u0301s des noms d\u2019arguments est appele\u0301e avant d\u2019imprimer le contenu du dictionnaire motcles ; si cela n\u2019est pas fait, l\u2019ordre dans lequel les arguments sont imprime\u0301s n\u2019est pas de\u0301fini."
     ]
    },
    {
     "cell_type": "heading",
     "level": 3,
     "metadata": {},
     "source": [
      "Listes d\u2019arguments a\u0300 de\u0301baller (*)"
     ]
    },
    {
     "cell_type": "markdown",
     "metadata": {},
     "source": [
      "La situation inverse se produit lorsque les arguments sont dans une liste ou un n-uplet mais doivent e\u0302tre de\u0301balle\u0301s en vue d\u2019une fonction qui requiert des arguments positionnels se\u0301pare\u0301s. Par exemple, la fonction inte\u0301gre\u0301e `range()` attend deux arguments se\u0301pare\u0301s `start` et `stop`. Si ces derniers ne sont pas disponibles se\u0301pare\u0301ment, e\u0301crivez l\u2019appel de la fonction avec l\u2019ope\u0301rateur `*` afin de de\u0301baller les arguments depuis une liste ou un n-uplet :"
     ]
    },
    {
     "cell_type": "code",
     "collapsed": false,
     "input": [
      "range(3, 6)  # appel normal avec des arguments se\u0301pare\u0301s"
     ],
     "language": "python",
     "metadata": {},
     "outputs": [
      {
       "metadata": {},
       "output_type": "pyout",
       "prompt_number": 30,
       "text": [
        "[3, 4, 5]"
       ]
      }
     ],
     "prompt_number": 30
    },
    {
     "cell_type": "code",
     "collapsed": false,
     "input": [
      "args = [3, 6]\n",
      "range(*args) # appel avec des arguments de\u0301balle\u0301s depuis une liste"
     ],
     "language": "python",
     "metadata": {},
     "outputs": [
      {
       "metadata": {},
       "output_type": "pyout",
       "prompt_number": 31,
       "text": [
        "[3, 4, 5]"
       ]
      }
     ],
     "prompt_number": 31
    },
    {
     "cell_type": "heading",
     "level": 3,
     "metadata": {},
     "source": [
      "Les formes lambda (*)"
     ]
    },
    {
     "cell_type": "markdown",
     "metadata": {},
     "source": [
      "Avec le mot-cle\u0301 `lambda`, de petites fonctions anonymes peuvent e\u0302tre cre\u0301e\u0301es. Voici une fonction qui retourne la somme de ses deux arguments: `lambda a, b : a+b`. Les formes Lambda peuvent e\u0302tre utilise\u0301es chaque fois qu\u2019un objet fonction est requis. Elles sont limite\u0301es syntaxi- quement a\u0300 une expression unique. Se\u0301mantiquement, elles sont juste de l\u2019enrobage syntaxique pour une de\u0301finition de fonction normale. Comme les de\u0301finitions de fonctions imbrique\u0301es, les formes lambda peuvent faire re\u0301fe\u0301rence a\u0300 des variables de la porte\u0301e qui les contient :"
     ]
    },
    {
     "cell_type": "code",
     "collapsed": false,
     "input": [
      "def fabrique_incrementeur(n):\n",
      "    return lambda x, incr=n: x+incr\n",
      "\n",
      "f = fabrique_incrementeur(42)\n",
      "f(0)"
     ],
     "language": "python",
     "metadata": {},
     "outputs": [
      {
       "metadata": {},
       "output_type": "pyout",
       "prompt_number": 24,
       "text": [
        "42"
       ]
      }
     ],
     "prompt_number": 24
    },
    {
     "cell_type": "code",
     "collapsed": false,
     "input": [
      "f(1)"
     ],
     "language": "python",
     "metadata": {},
     "outputs": [
      {
       "metadata": {},
       "output_type": "pyout",
       "prompt_number": 25,
       "text": [
        "43"
       ]
      }
     ],
     "prompt_number": 25
    },
    {
     "cell_type": "markdown",
     "metadata": {},
     "source": [
      "*Fin du cours pour les FA*"
     ]
    },
    {
     "cell_type": "heading",
     "level": 3,
     "metadata": {},
     "source": [
      "Cha\u00eenes de documentation (docstrings)"
     ]
    },
    {
     "cell_type": "markdown",
     "metadata": {},
     "source": [
      "Il existe des conventions e\u0301mergentes a\u0300 propos du contenu et du formatage des chai\u0302nes de documentation. \n",
      "\n",
      "La premie\u0300re ligne devrait toujours e\u0302tre un re\u0301sume\u0301 concis des objectifs de l\u2019objet. Afin d\u2019e\u0302tre bref, il ne devrait pas re\u0301pe\u0301ter explicitement le nom ou le type de l\u2019objet, puisque ces informations sont disponibles par d\u2019autres moyens (sauf si le nom se trouve e\u0302tre un verbe de\u0301crivant l\u2019utilisation d\u2019une fonction). Cette ligne devrait toujours commencer par une lettre majuscule et finir par une virgule.\n",
      "\n",
      "S\u2019il y a d\u2019autres lignes dans la chai\u0302ne de documentation, la deuxie\u0300me ligne devrait e\u0302tre vide, se\u0301parant visuellement le re\u0301sume\u0301 du reste de la description. Les lignes suivantes devraient constituer un ou plusieurs paragraphes de\u0301crivant les conventions d\u2019appel des objets, ses effets de bord, etc.\n",
      "\n",
      "L\u2019interpre\u0301teur python ne supprime pas l\u2019indentation des chai\u0302nes de texte multilignes en Python, donc les outils qui traitent la documentation doivent supprimer l\u2019indentation. Cela peut se faire en utilisant la convention suivante. La premie\u0300re ligne non-vide *apre\u0300s* la premie\u0300re ligne de la chai\u0302ne de\u0301termine la quantite\u0301 d\u2019indentation pour toute la chai\u0302ne de documentation. (On ne peut pas utiliser la premie\u0300re ligne puisqu\u2019elle est ge\u0301ne\u0301ralement adjacente aux quotes ouvrantes de la chai\u0302ne donc son indentation n\u2019est pas apparente dans le texte de la chai\u0302ne.) Les espaces \u201ce\u0301quivalents\u201d a\u0300 cette indentation sont ensuite supprime\u0301s du de\u0301but de toutes les lignes de la chai\u0302ne. Des lignes indente\u0301es de fac\u0327on moins importante ne devraient pas apparai\u0302tre, mais si elles le font, tous leurs espaces en de\u0301but de ligne devraient e\u0302tre supprime\u0301s. L\u2019e\u0301quivalence de l\u2019espacement devrait e\u0302tre teste\u0301e apre\u0300s l\u2019expansion des tabulations (a\u0300 8 espaces, normalement).\n",
      "\n",
      "Voici un exemple de docstring multi-ligne :"
     ]
    },
    {
     "cell_type": "code",
     "collapsed": false,
     "input": [
      "def ma_fonction():\n",
      "    \"\"\"Ne fait rien, mais le documente.\n",
      "    \n",
      "    Non, vraiment elle ne fait rien.\n",
      "    \"\"\"\n",
      "    pass\n",
      "\n",
      "print (ma_fonction.__doc__)"
     ],
     "language": "python",
     "metadata": {},
     "outputs": [
      {
       "output_type": "stream",
       "stream": "stdout",
       "text": [
        "Ne fait rien, mais le documente.\n",
        "    \n",
        "    Non, vraiment elle ne fait rien.\n",
        "    \n"
       ]
      }
     ],
     "prompt_number": 29
    },
    {
     "cell_type": "markdown",
     "metadata": {},
     "source": [
      "*Ce notebook est une adaptation de la traduction fran\u00e7aise, dirig\u00e9e par Olivier Berger et mise \u00e0 jour par Henri Garreta, du tutoriel Python \u00e9dit\u00e9 par Guido van Rossum et Fred L. Drake.*"
     ]
    }
   ],
   "metadata": {}
  }
 ]
}