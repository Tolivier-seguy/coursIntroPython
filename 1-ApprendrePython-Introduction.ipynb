{
 "metadata": {
  "name": "",
  "signature": "sha256:41d947e4bc0b6148025e2c529a407875861bc47c503eaba978c2bdb81ef3285a"
 },
 "nbformat": 3,
 "nbformat_minor": 0,
 "worksheets": [
  {
   "cells": [
    {
     "cell_type": "code",
     "collapsed": false,
     "input": [
      "from __future__ import print_function"
     ],
     "language": "python",
     "metadata": {},
     "outputs": [],
     "prompt_number": 1
    },
    {
     "cell_type": "heading",
     "level": 1,
     "metadata": {},
     "source": [
      "Introduction \u00e0 Python"
     ]
    },
    {
     "cell_type": "heading",
     "level": 2,
     "metadata": {},
     "source": [
      "Propos pr\u00e9liminaires"
     ]
    },
    {
     "cell_type": "heading",
     "level": 3,
     "metadata": {},
     "source": [
      "Pourquoi Python"
     ]
    },
    {
     "cell_type": "markdown",
     "metadata": {},
     "source": [
      "  * Python est simple et rapide \u00e0 comprendre, on peut ensuite se perfectionner pendant longtemps\n",
      "  * Il fonctionne sous diff\u00e9rents OS (Windows, Linux, OS X, Android, iOS, etc)\n",
      "  * De nombreuses biblioth\u00e8ques couvrant des domaines vari\u00e9s, du r\u00e9seau aux interfaces graphiques, des m\u00e9th\u00e9matiques symboliques au traitement du signal (_batteries included_)\n",
      "  * C'est un langage qui est tr\u00e8s facile \u00e0 lire (_write once, read often_)\n",
      "  \n",
      "Pour approfondir vos connaissances en Python, plusieurs livres sont disponibles \u00e0 la biblioth\u00e8que. Il y a \u00e9galement un tutoriel tr\u00e8s bien fait de Guido van Rossum, le cr\u00e9ateur du langage."
     ]
    },
    {
     "cell_type": "heading",
     "level": 3,
     "metadata": {},
     "source": [
      "Installer Python"
     ]
    },
    {
     "cell_type": "markdown",
     "metadata": {},
     "source": [
      "Il y a deux branches de Python, la version 2 et la version 3. Cette dichotomie vient du fait qu'un certain nombre d'am\u00e9liorations n\u00e9cessitaient de casser la r\u00e9tro-compatibilit\u00e9 : lancer un code valide en Python 2.X avec un interpr\u00e9teur en Python 3.Y peut g\u00e9n\u00e9rer des erreurs. Il existe cependant beaucoup d'outils pour convertir automatiquement des codes de Python 2 en Python 3. La transition entre les versions 2 et 3 est pr\u00e9vue sur 5 ans, pour finir en 2016. Aujourd'hui (fin 2014), il est commence \u00e0 devenir plus int\u00e9ressant de travailler en Python 3.\n",
      "\n",
      "Pour installer Python sur votre ordinateur, il existe plusieurs moyens. Je vous recommande d'installer la suite Canopy d'[Entought](https://store.enthought.com/#canopy-academic), qui est gratuite pour les universitaires et payante pour les entreprises. Pour b\u00e9n\u00e9ficier de la version acad\u00e9mique, il faut vous [enregistrer](https://store.enthought.com/accounts/login/?next=/licenses/academic/request/) avec votre adresse mail officielle `ens.uvsq.fr`. \n",
      "\n",
      "Sinon, il existe aussi les alternatives suivantes:\n",
      "\n",
      "  * Linux: il suffit g\u00e9n\u00e9ralement d'utiliser les paquets Python de votre distribution\n",
      "  * Mac OS: il est possible d'utiliser [MacPorts](http://www.macports.org/) ou [homebrew](http://www.brew.sh/)\n",
      "  * Windows: la distribution [Anaconda](http://www.continuum.io/downloads) regroupe tout ce qu'il vous faut.\n",
      "  "
     ]
    },
    {
     "cell_type": "heading",
     "level": 2,
     "metadata": {},
     "source": [
      "Python comme calculatrice"
     ]
    },
    {
     "cell_type": "markdown",
     "metadata": {},
     "source": [
      "Une fois Python lanc\u00e9 vous avez acc\u00e8s \u00e0 un interpr\u00e9teur de commande. Je l'utilise r\u00e9guli\u00e8rement comme calculatrice."
     ]
    },
    {
     "cell_type": "heading",
     "level": 3,
     "metadata": {},
     "source": [
      "Les nombres"
     ]
    },
    {
     "cell_type": "code",
     "collapsed": false,
     "input": [
      "2+2"
     ],
     "language": "python",
     "metadata": {},
     "outputs": [
      {
       "metadata": {},
       "output_type": "pyout",
       "prompt_number": 2,
       "text": [
        "4"
       ]
      }
     ],
     "prompt_number": 2
    },
    {
     "cell_type": "code",
     "collapsed": false,
     "input": [
      "(50-5*6)/4 # un commentaire"
     ],
     "language": "python",
     "metadata": {},
     "outputs": [
      {
       "metadata": {},
       "output_type": "pyout",
       "prompt_number": 1,
       "text": [
        "5"
       ]
      }
     ],
     "prompt_number": 1
    },
    {
     "cell_type": "code",
     "collapsed": false,
     "input": [
      "# Ceci est um commentaire"
     ],
     "language": "python",
     "metadata": {},
     "outputs": [],
     "prompt_number": 4
    },
    {
     "cell_type": "markdown",
     "metadata": {},
     "source": [
      "La division de deux entiers retourne l'entier imm\u00e9diatement inf\u00e9rieur"
     ]
    },
    {
     "cell_type": "code",
     "collapsed": false,
     "input": [
      "7/2 # c'est un commentaire sur la m\u00eame ligne que  le code"
     ],
     "language": "python",
     "metadata": {},
     "outputs": [
      {
       "metadata": {},
       "output_type": "pyout",
       "prompt_number": 2,
       "text": [
        "3"
       ]
      }
     ],
     "prompt_number": 2
    },
    {
     "cell_type": "code",
     "collapsed": false,
     "input": [
      "7/-2"
     ],
     "language": "python",
     "metadata": {},
     "outputs": [
      {
       "metadata": {},
       "output_type": "pyout",
       "prompt_number": 6,
       "text": [
        "-4"
       ]
      }
     ],
     "prompt_number": 6
    },
    {
     "cell_type": "markdown",
     "metadata": {},
     "source": [
      "Les nombres \u00e0 virgules flottantes sont pris en compte. Lorsque des entiers et des flottants sont m\u00e9lang\u00e9s dans un calcul, les op\u00e9rateurs travaillent toujours avec la plus grande pr\u00e9cision possible, donc en flottants."
     ]
    },
    {
     "cell_type": "code",
     "collapsed": false,
     "input": [
      "553 * 4 / 1.5"
     ],
     "language": "python",
     "metadata": {},
     "outputs": [
      {
       "metadata": {},
       "output_type": "pyout",
       "prompt_number": 7,
       "text": [
        "1474.6666666666667"
       ]
      }
     ],
     "prompt_number": 7
    },
    {
     "cell_type": "code",
     "collapsed": false,
     "input": [
      "7 / 2."
     ],
     "language": "python",
     "metadata": {},
     "outputs": [
      {
       "metadata": {},
       "output_type": "pyout",
       "prompt_number": 6,
       "text": [
        "3.5"
       ]
      }
     ],
     "prompt_number": 6
    },
    {
     "cell_type": "markdown",
     "metadata": {},
     "source": [
      "Les nombres complexes sont \u00e9galement faciles \u00e0 utiliser en Python. "
     ]
    },
    {
     "cell_type": "code",
     "collapsed": false,
     "input": [
      "1 + 1j"
     ],
     "language": "python",
     "metadata": {},
     "outputs": [
      {
       "metadata": {},
       "output_type": "pyout",
       "prompt_number": 9,
       "text": [
        "(1+1j)"
       ]
      }
     ],
     "prompt_number": 9
    },
    {
     "cell_type": "code",
     "collapsed": false,
     "input": [
      "1j + 1J"
     ],
     "language": "python",
     "metadata": {},
     "outputs": [
      {
       "metadata": {},
       "output_type": "pyout",
       "prompt_number": 10,
       "text": [
        "2j"
       ]
      }
     ],
     "prompt_number": 10
    },
    {
     "cell_type": "code",
     "collapsed": false,
     "input": [
      "1j * 1j"
     ],
     "language": "python",
     "metadata": {},
     "outputs": [
      {
       "metadata": {},
       "output_type": "pyout",
       "prompt_number": 11,
       "text": [
        "(-1+0j)"
       ]
      }
     ],
     "prompt_number": 11
    },
    {
     "cell_type": "markdown",
     "metadata": {},
     "source": [
      "On peut utiliser le signe = pour affecter une valeur \u00e0 une variable. La valeur de la variable affich\u00e9e n'est pas affich\u00e9e."
     ]
    },
    {
     "cell_type": "code",
     "collapsed": false,
     "input": [
      "largeur = 20\n",
      "hauteur = 5*9\n",
      "largeur * hauteur"
     ],
     "language": "python",
     "metadata": {},
     "outputs": [
      {
       "metadata": {},
       "output_type": "pyout",
       "prompt_number": 8,
       "text": [
        "900"
       ]
      }
     ],
     "prompt_number": 8
    },
    {
     "cell_type": "markdown",
     "metadata": {},
     "source": [
      "Il est possible d'affecter une valeur \u00e0 plusieurs variables simultan\u00e9ment :"
     ]
    },
    {
     "cell_type": "code",
     "collapsed": false,
     "input": [
      "x = 0; y = 0; z = 0\n",
      "x = y = z = 0 # Mettre a\u0300 ze\u0301ro x, y et z"
     ],
     "language": "python",
     "metadata": {},
     "outputs": [],
     "prompt_number": 6
    },
    {
     "cell_type": "markdown",
     "metadata": {},
     "source": [
      "En mode interactif (utilis\u00e9 ici comme calculatrice), la derni\u00e8re valeur affich\u00e9e est affect\u00e9e \u00e0 la variable \\_, ce qui peut \u00eatre pratique pour continuer les calculs"
     ]
    },
    {
     "cell_type": "code",
     "collapsed": false,
     "input": [
      "tva = 19.6 / 100\n",
      "prix = 100.95\n",
      "prix * tva"
     ],
     "language": "python",
     "metadata": {},
     "outputs": [
      {
       "metadata": {},
       "output_type": "pyout",
       "prompt_number": 11,
       "text": [
        "19.7862"
       ]
      }
     ],
     "prompt_number": 11
    },
    {
     "cell_type": "code",
     "collapsed": false,
     "input": [
      "prix + _"
     ],
     "language": "python",
     "metadata": {},
     "outputs": [
      {
       "metadata": {},
       "output_type": "pyout",
       "prompt_number": 12,
       "text": [
        "120.7362"
       ]
      }
     ],
     "prompt_number": 12
    },
    {
     "cell_type": "code",
     "collapsed": false,
     "input": [
      "round (_, 2)"
     ],
     "language": "python",
     "metadata": {},
     "outputs": [
      {
       "metadata": {},
       "output_type": "pyout",
       "prompt_number": 13,
       "text": [
        "120.74"
       ]
      }
     ],
     "prompt_number": 13
    },
    {
     "cell_type": "heading",
     "level": 3,
     "metadata": {},
     "source": [
      "Cha\u00eenes de caract\u00e8res"
     ]
    },
    {
     "cell_type": "markdown",
     "metadata": {},
     "source": [
      "Python propose de manipuler les cha\u00eenes de caract\u00e8res avec beaucoup de facilit\u00e9. Ces cha\u00eenes peuvent \u00eatre exprim\u00e9es de diff\u00e9rentes fa\u00e7ons, elles peuvent \u00eatre incluses entre simples quotes (apostrophes) et doubles quotes (guillemets)"
     ]
    },
    {
     "cell_type": "code",
     "collapsed": false,
     "input": [
      "'La cigale et la Fourmi'"
     ],
     "language": "python",
     "metadata": {},
     "outputs": [
      {
       "metadata": {},
       "output_type": "pyout",
       "prompt_number": 17,
       "text": [
        "'La cigale et la Fourmi'"
       ]
      }
     ],
     "prompt_number": 17
    },
    {
     "cell_type": "code",
     "collapsed": false,
     "input": [
      "'n\\'est-ce pas'"
     ],
     "language": "python",
     "metadata": {},
     "outputs": [
      {
       "metadata": {},
       "output_type": "pyout",
       "prompt_number": 15,
       "text": [
        "\"n'est-ce pas\""
       ]
      }
     ],
     "prompt_number": 15
    },
    {
     "cell_type": "code",
     "collapsed": false,
     "input": [
      "\"n'est-ce pas\""
     ],
     "language": "python",
     "metadata": {},
     "outputs": [
      {
       "metadata": {},
       "output_type": "pyout",
       "prompt_number": 19,
       "text": [
        "\"n'est-ce pas\""
       ]
      }
     ],
     "prompt_number": 19
    },
    {
     "cell_type": "markdown",
     "metadata": {},
     "source": [
      "Attention aux caract\u00e8res accentu\u00e9s, il est posible qu'ils soient mal interpr\u00e9t\u00e9s si vous passez d'un OS \u00e0 l'autre (Windows \u00e0 Linux par exemple). Il n'est pas permis d'utiliser des accents pour nommer des variables en Python. \n",
      "\n",
      "Il est possible de d\u00e9finir des cha\u00eenes de caract\u00e8res qui s'\u00e9tendent sur plusieurs lignes. "
     ]
    },
    {
     "cell_type": "code",
     "collapsed": false,
     "input": [
      "fable = \"Le corbeau et le Renard\\n\\\n",
      "  Ma\u00eetre Corbeau, sur un arbre perch\u00e9,\\n  Tenait dans son bec un fromage\"\n",
      "print (fable)"
     ],
     "language": "python",
     "metadata": {},
     "outputs": [
      {
       "output_type": "stream",
       "stream": "stdout",
       "text": [
        "Le corbeau et le Renard\n",
        "  Ma\u00eetre Corbeau, sur un arbre perch\u00e9,\n",
        "  Tenait dans son bec un fromage\n"
       ]
      }
     ],
     "prompt_number": 20
    },
    {
     "cell_type": "markdown",
     "metadata": {},
     "source": [
      "Les retours \u00e0 la ligne sont indiqu\u00e9s par des `\\n`. Le `\\ ` qui suit indique qu'il ne faut pas tenir compte le retour \u00e0 la ligne du texte. Vous noterez que les blancs en d\u00e9but de ligne sont significatifs.\n",
      "\n",
      "Une cha\u00eene de caract\u00e8res peut \u00eatre d\u00e9finie comme cha\u00eene `raw` (brute), dans ce cas les `\\n` ne sont pas interpr\u00e9t\u00e9s mais les `\\ ` avec le retour chariot permettent tout de m\u00eame de revenir \u00e0 la ligne. Il suffit pour cela de rajouter un `r` avant d'ouvrir les guillemets (\" ou ') de la cha\u00eene. "
     ]
    },
    {
     "cell_type": "code",
     "collapsed": false,
     "input": [
      "fable = r\"La Grenouille qui veut se faire aussi grosse que le B\u0153uf\\n \\\n",
      "  Une Grenouille vit un B\u0153uf,\\n \\\n",
      "  Qui lui sembla de belle taille\"\n",
      "print (fable)"
     ],
     "language": "python",
     "metadata": {},
     "outputs": [
      {
       "output_type": "stream",
       "stream": "stdout",
       "text": [
        "La Grenouille qui veut se faire aussi grosse que le B\u0153uf\\n   Une Grenouille vit un B\u0153uf,\\n   Qui lui sembla de belle taille\n"
       ]
      }
     ],
     "prompt_number": 21
    },
    {
     "cell_type": "markdown",
     "metadata": {},
     "source": [
      "Les cha\u00eenes peuvent \u00e9galement \u00eatre entour\u00e9es de triples guillemets (\"\"\" ou '''). Dans ce cas, un retour \u00e0 la ligne est consid\u00e9r\u00e9 comme un retour \u00e0 la ligne. Il n'est plus n\u00e9cessaire de mettre `\\n` ou `\\\\ `."
     ]
    },
    {
     "cell_type": "code",
     "collapsed": false,
     "input": [
      "print (\"\"\"\n",
      "Usage: trucmuche [OPTIONS]\n",
      "   -h                           affiche cette page d'aide\n",
      "   -b                           active l'option bidule\n",
      "\"\"\")"
     ],
     "language": "python",
     "metadata": {},
     "outputs": [
      {
       "output_type": "stream",
       "stream": "stdout",
       "text": [
        "\n",
        "Usage: trucmuche [OPTIONS]\n",
        "   -h                           affiche cette page d'aide\n",
        "   -b                           active l'option bidule\n",
        "\n"
       ]
      }
     ],
     "prompt_number": 19
    },
    {
     "cell_type": "markdown",
     "metadata": {},
     "source": [
      "Les cha\u00eenes peuvent \u00eatre concat\u00e9n\u00e9e, ou accol\u00e9es, avec l'op\u00e9rateur `+` et multipli\u00e9e avec l'op\u00e9rateur `*`."
     ]
    },
    {
     "cell_type": "code",
     "collapsed": false,
     "input": [
      "mot = 'mac' + 'hin'\n",
      "mot"
     ],
     "language": "python",
     "metadata": {},
     "outputs": [
      {
       "metadata": {},
       "output_type": "pyout",
       "prompt_number": 17,
       "text": [
        "'machin'"
       ]
      }
     ],
     "prompt_number": 17
    },
    {
     "cell_type": "code",
     "collapsed": false,
     "input": [
      "partie1 = 'mac'\n",
      "partie2 = 'hin'\n",
      "mot = partie1 + partie2\n",
      "mot"
     ],
     "language": "python",
     "metadata": {},
     "outputs": [
      {
       "metadata": {},
       "output_type": "pyout",
       "prompt_number": 18,
       "text": [
        "'machin'"
       ]
      }
     ],
     "prompt_number": 18
    },
    {
     "cell_type": "code",
     "collapsed": false,
     "input": [
      "print ('<' + 5*mot + '>')"
     ],
     "language": "python",
     "metadata": {},
     "outputs": [
      {
       "output_type": "stream",
       "stream": "stdout",
       "text": [
        "<machinmachinmachinmachinmachin>\n"
       ]
      }
     ],
     "prompt_number": 19
    },
    {
     "cell_type": "markdown",
     "metadata": {},
     "source": [
      "Deux cha\u00eenes cote \u00e0 cote sont automatiquement accol\u00e9es : nous aurions pu \u00e9crire"
     ]
    },
    {
     "cell_type": "code",
     "collapsed": false,
     "input": [
      "'mac' 'hin'"
     ],
     "language": "python",
     "metadata": {},
     "outputs": [
      {
       "metadata": {},
       "output_type": "pyout",
       "prompt_number": 23,
       "text": [
        "'machin'"
       ]
      }
     ],
     "prompt_number": 23
    },
    {
     "cell_type": "markdown",
     "metadata": {},
     "source": [
      "Les cha\u00eenes de caract\u00e8res peuvent \u00eatre d\u00e9compos\u00e9es, ou index\u00e9es. Dans ce cas, comme en C, le premier caract\u00e8re est \u00e0 la position 0. Le type caract\u00e8re n'existe pas, un caract\u00e8re est consid\u00e9r\u00e9 comme une cha\u00eene de caract\u00e8re de taille 1. Il est possible de d\u00e9couper des sous-cha\u00eenes de caract\u00e8res en utilisant la notation de d\u00e9coupage (ou *slice*) avec les deux points (:)."
     ]
    },
    {
     "cell_type": "code",
     "collapsed": false,
     "input": [
      "mot[0]"
     ],
     "language": "python",
     "metadata": {},
     "outputs": [
      {
       "metadata": {},
       "output_type": "pyout",
       "prompt_number": 25,
       "text": [
        "'m'"
       ]
      }
     ],
     "prompt_number": 25
    },
    {
     "cell_type": "code",
     "collapsed": false,
     "input": [
      "mot[0:2]"
     ],
     "language": "python",
     "metadata": {},
     "outputs": [
      {
       "metadata": {},
       "output_type": "pyout",
       "prompt_number": 29,
       "text": [
        "'ma'"
       ]
      }
     ],
     "prompt_number": 29
    },
    {
     "cell_type": "code",
     "collapsed": false,
     "input": [
      "mot[2:4]"
     ],
     "language": "python",
     "metadata": {},
     "outputs": [
      {
       "metadata": {},
       "output_type": "pyout",
       "prompt_number": 30,
       "text": [
        "'ch'"
       ]
      }
     ],
     "prompt_number": 30
    },
    {
     "cell_type": "markdown",
     "metadata": {},
     "source": [
      "Il n'est pas possible de modifier les cha\u00eenes de caract\u00e8res, \u00e0 la diff\u00e9rence du C. Vous obtiendrez une erreur si vous essayez de modifier un caract\u00e8re de la cha\u00eene:"
     ]
    },
    {
     "cell_type": "code",
     "collapsed": false,
     "input": [
      "mot[0] = 't'"
     ],
     "language": "python",
     "metadata": {},
     "outputs": [
      {
       "ename": "TypeError",
       "evalue": "'str' object does not support item assignment",
       "output_type": "pyerr",
       "traceback": [
        "\u001b[0;31m---------------------------------------------------------------------------\u001b[0m\n\u001b[0;31mTypeError\u001b[0m                                 Traceback (most recent call last)",
        "\u001b[0;32m<ipython-input-20-a298fccab792>\u001b[0m in \u001b[0;36m<module>\u001b[0;34m()\u001b[0m\n\u001b[0;32m----> 1\u001b[0;31m \u001b[0mmot\u001b[0m\u001b[0;34m[\u001b[0m\u001b[0;36m0\u001b[0m\u001b[0;34m]\u001b[0m \u001b[0;34m=\u001b[0m \u001b[0;34m't'\u001b[0m\u001b[0;34m\u001b[0m\u001b[0m\n\u001b[0m",
        "\u001b[0;31mTypeError\u001b[0m: 'str' object does not support item assignment"
       ]
      }
     ],
     "prompt_number": 20
    },
    {
     "cell_type": "code",
     "collapsed": false,
     "input": [
      "mot[2:6] = 'rins'"
     ],
     "language": "python",
     "metadata": {},
     "outputs": [
      {
       "ename": "TypeError",
       "evalue": "'str' object does not support item assignment",
       "output_type": "pyerr",
       "traceback": [
        "\u001b[0;31m---------------------------------------------------------------------------\u001b[0m\n\u001b[0;31mTypeError\u001b[0m                                 Traceback (most recent call last)",
        "\u001b[0;32m<ipython-input-22-ea6fefd1f66b>\u001b[0m in \u001b[0;36m<module>\u001b[0;34m()\u001b[0m\n\u001b[0;32m----> 1\u001b[0;31m \u001b[0mmot\u001b[0m\u001b[0;34m[\u001b[0m\u001b[0;36m2\u001b[0m\u001b[0;34m:\u001b[0m\u001b[0;36m6\u001b[0m\u001b[0;34m]\u001b[0m \u001b[0;34m=\u001b[0m \u001b[0;34m'rins'\u001b[0m\u001b[0;34m\u001b[0m\u001b[0m\n\u001b[0m",
        "\u001b[0;31mTypeError\u001b[0m: 'str' object does not support item assignment"
       ]
      }
     ],
     "prompt_number": 22
    },
    {
     "cell_type": "markdown",
     "metadata": {},
     "source": [
      "Mais il est tr\u00e8s facile de cr\u00e9er une nouvelle cha\u00eene avec le contenu que l'on souhaite :"
     ]
    },
    {
     "cell_type": "code",
     "collapsed": false,
     "input": [
      "'t' + mot[1:6]"
     ],
     "language": "python",
     "metadata": {},
     "outputs": [
      {
       "metadata": {},
       "output_type": "pyout",
       "prompt_number": 38,
       "text": [
        "'tachin'"
       ]
      }
     ],
     "prompt_number": 38
    },
    {
     "cell_type": "code",
     "collapsed": false,
     "input": [
      "mot[0:2] + 'rins'"
     ],
     "language": "python",
     "metadata": {},
     "outputs": [
      {
       "metadata": {},
       "output_type": "pyout",
       "prompt_number": 39,
       "text": [
        "'marins'"
       ]
      }
     ],
     "prompt_number": 39
    },
    {
     "cell_type": "markdown",
     "metadata": {},
     "source": [
      "Les indices de d\u00e9coupages ont des valeurs par d\u00e9faut utile. Le premier indice non d\u00e9fini prend la valeur par d\u00e9faut 0, le deuxi\u00e8me indice prend la taille de la cha\u00eene que l'on est en train de d\u00e9couper."
     ]
    },
    {
     "cell_type": "code",
     "collapsed": false,
     "input": [
      "mot[:2] # les deux premiers caract\u00e8res"
     ],
     "language": "python",
     "metadata": {},
     "outputs": [
      {
       "metadata": {},
       "output_type": "pyout",
       "prompt_number": 34,
       "text": [
        "'ma'"
       ]
      }
     ],
     "prompt_number": 34
    },
    {
     "cell_type": "code",
     "collapsed": false,
     "input": [
      "mot[2:] # tout sauf les deux premiers caract\u00e8res"
     ],
     "language": "python",
     "metadata": {},
     "outputs": [
      {
       "metadata": {},
       "output_type": "pyout",
       "prompt_number": 35,
       "text": [
        "'chin'"
       ]
      }
     ],
     "prompt_number": 35
    },
    {
     "cell_type": "markdown",
     "metadata": {},
     "source": [
      "Il est \u00e0 noter que `s[:i] + s[i:]` est \u00e9gal \u00e0 `s`"
     ]
    },
    {
     "cell_type": "code",
     "collapsed": false,
     "input": [
      "print (mot[:2] + mot[2:])\n",
      "print (mot[:3] + mot[3:])"
     ],
     "language": "python",
     "metadata": {},
     "outputs": [
      {
       "output_type": "stream",
       "stream": "stdout",
       "text": [
        "machin\n",
        "machin\n"
       ]
      }
     ],
     "prompt_number": 36
    },
    {
     "cell_type": "markdown",
     "metadata": {},
     "source": [
      "Les indices erron\u00e9s sont g\u00e9n\u00e9r\u00e9s de fa\u00e7on \u00e9l\u00e9gante : un indice trop grand est remplac\u00e9 par la taille de la cha\u00eene et un indice de fin plus grand qu'un indice de d\u00e9but g\u00e9n\u00e8re une cha\u00eene vide"
     ]
    },
    {
     "cell_type": "code",
     "collapsed": false,
     "input": [
      "mot[1:100]"
     ],
     "language": "python",
     "metadata": {},
     "outputs": [
      {
       "metadata": {},
       "output_type": "pyout",
       "prompt_number": 37,
       "text": [
        "'achin'"
       ]
      }
     ],
     "prompt_number": 37
    },
    {
     "cell_type": "code",
     "collapsed": false,
     "input": [
      "mot[10:]"
     ],
     "language": "python",
     "metadata": {},
     "outputs": [
      {
       "metadata": {},
       "output_type": "pyout",
       "prompt_number": 38,
       "text": [
        "''"
       ]
      }
     ],
     "prompt_number": 38
    },
    {
     "cell_type": "code",
     "collapsed": false,
     "input": [
      "mot[2:1]"
     ],
     "language": "python",
     "metadata": {},
     "outputs": [
      {
       "metadata": {},
       "output_type": "pyout",
       "prompt_number": 40,
       "text": [
        "''"
       ]
      }
     ],
     "prompt_number": 40
    },
    {
     "cell_type": "markdown",
     "metadata": {},
     "source": [
      "*C'est la fin du premier cours avec les FA. Nous verrons la suite la semaine prochaine.*"
     ]
    },
    {
     "cell_type": "markdown",
     "metadata": {},
     "source": [
      "Les indices peuvent \u00eatre n\u00e9gatifs pour compter \u00e0 partir de la droite :"
     ]
    },
    {
     "cell_type": "code",
     "collapsed": false,
     "input": [
      "mot[-1] # le dernier caract\u00e8re"
     ],
     "language": "python",
     "metadata": {},
     "outputs": [
      {
       "metadata": {},
       "output_type": "pyout",
       "prompt_number": 40,
       "text": [
        "'n'"
       ]
      }
     ],
     "prompt_number": 40
    },
    {
     "cell_type": "code",
     "collapsed": false,
     "input": [
      "mot[-2] # l'avant dernier caract\u00e8re"
     ],
     "language": "python",
     "metadata": {},
     "outputs": [
      {
       "metadata": {},
       "output_type": "pyout",
       "prompt_number": 41,
       "text": [
        "'i'"
       ]
      }
     ],
     "prompt_number": 41
    },
    {
     "cell_type": "code",
     "collapsed": false,
     "input": [
      "mot[-2:] # les deux derniers caract\u00e8res"
     ],
     "language": "python",
     "metadata": {},
     "outputs": [
      {
       "metadata": {},
       "output_type": "pyout",
       "prompt_number": 42,
       "text": [
        "'in'"
       ]
      }
     ],
     "prompt_number": 42
    },
    {
     "cell_type": "code",
     "collapsed": false,
     "input": [
      "mot[:-2] # tout sauf les deux derniers caract\u00e8res"
     ],
     "language": "python",
     "metadata": {},
     "outputs": [
      {
       "metadata": {},
       "output_type": "pyout",
       "prompt_number": 43,
       "text": [
        "'mach'"
       ]
      }
     ],
     "prompt_number": 43
    },
    {
     "cell_type": "markdown",
     "metadata": {},
     "source": [
      "Vous noterez que `-0` est \u00e9quivalent \u00e0 `0`:"
     ]
    },
    {
     "cell_type": "code",
     "collapsed": false,
     "input": [
      "mot[-0] # premier caract\u00e8re"
     ],
     "language": "python",
     "metadata": {},
     "outputs": [
      {
       "metadata": {},
       "output_type": "pyout",
       "prompt_number": 44,
       "text": [
        "'m'"
       ]
      }
     ],
     "prompt_number": 44
    },
    {
     "cell_type": "markdown",
     "metadata": {},
     "source": [
      "On peut donner des valeurs n\u00e9gatives hors limites pour le d\u00e9coupage. Cependant, pour l'acc\u00e8s direct, cela g\u00e9n\u00e8re des erreurs"
     ]
    },
    {
     "cell_type": "code",
     "collapsed": false,
     "input": [
      "mot[-100:]"
     ],
     "language": "python",
     "metadata": {},
     "outputs": [
      {
       "metadata": {},
       "output_type": "pyout",
       "prompt_number": 45,
       "text": [
        "'machin'"
       ]
      }
     ],
     "prompt_number": 45
    },
    {
     "cell_type": "code",
     "collapsed": false,
     "input": [
      "mot[-10]"
     ],
     "language": "python",
     "metadata": {},
     "outputs": [
      {
       "ename": "IndexError",
       "evalue": "string index out of range",
       "output_type": "pyerr",
       "traceback": [
        "\u001b[0;31m---------------------------------------------------------------------------\u001b[0m\n\u001b[0;31mIndexError\u001b[0m                                Traceback (most recent call last)",
        "\u001b[0;32m<ipython-input-25-4feaf8131d45>\u001b[0m in \u001b[0;36m<module>\u001b[0;34m()\u001b[0m\n\u001b[0;32m----> 1\u001b[0;31m \u001b[0mmot\u001b[0m\u001b[0;34m[\u001b[0m\u001b[0;34m-\u001b[0m\u001b[0;36m10\u001b[0m\u001b[0;34m]\u001b[0m\u001b[0;34m\u001b[0m\u001b[0m\n\u001b[0m",
        "\u001b[0;31mIndexError\u001b[0m: string index out of range"
       ]
      }
     ],
     "prompt_number": 25
    },
    {
     "cell_type": "markdown",
     "metadata": {},
     "source": [
      "Pour bien se rappeler le d\u00e9coupage, une bonne m\u00e9thode est de penser \u00e0 des indices qui pointent entre les caract\u00e8res, par exemple\n",
      "\n",
      "`-+---+---+---+---+---+---+ \n",
      " | m | a | c | h | i | n |\n",
      " +---+---+---+---+---+---+\n",
      " 0   1   2   3   4   5   6\n",
      "-6  -5  -4  -3  -2  -1 `\n",
      "\n",
      "Ainsi le d\u00e9coupage entre `i` et `j` est celui qui contient tous les caract\u00e8res compris entre `i` et `j`.\n",
      "\n",
      "La fonction `len()` retourne la longueur d'une cha\u00eene:"
     ]
    },
    {
     "cell_type": "code",
     "collapsed": false,
     "input": [
      "s = 'supercalifragilisticexpialidocious'\n",
      "len (s)"
     ],
     "language": "python",
     "metadata": {},
     "outputs": [
      {
       "metadata": {},
       "output_type": "pyout",
       "prompt_number": 47,
       "text": [
        "34"
       ]
      }
     ],
     "prompt_number": 47
    },
    {
     "cell_type": "markdown",
     "metadata": {},
     "source": [
      "Il est possible d'utiliser des cha\u00eenes de caract\u00e8res en Unicode, pour avoir acc\u00e8s aux caract\u00e8res non-ASCII, comme \u00e9, \u00e8, \u00ea, etc. Pour cela, il suffit de mettre un *u* devant la cha\u00eene de caract\u00e8res."
     ]
    },
    {
     "cell_type": "code",
     "collapsed": false,
     "input": [
      "s_unicode = u\"\u00c9pautre fran\u00e7ais\"\n",
      "print (s_unicode)"
     ],
     "language": "python",
     "metadata": {},
     "outputs": [
      {
       "output_type": "stream",
       "stream": "stdout",
       "text": [
        "\u00c9pautre fran\u00e7ais\n"
       ]
      }
     ],
     "prompt_number": 48
    },
    {
     "cell_type": "heading",
     "level": 4,
     "metadata": {},
     "source": [
      "Informations compl\u00e9mentaire"
     ]
    },
    {
     "cell_type": "markdown",
     "metadata": {},
     "source": [
      "Vous pouvez consulter les pages suivantes pour approfondir les traitements sur les cha\u00eenes de caract\u00e8res:\n",
      "\n",
      "* http://docs.python.org/lib/string-methods.html qui explique toutes les m\u00e9thodes relatives aux cha\u00eenes de caract\u00e8res, \u00e0 leur transformation, et aux recherches dans les cha\u00eenes\n",
      "* http://docs.python.org/lib/typesseq-strings.html qui indique comment mettre en forme les cha\u00eenes, avec l'op\u00e9rateur %, un peu \u00e0 la fa\u00e7on du C\n",
      "* http://docs.python.org/lib/typesseq.html qui d\u00e9crit les types s\u00e9quences et leur m\u00e9thodes, que nous verrons plus tard.\n"
     ]
    },
    {
     "cell_type": "markdown",
     "metadata": {},
     "source": [
      "*Nous nous sommes arr\u00eat\u00e9 ici avec le groupe de FI.*"
     ]
    },
    {
     "cell_type": "heading",
     "level": 3,
     "metadata": {},
     "source": [
      "Listes"
     ]
    },
    {
     "cell_type": "markdown",
     "metadata": {},
     "source": [
      "Python connai\u0302t un grand nombre de types de donne\u0301es composites, utilise\u0301es pour regrouper un ensemble de valeurs. La plus riche en possibilite\u0301s est la liste, qui peut e\u0302tre e\u0301crite comme une liste de valeurs (e\u0301le\u0301ments) entre crochets et se\u0301pare\u0301s par des virgules. Les e\u0301le\u0301ments d\u2019une liste n\u2019ont pas ne\u0301cessairement le me\u0302me type."
     ]
    },
    {
     "cell_type": "code",
     "collapsed": false,
     "input": [
      "ma_liste = ['reseaux', 'neuronaux', 100, 1234]\n",
      "ma_liste"
     ],
     "language": "python",
     "metadata": {},
     "outputs": [
      {
       "metadata": {},
       "output_type": "pyout",
       "prompt_number": 49,
       "text": [
        "['reseaux', 'neuronaux', 100, 1234]"
       ]
      }
     ],
     "prompt_number": 49
    },
    {
     "cell_type": "markdown",
     "metadata": {},
     "source": [
      "Comme les indices des chai\u0302nes, les indices des listes commencent a\u0300 0, et les listes peuvent e\u0302tre de\u0301coupe\u0301es, concate\u0301ne\u0301es, et ainsi de suite :"
     ]
    },
    {
     "cell_type": "code",
     "collapsed": false,
     "input": [
      "ma_liste[0]"
     ],
     "language": "python",
     "metadata": {},
     "outputs": [
      {
       "metadata": {},
       "output_type": "pyout",
       "prompt_number": 50,
       "text": [
        "'reseaux'"
       ]
      }
     ],
     "prompt_number": 50
    },
    {
     "cell_type": "code",
     "collapsed": false,
     "input": [
      "ma_liste[3]"
     ],
     "language": "python",
     "metadata": {},
     "outputs": [
      {
       "metadata": {},
       "output_type": "pyout",
       "prompt_number": 51,
       "text": [
        "1234"
       ]
      }
     ],
     "prompt_number": 51
    },
    {
     "cell_type": "code",
     "collapsed": false,
     "input": [
      "ma_liste[-2]"
     ],
     "language": "python",
     "metadata": {},
     "outputs": [
      {
       "metadata": {},
       "output_type": "pyout",
       "prompt_number": 52,
       "text": [
        "100"
       ]
      }
     ],
     "prompt_number": 52
    },
    {
     "cell_type": "code",
     "collapsed": false,
     "input": [
      "ma_liste[1:-1]"
     ],
     "language": "python",
     "metadata": {},
     "outputs": [
      {
       "metadata": {},
       "output_type": "pyout",
       "prompt_number": 53,
       "text": [
        "['neuronaux', 100]"
       ]
      }
     ],
     "prompt_number": 53
    },
    {
     "cell_type": "code",
     "collapsed": false,
     "input": [
      "ma_liste[:2] + ['biomimetiques', 2*2]"
     ],
     "language": "python",
     "metadata": {},
     "outputs": [
      {
       "metadata": {},
       "output_type": "pyout",
       "prompt_number": 54,
       "text": [
        "['reseaux', 'neuronaux', 'biomimetiques', 4]"
       ]
      }
     ],
     "prompt_number": 54
    },
    {
     "cell_type": "code",
     "collapsed": false,
     "input": [
      "2*ma_liste[:3] + ['Fin']"
     ],
     "language": "python",
     "metadata": {},
     "outputs": [
      {
       "metadata": {},
       "output_type": "pyout",
       "prompt_number": 55,
       "text": [
        "['reseaux', 'neuronaux', 100, 'reseaux', 'neuronaux', 100, 'Fin']"
       ]
      }
     ],
     "prompt_number": 55
    },
    {
     "cell_type": "markdown",
     "metadata": {},
     "source": [
      "A la diffe\u0301rence des chai\u0302nes, qui sont non-modifiables, il est possible de changer les e\u0301le\u0301ments individuels d\u2019une liste :"
     ]
    },
    {
     "cell_type": "code",
     "collapsed": false,
     "input": [
      "ma_liste"
     ],
     "language": "python",
     "metadata": {},
     "outputs": [
      {
       "metadata": {},
       "output_type": "pyout",
       "prompt_number": 56,
       "text": [
        "['reseaux', 'neuronaux', 100, 1234]"
       ]
      }
     ],
     "prompt_number": 56
    },
    {
     "cell_type": "code",
     "collapsed": false,
     "input": [
      "ma_liste[2] = ma_liste[2]+23"
     ],
     "language": "python",
     "metadata": {},
     "outputs": [],
     "prompt_number": 57
    },
    {
     "cell_type": "code",
     "collapsed": false,
     "input": [
      "ma_liste"
     ],
     "language": "python",
     "metadata": {},
     "outputs": [
      {
       "metadata": {},
       "output_type": "pyout",
       "prompt_number": 58,
       "text": [
        "['reseaux', 'neuronaux', 123, 1234]"
       ]
      }
     ],
     "prompt_number": 58
    },
    {
     "cell_type": "code",
     "collapsed": false,
     "input": [
      "# Remplacer certains \u00e9l\u00e9ments\n",
      "ma_liste[0:2] = [1, 12]\n",
      "ma_liste"
     ],
     "language": "python",
     "metadata": {},
     "outputs": [
      {
       "metadata": {},
       "output_type": "pyout",
       "prompt_number": 59,
       "text": [
        "[1, 12, 123, 1234]"
       ]
      }
     ],
     "prompt_number": 59
    },
    {
     "cell_type": "code",
     "collapsed": false,
     "input": [
      "# Pour en enlever\n",
      "ma_liste[0:2] = []\n",
      "ma_liste"
     ],
     "language": "python",
     "metadata": {},
     "outputs": [
      {
       "metadata": {},
       "output_type": "pyout",
       "prompt_number": 60,
       "text": [
        "[123, 1234]"
       ]
      }
     ],
     "prompt_number": 60
    },
    {
     "cell_type": "code",
     "collapsed": false,
     "input": [
      "# pour en ajouter\n",
      "ma_liste[1:1] = ['abc', 'def']\n",
      "ma_liste"
     ],
     "language": "python",
     "metadata": {},
     "outputs": [
      {
       "metadata": {},
       "output_type": "pyout",
       "prompt_number": 61,
       "text": [
        "[123, 'abc', 'def', 1234]"
       ]
      }
     ],
     "prompt_number": 61
    },
    {
     "cell_type": "code",
     "collapsed": false,
     "input": [
      "ma_liste[:0] = ma_liste     # Inse\u0300re une copie de soi-me\u0302me au de\u0301but\n",
      "ma_liste"
     ],
     "language": "python",
     "metadata": {},
     "outputs": [
      {
       "metadata": {},
       "output_type": "pyout",
       "prompt_number": 62,
       "text": [
        "[123, 'abc', 'def', 1234, 123, 'abc', 'def', 1234]"
       ]
      }
     ],
     "prompt_number": 62
    },
    {
     "cell_type": "markdown",
     "metadata": {},
     "source": [
      "La fonction inte\u0301gre\u0301e `len( )` s\u2019applique aussi aux listes :"
     ]
    },
    {
     "cell_type": "code",
     "collapsed": false,
     "input": [
      "len(ma_liste)"
     ],
     "language": "python",
     "metadata": {},
     "outputs": [
      {
       "metadata": {},
       "output_type": "pyout",
       "prompt_number": 63,
       "text": [
        "8"
       ]
      }
     ],
     "prompt_number": 63
    },
    {
     "cell_type": "markdown",
     "metadata": {},
     "source": [
      "Il est possible d\u2019emboi\u0302ter des listes (cre\u0301er des listes contenant d\u2019autres listes), par exemple :"
     ]
    },
    {
     "cell_type": "code",
     "collapsed": false,
     "input": [
      "q = [2, 3]\n",
      "p = [1, q, 4]\n",
      "len(p)"
     ],
     "language": "python",
     "metadata": {},
     "outputs": [
      {
       "metadata": {},
       "output_type": "pyout",
       "prompt_number": 64,
       "text": [
        "3"
       ]
      }
     ],
     "prompt_number": 64
    },
    {
     "cell_type": "code",
     "collapsed": false,
     "input": [
      "p[1]"
     ],
     "language": "python",
     "metadata": {},
     "outputs": [
      {
       "metadata": {},
       "output_type": "pyout",
       "prompt_number": 65,
       "text": [
        "[2, 3]"
       ]
      }
     ],
     "prompt_number": 65
    },
    {
     "cell_type": "code",
     "collapsed": false,
     "input": [
      "p[1][0]"
     ],
     "language": "python",
     "metadata": {},
     "outputs": [
      {
       "metadata": {},
       "output_type": "pyout",
       "prompt_number": 66,
       "text": [
        "2"
       ]
      }
     ],
     "prompt_number": 66
    },
    {
     "cell_type": "code",
     "collapsed": false,
     "input": [
      "len(p[1])"
     ],
     "language": "python",
     "metadata": {},
     "outputs": [
      {
       "metadata": {},
       "output_type": "pyout",
       "prompt_number": 67,
       "text": [
        "2"
       ]
      }
     ],
     "prompt_number": 67
    },
    {
     "cell_type": "markdown",
     "metadata": {},
     "source": [
      "Notez bien que `p[1]` et `q` permette d'acc\u00e9der \u00e0 la m\u00eame chose, au m\u00eame objet."
     ]
    },
    {
     "cell_type": "heading",
     "level": 3,
     "metadata": {},
     "source": [
      "Premiers pas vers la programmation"
     ]
    },
    {
     "cell_type": "markdown",
     "metadata": {},
     "source": [
      "Bien su\u0302r, nous pouvons utiliser Python pour des ta\u0302ches plus complique\u0301es que d\u2019ajouter deux et deux. Par exemple, nous pouvons e\u0301crire une sous-se\u0301quence de la suite de Fibonacci de la fac\u0327on suivante :"
     ]
    },
    {
     "cell_type": "code",
     "collapsed": false,
     "input": [
      "# Suite de Fibonacci\n",
      "# La somme de deux e\u0301le\u0301ments de\u0301finit le suivant\n",
      "a, b = 0, 1\n",
      "while b < 10:\n",
      "    print (b)\n",
      "    a, b = b, a+b"
     ],
     "language": "python",
     "metadata": {},
     "outputs": [
      {
       "output_type": "stream",
       "stream": "stdout",
       "text": [
        "1\n",
        "1\n",
        "2\n",
        "3\n",
        "5\n",
        "8\n"
       ]
      }
     ],
     "prompt_number": 68
    },
    {
     "cell_type": "markdown",
     "metadata": {},
     "source": [
      "Cet exemple introduit plusieurs fonctionnalite\u0301s nouvelles.\n",
      "\n",
      "* La premie\u0300re ligne contient une affectation multiple : lesvariables `a` et `b` prennent simultane\u0301ment les nouvelles valeurs `0` et `1`. Sur la dernie\u0300re ligne l\u2019affectation multiple est utilise\u0301e a\u0300 nouveau, montrant que les expressions en partie droite sont d\u2019abord toutes e\u0301value\u0301es avant qu\u2019aucune affectation ne se fasse.\n",
      "* La boucle `while` s\u2019exe\u0301cute tant que la condition (ici : `b < 10`) reste vraie . En Python, comme en C, toute valeur entie\u0300re diffe\u0301rente de ze\u0301ro est vraie ; ze\u0301ro est faux. La condition pourrait aussi e\u0302tre une chai\u0302ne ou une valeur de type liste, en fait n\u2019importe quelle se\u0301quence ; n\u2019importe quoi avec une longueur diffe\u0301rente de ze\u0301ro est vrai, les se\u0301quences vides correspondent a\u0300 faux. Le test utilise\u0301 dans l\u2019exemple est une simple comparaison. Les ope\u0301rateurs de comparaison standard sont e\u0301crits de la me\u0302me fac\u0327on qu\u2019en C : `<`, `>`, `==`, `<=`, `>=` et `!=`.\n",
      "* Le corps de la boucle est indente\u0301 : l\u2019indentation est le moyen par lequel Python regroupe les instructions. Python ne fournit pas (encore) une fonction d\u2019e\u0301dition de ligne intelligente, donc vous devez inse\u0301rer une tabulation ou un espace pour chaque ligne indente\u0301e. En pratique vous pre\u0301parerez les saisies plus complique\u0301es avec un e\u0301diteur de texte ; la plupart des e\u0301diteurs de texte ont une fonction d\u2019auto-indentation. Lorsqu\u2019une instruction compose\u0301e est entre\u0301e en mode interactif, elle doit e\u0302tre suivie d\u2019une ligne vide pour indiquer qu\u2019elle est termine\u0301e (car l\u2019interpre\u0301teur ne peut pas deviner si vous avez tape\u0301 la dernie\u0300re ligne).\n",
      "* L\u2019instruction `print` e\u0301crit la valeur de la ou des expressions qui lui sont donne\u0301es. Elle diffe\u0300re de la simple e\u0301criture de l\u2019expression (comme tout-a\u0300-l\u2019heure dans les exemples de la calculatrice) dans la mesure ou\u0300 elle accepte plusieurs expressions et chai\u0302nes. Les chai\u0302nes sont imprime\u0301es sans apostrophes, et un espace est inse\u0301re\u0301 entre les e\u0301le\u0301ments, ce qui vous permet de les afficher dans un format plus sympathique, comme ceci :\n"
     ]
    },
    {
     "cell_type": "code",
     "collapsed": false,
     "input": [
      "i = 256*256\n",
      "print ('La valeur de i est', i)"
     ],
     "language": "python",
     "metadata": {},
     "outputs": [
      {
       "output_type": "stream",
       "stream": "stdout",
       "text": [
        "La valeur de i est 65536\n"
       ]
      }
     ],
     "prompt_number": 69
    },
    {
     "cell_type": "markdown",
     "metadata": {},
     "source": [
      "Il est possible de supprimer le saut de ligne de `print` en changeant le caract\u00e8re de fin de ligne:"
     ]
    },
    {
     "cell_type": "code",
     "collapsed": false,
     "input": [
      "a, b = 0, 1\n",
      "while b < 1000:\n",
      "    print (b, end=' ')\n",
      "    a, b = b, a+b"
     ],
     "language": "python",
     "metadata": {},
     "outputs": [
      {
       "output_type": "stream",
       "stream": "stdout",
       "text": [
        "1 1 2 3 5 8 13 21 34 55 89 144 233 377 610 987 "
       ]
      }
     ],
     "prompt_number": 71
    },
    {
     "cell_type": "markdown",
     "metadata": {},
     "source": [
      "*Ce notebook est une adaptation de la traduction fran\u00e7aise, dirig\u00e9e par Olivier Berger et mise \u00e0 jour par Henri Garreta, du tutoriel Python \u00e9dit\u00e9 par Guido van Rossum et Fred L. Drake.*"
     ]
    }
   ],
   "metadata": {}
  }
 ]
}