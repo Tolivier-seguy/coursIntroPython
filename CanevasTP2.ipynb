{
 "metadata": {
  "name": "",
  "signature": "sha256:4070b0b0f7df0f9b2260dcd2de48c7b5ae16bbbf925d9957f54ab947b8abf940"
 },
 "nbformat": 3,
 "nbformat_minor": 0,
 "worksheets": [
  {
   "cells": [
    {
     "cell_type": "heading",
     "level": 1,
     "metadata": {},
     "source": [
      "Automatisation des t\u00e2ches d'administration syst\u00e8me"
     ]
    },
    {
     "cell_type": "heading",
     "level": 1,
     "metadata": {},
     "source": [
      "M3206 - TP 2 : Analyse de trace de connexion sur un serveur"
     ]
    },
    {
     "cell_type": "markdown",
     "metadata": {},
     "source": [
      "Ceci est un canevas pour votre compte-rendu de TP, que vous devrez rendre sur [e-campus](http://e-campus.iut-velizy.uvsq.fr/). Vous modifierez directement dans ce document."
     ]
    },
    {
     "cell_type": "heading",
     "level": 2,
     "metadata": {},
     "source": [
      "Bin\u00f4me"
     ]
    },
    {
     "cell_type": "markdown",
     "metadata": {},
     "source": [
      "* Nom1 Pr\u00e9nom1\n",
      "* Nom2 Pr\u00e9nom2"
     ]
    },
    {
     "cell_type": "heading",
     "level": 2,
     "metadata": {},
     "source": [
      "Pr\u00e9ambule"
     ]
    },
    {
     "cell_type": "markdown",
     "metadata": {},
     "source": [
      "Le fichier de logs est un exemple tir\u00e9 du fichier `/var/log/messages` g\u00e9n\u00e9r\u00e9 par `syslogd`, le d\u00e9mon de gestion de log de GNU/Linux.\n",
      "\n",
      "Les fichiers pour ce TP sont disponible sur le serveur `bach.lisv.uvsq.fr`, vous vous y connecterez avec la commande `scp`. Ouvrez un terminal et tapez la commande :\n",
      "\n",
      "    scp rtuser@bach.lisv.uvsq.fr:~/test_messages* ./\n",
      "    \n",
      "Le mot de passe est `tp1gentoo`. Verifiez le r\u00e9pertoire dans lequel est ex\u00e9cut\u00e9 ce notebook et copiez-y les fichiers `test_messages100` et `test_messages5000`. Comme le fichier `/var/log/messages` peut \u00eatre de grande taille (> 10 Mo), nous travaillerons sur des fichiers plus petits de 100 ou 5000 lignes.\n",
      "\n",
      "Pour ce TP, vous aurez besoin d'installer les biblioth\u00e8ques suivantes : \n",
      "* pyparsing\n",
      "* pandas\n",
      "* basemap (facultatif)\n",
      "Pour installer ces biblioth\u00e8ques, ex\u00e9cutez la ligne suivante:\n",
      "\n",
      "    conda install pyparsing pandas basemap\n",
      "    \n",
      "Vous aurez \u00e9galement besoin des import suivant:"
     ]
    },
    {
     "cell_type": "code",
     "collapsed": false,
     "input": [
      "from __future__ import print_function"
     ],
     "language": "python",
     "metadata": {},
     "outputs": [],
     "prompt_number": 2
    },
    {
     "cell_type": "markdown",
     "metadata": {},
     "source": [
      "Comme vous aller afficher des figures, nous allons contraindre la taillde des images:"
     ]
    },
    {
     "cell_type": "code",
     "collapsed": false,
     "input": [
      "rcParams['figure.figsize'] = 10, 5"
     ],
     "language": "python",
     "metadata": {},
     "outputs": []
    },
    {
     "cell_type": "heading",
     "level": 2,
     "metadata": {},
     "source": [
      "Parseur de logs"
     ]
    },
    {
     "cell_type": "markdown",
     "metadata": {},
     "source": [
      "Pour lire et interpr\u00e9ter (*to parse* en anglais) correctement le fichier de logs, on va utiliser un *parser*. Comme il n'y pas de *parser* d\u00e9j\u00e0 disponible pour le fichier `/var/log/messages`, il faut l'\u00e9crire. Nous allons utiliser le module `pyparsing` qui permet de d\u00e9finir son propre parser.\n",
      "\n",
      "Nous allons cr\u00e9er une nouvelle classe de parseur que nous appellerons `SyslogParser`. Nous aurons alors besoin de d\u00e9finir la fonction d'initialisation, appell\u00e9e quand on cr\u00e9e le parseur et la fonction pour parser un fichier. "
     ]
    },
    {
     "cell_type": "code",
     "collapsed": false,
     "input": [
      "from pyparsing import Word, nums, alphas, string, Combine, Optional, Suppress, Regex, ParseException\n",
      " \n",
      "class SyslogParser(object):\n",
      "    \"\"\"Parser for syslog information\"\"\"\n",
      "    def __init__(self):\n",
      "        \"\"\"Parser for syslog information\n",
      "        \n",
      "        Initialize the parser for a file like /var/log/message, with lines of the form:\n",
      "        timestamp hostname command[pid]: message\n",
      "        \"\"\"\n",
      "        ints = Word(nums)\n",
      "        # extract timestamp\n",
      "        month = Word(string.uppercase, string.lowercase, exact=3)\n",
      "        day = ints\n",
      "        hour = Combine(ints + \":\" + ints + \":\" + ints)\n",
      "        timestamp = month + day + hour\n",
      "        # hostname\n",
      "        hostname = Word(alphas + nums + \"_\" + \"-\" + \".\")\n",
      "        # appname\n",
      "        command = Word(alphas + \"/\" + \"-\" + \"_\" + \".\") + Optional(Suppress(\"[\") + ints + Suppress(\"]\")) + Suppress(\":\")\n",
      "        # message\n",
      "        message = Regex(\".*\")\n",
      "        # pattern build\n",
      "        self.__pattern = timestamp + hostname + command + message\n",
      "\n",
      "    def parse(self, line):\n",
      "        \"\"\"Parser for syslog information\n",
      "        \n",
      "        Parse file like /var/log/message, with lines of the form:\n",
      "        timestamp hostname command[pid]: message\n",
      "        \"\"\"\n",
      "        payload = {}\n",
      "        try:\n",
      "            parsed = self.__pattern.parseString(line)\n",
      "            payload[\"timestamp\"] = parsed[0]+\" \"+parsed[1]+\" \"+parsed[2]\n",
      "            payload[\"hostname\"] = parsed[3]\n",
      "            payload[\"command\"] = parsed[4]\n",
      "            payload[\"pid\"] = parsed[5]\n",
      "            payload[\"message\"] = parsed[6]\n",
      "        except ParseException:\n",
      "            print (\"error parsing line:\", line, end='')\n",
      "            pass\n",
      "        except:\n",
      "            raise\n",
      "        return payload\n",
      "    \n",
      "    def parseSSH(self, line):\n",
      "        \"\"\"Parser syslog for sshd information\n",
      "        \n",
      "        Parse files like /var/log/message, with lines of the form:\n",
      "        timestamp hostname command[pid]: message\n",
      "        Only the information relevant to sshd are kept.\n",
      "        \"\"\"\n",
      "        payload = {}\n",
      "        try:\n",
      "            parsed = self.__pattern.parseString(line)\n",
      "            if parsed[4] != 'sshd':\n",
      "                return\n",
      "            payload[\"timestamp\"] = parsed[0]+\" \"+parsed[1]+\" \"+parsed[2]\n",
      "            payload[\"pid\"] = parsed[5]\n",
      "            message = parsed[6].split(';')\n",
      "            msg = []\n",
      "            for f in message:\n",
      "                msg.append(f.split(':'))\n",
      "            if len(msg) == 1 or len(msg) == 2:\n",
      "                if message[0].split()[0] == 'reverse':\n",
      "                    payload['reversedMapping'] = False\n",
      "                    return payload\n",
      "                else:\n",
      "                    return \n",
      "            if msg[1][1] == ' Version':\n",
      "                payload[\"client\"] = msg[4][1]\n",
      "            if msg[1][1] == ' Authname':\n",
      "                payload[\"user\"] = msg[3][1].split('[')[0]\n",
      "            payload['ip'] = msg[2][1]\n",
      "        except ParseException:\n",
      "            print (\"error parsing line:\", line, end='')\n",
      "            pass\n",
      "        except:\n",
      "            print (\"error parsing line:\", line, end='')\n",
      "            raise\n",
      "        return payload"
     ],
     "language": "python",
     "metadata": {},
     "outputs": [],
     "prompt_number": 3
    },
    {
     "cell_type": "markdown",
     "metadata": {},
     "source": [
      "Apr\u00e8s avoir import\u00e9 les modules et fonctions dont nous avions besoin, nous avons cr\u00e9e la classe `SyslogParser` et nous lui avons associ\u00e9 deux fonctions `__init__(self)` (qui est obligatoire) et `parse(self, line)` qui nous permet de parser la ligne `line` pass\u00e9e en argument. \n",
      "\n",
      "La fonction `__init__(self)` utilise les outils fournis par le module `pyparsing` pour d\u00e9finir un patron (ou *pattern* en anglais) de ligne qui est appel\u00e9 `__pattern`. Celui ci est de la forme : `timestamp hostname command[pid]: message` et utilise les fonctions de pyparsing pour une robustesse maximale. On d\u00e9finit ensuite la fonction `parse(self, line)` qui sert \u00e0 parser une ligne. La ligne est donn\u00e9e au parseur de patron `__pattern` qui retourne une liste appel\u00e9e `parsed`. Cette liste est utilis\u00e9e pour cr\u00e9er un dictionnaire nomm\u00e9 `payload` (qu'on peut traduire par *message utile* en fran\u00e7ais). Ce dictionnaire \u00e0 5 champs (ou `keys`):\n",
      "\n",
      "* `timestamp` : la date\n",
      "* `hostname` : le nom de la machine\n",
      "* `command` : le nom de l'application qui \u00e9crit dans le fichier de logs\n",
      "* `pid` : le PID de l'application (son num\u00e9ro de processus)\n",
      "* `message` : le message que l'application \u00e0 envoy\u00e9\n",
      "\n",
      "La fonction `parseSSH(self, line)` permet de traiter uniquement les lignes g\u00e9n\u00e9r\u00e9es par le d\u00e9mon `sshd` et de les analyser plus finement. Cette fonction parse la ligne `line` donn\u00e9e en param\u00e8tre et retourne le dictionnaire `payload` qui contient suivant (ceux qui sont facultatifs sont indiqu\u00e9s) :\n",
      "\n",
      "* `timestamp` : la date\n",
      "* `pid` : le PID de l'application\n",
      "* `client` : le nom et la version du client ssh (facultatif)\n",
      "* `user` : le nom de l'utilisateur utilis\u00e9 (facultatif)\n",
      "* `reversedMapping` : v\u00e9rification du *reverse mapping* (pour \u00e9viter les tentatives d'IP spoofing)\n",
      "\n",
      "Nous allons v\u00e9rifier si notre parseur fonctionne avec un exemple simple, une ligne tir\u00e9e du fichier `messages`."
     ]
    },
    {
     "cell_type": "code",
     "collapsed": false,
     "input": [
      "sample_line = \"Nov 28 03:50:01 bach cron[16620]: (root) CMD (test -x /usr/sbin/run-crons && /usr/sbin/run-crons)\"\n",
      "parser = SyslogParser()\n",
      "fields = parser.parse(sample_line)"
     ],
     "language": "python",
     "metadata": {},
     "outputs": [],
     "prompt_number": 4
    },
    {
     "cell_type": "heading",
     "level": 5,
     "metadata": {},
     "source": [
      "Question"
     ]
    },
    {
     "cell_type": "markdown",
     "metadata": {},
     "source": [
      "Affichez la ligne \u00e0 traiter et la ligne trait\u00e9e pour v\u00e9rifier si le code \u00e0 bien fonctionn\u00e9"
     ]
    },
    {
     "cell_type": "code",
     "collapsed": false,
     "input": [
      "print"
     ],
     "language": "python",
     "metadata": {},
     "outputs": []
    },
    {
     "cell_type": "heading",
     "level": 2,
     "metadata": {},
     "source": [
      "Analyse des logs"
     ]
    },
    {
     "cell_type": "markdown",
     "metadata": {},
     "source": [
      "Apr\u00e8s avoir v\u00e9rifi\u00e9 que notre parseur a bien fonctionn\u00e9, et que tous les champs sont bien renseign\u00e9s. La ligne pars\u00e9e g\u00e9n\u00e8re un dictionnaire, appell\u00e9 `fields` ici, dont les entr\u00e9es sont les diff\u00e9rents champs.\n",
      "\n",
      "Avant de traiter le vrai fichier `/var/log/messages`, nous allons utiliser un fichier de test, qui contient les premi\u00e8res lignes de `/var/log/messages`. Cela nous permettra de faire une premi\u00e8re analyse, de v\u00e9rifier le bon fonctionnement sans avoir besoin de traiter l'int\u00e9gralit\u00e9 des donn\u00e9es du vrai fichier. Une fois les tests r\u00e9alis\u00e9s, nous pourrons traiter l'int\u00e9gralit\u00e9 du fichier `message`."
     ]
    },
    {
     "cell_type": "heading",
     "level": 5,
     "metadata": {},
     "source": [
      "Question"
     ]
    },
    {
     "cell_type": "markdown",
     "metadata": {},
     "source": [
      "\u00c9crivez le code qui permet d'ouvrir le fichier `test_messages5000` et qui parse chacune de ses lignes. Les lignes ainsi pars\u00e9es  sont \u00e0 aggr\u00e9ger dans une liste que vous appelerez `log_list`."
     ]
    },
    {
     "cell_type": "code",
     "collapsed": false,
     "input": [],
     "language": "python",
     "metadata": {},
     "outputs": []
    },
    {
     "cell_type": "markdown",
     "metadata": {},
     "source": [
      "V\u00e9rifiez la taille de `log_list`, qui doit \u00eatre \u00e9gale \u00e0 5000 si vous avez ouvert `test_messages5000`."
     ]
    },
    {
     "cell_type": "code",
     "collapsed": false,
     "input": [],
     "language": "python",
     "metadata": {},
     "outputs": []
    },
    {
     "cell_type": "markdown",
     "metadata": {},
     "source": [
      "Il y a bien un nombre de lignes relativement faible pour le fichier de test, comparativement aux 200 000 lignes du \"vrai\" fichier `/var/log/messages`.\n",
      "\n",
      "Nous allons maintenant utiliser le module `pandas` pour mettre en forme les donn\u00e9es. Ce module permet de cr\u00e9er des *DataFrames* : ce sont des conteneurs qui permettent de mettre l'information en forme."
     ]
    },
    {
     "cell_type": "code",
     "collapsed": false,
     "input": [
      "import pandas as pd\n",
      "from pandas import Series, DataFrame, Panel\n",
      "df = DataFrame(log_list)"
     ],
     "language": "python",
     "metadata": {},
     "outputs": []
    },
    {
     "cell_type": "heading",
     "level": 5,
     "metadata": {},
     "source": [
      "Question"
     ]
    },
    {
     "cell_type": "markdown",
     "metadata": {},
     "source": [
      "Affichez les 3 premi\u00e8res \u00e9l\u00e9ments de `df`. Les *DataFrame* peuvent se manipuler comme des listes."
     ]
    },
    {
     "cell_type": "code",
     "collapsed": false,
     "input": [],
     "language": "python",
     "metadata": {},
     "outputs": []
    },
    {
     "cell_type": "markdown",
     "metadata": {},
     "source": [
      "Nous allons maintenant utiliser le champ `timestamp` comme \u00e9tiquettes temporelles pour nos logs :"
     ]
    },
    {
     "cell_type": "code",
     "collapsed": false,
     "input": [
      "df.index = pd.to_datetime(df.pop('timestamp'))"
     ],
     "language": "python",
     "metadata": {},
     "outputs": []
    },
    {
     "cell_type": "markdown",
     "metadata": {},
     "source": [
      "Il est possible d'afficher les informations sur cette *DataFrame* avec:"
     ]
    },
    {
     "cell_type": "code",
     "collapsed": false,
     "input": [
      "df.info()"
     ],
     "language": "python",
     "metadata": {},
     "outputs": []
    },
    {
     "cell_type": "markdown",
     "metadata": {},
     "source": [
      "Il est \u00e9galement possible d'afficher les informations sur le contenus et les diff\u00e9rents champs de la *DataFrame* :"
     ]
    },
    {
     "cell_type": "code",
     "collapsed": false,
     "input": [
      "df.describe()"
     ],
     "language": "python",
     "metadata": {},
     "outputs": []
    },
    {
     "cell_type": "markdown",
     "metadata": {},
     "source": [
      "Regardons maintenant quels sont les applications qui ont envoy\u00e9es des messages, nous allons utiliser la fonction `unique` pour afficher l'ensemble des valeurs prises par le champs `command`."
     ]
    },
    {
     "cell_type": "code",
     "collapsed": false,
     "input": [
      "df.command.value_counts()"
     ],
     "language": "python",
     "metadata": {},
     "outputs": []
    },
    {
     "cell_type": "heading",
     "level": 5,
     "metadata": {},
     "source": [
      "Question"
     ]
    },
    {
     "cell_type": "markdown",
     "metadata": {},
     "source": [
      "Quelle est la commande la plus fr\u00e9quente ? Que pouvez vous dire sur les t\u00e2ches de `cron` ?"
     ]
    },
    {
     "cell_type": "markdown",
     "metadata": {},
     "source": [
      " "
     ]
    },
    {
     "cell_type": "heading",
     "level": 2,
     "metadata": {},
     "source": [
      "Figures et visualisations"
     ]
    },
    {
     "cell_type": "markdown",
     "metadata": {},
     "source": [
      "On peut g\u00e9n\u00e9rer un histogramme \u00e0 partir de ces donn\u00e9es de la fa\u00e7on suivante. On regroupe les informations de la *DataFrame* par commande. On calcule ensuite le nombre de chaque commande avec la fonction `size()` puis on affiche un diagramme en b\u00e2tons (*bars* en anglais). La biblioth\u00e8que Pandas permet de g\u00e9n\u00e9rer facilement toute sort de graphique en appelant la fonction `plot()` avec comme argument `kind`. Les types possibles sont: \n",
      "\n",
      "* `bar` ou `barh` pour les diagrammes (verticaux ou horizontaux)\n",
      "* `hist` pour les histogrammes\n",
      "* `box` pour les bo\u00eetes \u00e0 moustaches\n",
      "* `kde` ou `density` pour les figures de densit\u00e9 de probabilit\u00e9s\n",
      "* `area` pour les aires \n",
      "* `scatter` pour les nuages de points\n",
      "* `hexbin` pour les cartes hexagonales\n",
      "* `pie` pour les camemberts"
     ]
    },
    {
     "cell_type": "code",
     "collapsed": false,
     "input": [
      "grouped_status = df.groupby('command')\n",
      "grouped_status.size().plot(kind='bar')"
     ],
     "language": "python",
     "metadata": {},
     "outputs": []
    },
    {
     "cell_type": "markdown",
     "metadata": {},
     "source": [
      "Regardons maintenant le nombres de messages g\u00e9n\u00e9r\u00e9s toutes les dix minutes. On va donc r\u00e9-\u00e9chantilloner les commandes avec `resample()` en faisant des paquets de 10 minutes (indiqu\u00e9 ici par `10t`) dans lesquels on va sommer chaque commande (avec `how='count'`). "
     ]
    },
    {
     "cell_type": "code",
     "collapsed": false,
     "input": [
      "df_s = df.command.resample('10t', how='count')\n",
      "df_s.plot()"
     ],
     "language": "python",
     "metadata": {},
     "outputs": []
    },
    {
     "cell_type": "markdown",
     "metadata": {},
     "source": [
      "Pour voir la part respectives de chaque applications dans la g\u00e9n\u00e9ration de log, on peut s\u00e9parer les donn\u00e9es quantitative pour chaque application puis les regrouper dans un *DataFrame* commun. On peut en profiter pour regrouper les activit\u00e9s de `cron` de `run-crons` sous la m\u00eame \u00e9tiquette. Pour avoir des r\u00e9sultats interpr\u00e9tables, on aggr\u00e8ge les messages par groupe de 2h (`120t`)."
     ]
    },
    {
     "cell_type": "code",
     "collapsed": false,
     "input": [
      "t_span = '120t'\n",
      "df_cron = df['command'][df['command'].isin(['cron', 'run-crons']) ].resample(t_span, how='count')\n",
      "df_sshd = df['command'][df['command'] == 'sshd'].resample(t_span, how='count')\n",
      "df_syslog = df['command'][df['command'] == 'syslog-ng'].resample(t_span, how='count')\n",
      "\n",
      "status_df = DataFrame({'cron': df_cron, \n",
      "                       'sshd': df_sshd, \n",
      "                       'syslog': df_syslog})\n",
      "status_df.plot(kind=\"bar\", stacked=True, color=(\"r\", \"g\",\"b\"), xticks=())\n",
      "legend()"
     ],
     "language": "python",
     "metadata": {},
     "outputs": []
    },
    {
     "cell_type": "heading",
     "level": 2,
     "metadata": {},
     "source": [
      "Analyse des traces SSH"
     ]
    },
    {
     "cell_type": "markdown",
     "metadata": {},
     "source": [
      "Voici un exemple de traces SSH : "
     ]
    },
    {
     "cell_type": "code",
     "collapsed": false,
     "input": [
      "samples=[\n",
      "\"Nov 28 05:01:44 bach sshd[17038]: SSH: Server;Ltype: Version;Remote: 122.225.97.104-29185;Protocol: 2.0;Client: libssh2_1.4.2\", \n",
      "\"Nov 28 05:01:45 bach sshd[17038]: SSH: Server;Ltype: Kex;Remote: 122.225.97.104-29185;Enc: aes128-ctr;MAC: hmac-sha1;Comp: none [preauth]\",\n",
      "\"Nov 28 05:01:59 bach sshd[17038]: SSH: Server;Ltype: Authname;Remote: 122.225.97.104-29185;Name: root [preauth]\",\n",
      "\"Nov 28 05:01:59 bach sshd[17038]: reverse mapping checking getaddrinfo for mx7.fund123.cn [122.225.97.104] failed - POSSIBLE BREAK-IN ATTEMPT!\",\n",
      "\"Nov 28 05:01:59 bach sshd[17038]: User root from 122.225.97.104 not allowed because not listed in AllowUsers\",\n",
      "\"Nov 28 05:01:59 bach sshd[17038]: input_userauth_request: invalid user root [preauth]\",\n",
      "\"Nov 28 05:01:59 bach sshd[17038]: Connection closed by 122.225.97.104 [preauth]\"]"
     ],
     "language": "python",
     "metadata": {},
     "outputs": [],
     "prompt_number": 5
    },
    {
     "cell_type": "markdown",
     "metadata": {},
     "source": [
      "On peut voir que les informations sur la connexion SSH sont r\u00e9parties sur plusieurs messages :\n",
      "\n",
      "* Le premier indique l'adresse IP, la version du protocole, le client. \n",
      "* Le second pr\u00e9cise l'encryptage et les moyens cryptographiques. \n",
      "* Le troisi\u00e8me donne l'utilisateur utilis\u00e9 pour la connexion.\n",
      "* Le quatri\u00e8me indique que le nom de la machine ne correspond pas \u00e0 l'adresse IP.\n",
      "* Le cinqui\u00e8me explique que `root` n'est pas admis \u00e0 se connecter en SSH.\n",
      "* Le sixi\u00e8me indique le message envoy\u00e9 au client.\n",
      "* Le septi\u00e8me pr\u00e9cise que la connexion a \u00e9t\u00e9 ferm\u00e9e par le client.\n",
      "\n",
      "Ces sept message sont issus du m\u00eame processus, on peut voir que le PID est le m\u00eame pour tous. Or le parseur SSH permet seulement d'analyser les logs lignes \u00e0 lignes. Le r\u00e9sultat est le suivant :"
     ]
    },
    {
     "cell_type": "code",
     "collapsed": false,
     "input": [
      "parser = SyslogParser()\n",
      "parser = SyslogParser()\n",
      "for s in samples:\n",
      "    print (\"Ligne pars\u00e9e :\\n\", parser.parseSSH(s))"
     ],
     "language": "python",
     "metadata": {},
     "outputs": []
    },
    {
     "cell_type": "markdown",
     "metadata": {},
     "source": [
      "Le parseur retourne des informations diff\u00e9rentes pour les 4 premi\u00e8res lignes et ne retourne rien pour les 3 derni\u00e8res."
     ]
    },
    {
     "cell_type": "heading",
     "level": 5,
     "metadata": {},
     "source": [
      "Question"
     ]
    },
    {
     "cell_type": "markdown",
     "metadata": {},
     "source": [
      "\u00c9crivez le code n\u00e9cessaire pour \n",
      "\n",
      "* Cr\u00e9er une liste appel\u00e9e `sshlog_list` qui va stocker toutes les lignes pars\u00e9es\n",
      "* Supprimer les \u00e9lements vide de la liste (leur valeur est `None`)\n",
      "* Traiter les \u00e9l\u00e9ments de la liste pour fusionner ceux qui ont le m\u00eame PID. Vous utiliserez `a.update(b)` qui permet de mettre \u00e0 jour les champs de `a` avec ceux de `b` et `del b` qui permet du supprimer `b`. "
     ]
    },
    {
     "cell_type": "code",
     "collapsed": false,
     "input": [],
     "language": "python",
     "metadata": {},
     "outputs": []
    },
    {
     "cell_type": "heading",
     "level": 5,
     "metadata": {},
     "source": [
      "Question"
     ]
    },
    {
     "cell_type": "markdown",
     "metadata": {},
     "source": [
      "Apr\u00e8s avoir valid\u00e9 votre code sur la question pr\u00e9c\u00e9dente, adaptez le pour traiter le fichier `test_messages100`."
     ]
    },
    {
     "cell_type": "code",
     "collapsed": false,
     "input": [],
     "language": "python",
     "metadata": {},
     "outputs": []
    },
    {
     "cell_type": "markdown",
     "metadata": {},
     "source": [
      "Convertissons maintenant la liste obtenue sur ce fichier en *DataFrame* :"
     ]
    },
    {
     "cell_type": "code",
     "collapsed": false,
     "input": [
      "df = DataFrame(sshlog_list)\n",
      "df.index = pd.to_datetime(df.pop('timestamp'))"
     ],
     "language": "python",
     "metadata": {},
     "outputs": []
    },
    {
     "cell_type": "markdown",
     "metadata": {},
     "source": [
      "Vous pouvez utiliser `df.info()` et `df.describe()` pour v\u00e9rifier les informations sur la *DataFrame*."
     ]
    },
    {
     "cell_type": "code",
     "collapsed": false,
     "input": [],
     "language": "python",
     "metadata": {},
     "outputs": []
    },
    {
     "cell_type": "heading",
     "level": 5,
     "metadata": {},
     "source": [
      "Question"
     ]
    },
    {
     "cell_type": "markdown",
     "metadata": {},
     "source": [
      "Utilisez la fonction `plot()` pour mettre sous forme de figures les informations de votre fichier de message. Vous proposerez une petite analyse des informations ainsi obtenues."
     ]
    },
    {
     "cell_type": "code",
     "collapsed": false,
     "input": [],
     "language": "python",
     "metadata": {},
     "outputs": []
    },
    {
     "cell_type": "heading",
     "level": 5,
     "metadata": {},
     "source": [
      "Question (*)"
     ]
    },
    {
     "cell_type": "markdown",
     "metadata": {},
     "source": [
      "Cette question est facultative. Vous utiliserez le module Basemap pour afficher une carte sur monde sur laquelle vous afficherez les positions g\u00e9ographiques associ\u00e9es \u00e0 ces adresses IP. Pour cela, vous utiliserez le code suivant qui permet de r\u00e9cuperer les coordonn\u00e9es de latitude et de longitude pour chaque IP. Le site freegeoip.net qui propose ce service limite le nombre de demandes. Vous devrez donc d'abord enlever les doublons, c'est \u00e0 dire \u00e9viter de faire plusieurs requ\u00eates pour la m\u00eame IP. "
     ]
    },
    {
     "cell_type": "code",
     "collapsed": false,
     "input": [
      "import re\n",
      "from csv import reader\n",
      "from urllib import urlopen\n",
      "FREE_GEOIP_CSV_URL = \"http://freegeoip.net/csv/%s\"\n",
      "def valid_ip(ip):\n",
      "\n",
      "    pattern = r\"\\b(25[0-5]|2[0-4][0-9]|[01]?[0-9][0-9]?)\\.(25[0-5]|2[0-4][0-9]|[01]?[0-9][0-9]?)\\.(25[0-5]|2[0-4][0-9]|[01]?[0-9][0-9]?)\\.(25[0-5]|2[0-4][0-9]|[01]?[0-9][0-9]?)\\b\"\n",
      "\n",
      "    return re.match(pattern, ip)\n",
      "\n",
      "def __get_geodata_csv(ip):\n",
      "    if not valid_ip(ip):\n",
      "        raise Exception('Invalid IP format', 'You must enter a valid ip format: X.X.X.X')\n",
      "\n",
      "    URL = FREE_GEOIP_CSV_URL % ip\n",
      "    response_csv = reader(urlopen(URL))\n",
      "    csv_data = response_csv.next()\n",
      "\n",
      "    return {\n",
      "        \"status\": u\"True\" == csv_data[0],\n",
      "        \"ip\":csv_data[1],\n",
      "        \"countrycode\":csv_data[2],\n",
      "        \"countryname\":csv_data[3],\n",
      "        \"regioncode\":csv_data[4],\n",
      "        \"regionname\":csv_data[5],\n",
      "        \"city\":csv_data[6],\n",
      "        \"zipcode\":csv_data[7],\n",
      "        \"latitude\":csv_data[8],\n",
      "        \"longitude\":csv_data[9]\n",
      "    }\n",
      "\n",
      "def get_geodata(ip):\n",
      "    return __get_geodata_csv(ip)"
     ],
     "language": "python",
     "metadata": {},
     "outputs": [],
     "prompt_number": 6
    },
    {
     "cell_type": "code",
     "collapsed": false,
     "input": [
      "# \u00e9crivez le code qui permette de r\u00e9cup\u00e9rer lats, la liste des latitudes,\n",
      "# et lons, la listes des longitudes associ\u00e9s aux IP uniques"
     ],
     "language": "python",
     "metadata": {},
     "outputs": []
    },
    {
     "cell_type": "code",
     "collapsed": false,
     "input": [
      "from mpl_toolkits.basemap import Basemap\n",
      "\n",
      "m = Basemap(projection='mill') # creation de la carte en utilisant la projection de Millner\n",
      "figure(figsize(10,14)) # on change la taille de la figure\n",
      "x, y = m(lons, lats) # lons et lats sont les listes des latitudes et des longitudes des IP\n",
      "m.scatter(x, y, marker='o', color='r') # on affiche des points au coordonn\u00e9es des IP\n",
      "m.drawcoastlines(color='SaddleBrown') # on affiche les c\u00f4tes\n",
      "m.drawmapboundary(fill_color='SkyBlue') # on remplit les oc\u00e9ans\n",
      "_ = m.fillcontinents(color='BurlyWood',lake_color='SkyBlue', zorder=0) # on remplit les continents"
     ],
     "language": "python",
     "metadata": {},
     "outputs": []
    }
   ],
   "metadata": {}
  }
 ]
}