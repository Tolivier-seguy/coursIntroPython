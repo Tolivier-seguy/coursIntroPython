{
 "cells": [
  {
   "cell_type": "markdown",
   "metadata": {},
   "source": [
    "# Automatisation des tâches d'administration système"
   ]
  },
  {
   "cell_type": "markdown",
   "metadata": {},
   "source": [
    "# M3206 - TP 2 : Analyse de trace de connexion sur un serveur"
   ]
  },
  {
   "cell_type": "markdown",
   "metadata": {},
   "source": [
    "Ceci est un canevas pour votre compte-rendu de TP, que vous devrez rendre sur [e-campus](http://e-campus.iut-velizy.uvsq.fr/). Vous modifierez directement dans ce document."
   ]
  },
  {
   "cell_type": "markdown",
   "metadata": {},
   "source": [
    "## Binôme"
   ]
  },
  {
   "cell_type": "markdown",
   "metadata": {},
   "source": [
    "* Nom1 Prénom1\n",
    "* Nom2 Prénom2"
   ]
  },
  {
   "cell_type": "markdown",
   "metadata": {},
   "source": [
    "## Préambule"
   ]
  },
  {
   "cell_type": "markdown",
   "metadata": {},
   "source": [
    "Le fichier de logs est un exemple tiré du fichier `/var/log/messages` généré par `syslogd`, le démon de gestion de log de GNU/Linux.\n",
    "\n",
    "Les fichiers pour ce TP sont disponible sur le serveur `bach.lisv.uvsq.fr`, vous vous y connecterez avec la commande `scp`. Ouvrez un terminal et tapez la commande :\n",
    "\n",
    "    scp rtuser@bach.lisv.uvsq.fr:~/test_messages* ./\n",
    "    \n",
    "Le mot de passe est `tp1gentoo`. Verifiez le répertoire dans lequel est exécuté ce notebook et copiez-y les fichiers `test_messages100` et `test_messages5000`. Comme le fichier `/var/log/messages` peut être de grande taille (> 10 Mo), nous travaillerons sur des fichiers plus petits de 100 ou 5000 lignes.\n",
    "\n",
    "Pour ce TP, vous aurez besoin d'installer les bibliothèques suivantes : \n",
    "* pyparsing\n",
    "* pandas\n",
    "* basemap (facultatif)\n",
    "Pour installer ces bibliothèques, exécutez la ligne suivante:\n",
    "\n",
    "    conda install pyparsing pandas basemap"
   ]
  },
  {
   "cell_type": "markdown",
   "metadata": {},
   "source": [
    "Comme vous aller créer des figures, nous allons demander à les afficher dans le corps du notebook :"
   ]
  },
  {
   "cell_type": "code",
   "execution_count": 1,
   "metadata": {
    "collapsed": false
   },
   "outputs": [],
   "source": [
    "% matplotlib inline"
   ]
  },
  {
   "cell_type": "markdown",
   "metadata": {},
   "source": [
    "## Parseur de logs"
   ]
  },
  {
   "cell_type": "markdown",
   "metadata": {},
   "source": [
    "Pour lire et interpréter (*to parse* en anglais) correctement le fichier de logs, on va utiliser un *parser*. Comme il n'y pas de *parser* déjà disponible pour le fichier `/var/log/messages`, il faut l'écrire. Nous allons utiliser le module `pyparsing` qui permet de définir son propre parser.\n",
    "\n",
    "Nous allons créer une nouvelle classe de parseur que nous appellerons `SyslogParser`. Nous aurons alors besoin de définir la fonction d'initialisation, appellée quand on crée le parseur et la fonction pour parser un fichier. "
   ]
  },
  {
   "cell_type": "code",
   "execution_count": 2,
   "metadata": {
    "collapsed": false
   },
   "outputs": [],
   "source": [
    "from pyparsing import Word, nums, alphas, string, Combine, Optional, Suppress, Regex, ParseException\n",
    " \n",
    "class SyslogParser(object):\n",
    "    \"\"\"Parser for syslog information\"\"\"\n",
    "    def __init__(self):\n",
    "        \"\"\"Parser for syslog information\n",
    "        \n",
    "        Initialize the parser for a file like /var/log/message, with lines of the form:\n",
    "        timestamp hostname command[pid]: message\n",
    "        \"\"\"\n",
    "        ints = Word(nums)\n",
    "        # extract timestamp\n",
    "        month = Word(string.ascii_uppercase, string.ascii_lowercase, exact=3)\n",
    "        day = ints\n",
    "        hour = Combine(ints + \":\" + ints + \":\" + ints)\n",
    "        timestamp = month + day + hour\n",
    "        # hostname\n",
    "        hostname = Word(alphas + nums + \"_\" + \"-\" + \".\")\n",
    "        # appname\n",
    "        command = Word(alphas + \"/\" + \"-\" + \"_\" + \".\") + Optional(Suppress(\"[\") + ints + Suppress(\"]\")) + Suppress(\":\")\n",
    "        # message\n",
    "        message = Regex(\".*\")\n",
    "        # pattern build\n",
    "        self.__pattern = timestamp + hostname + command + message\n",
    "\n",
    "    def parse(self, line):\n",
    "        \"\"\"Parser for syslog information\n",
    "        \n",
    "        Parse file like /var/log/message, with lines of the form:\n",
    "        timestamp hostname command[pid]: message\n",
    "        \"\"\"\n",
    "        payload = {}\n",
    "        try:\n",
    "            parsed = self.__pattern.parseString(line)\n",
    "            payload[\"timestamp\"] = parsed[0]+\" \"+parsed[1]+\" \"+parsed[2]\n",
    "            payload[\"hostname\"] = parsed[3]\n",
    "            payload[\"command\"] = parsed[4]\n",
    "            payload[\"pid\"] = parsed[5]\n",
    "            payload[\"message\"] = parsed[6]\n",
    "        except ParseException:\n",
    "            print (\"error parsing line:\", line, end='')\n",
    "            pass\n",
    "        except:\n",
    "            raise\n",
    "        return payload\n",
    "    \n",
    "    def parseSSH(self, line):\n",
    "        \"\"\"Parser syslog for sshd information\n",
    "        \n",
    "        Parse files like /var/log/message, with lines of the form:\n",
    "        timestamp hostname command[pid]: message\n",
    "        Only the information relevant to sshd are kept.\n",
    "        \"\"\"\n",
    "        payload = {}\n",
    "        try:\n",
    "            parsed = self.__pattern.parseString(line)\n",
    "            if parsed[4] != 'sshd':\n",
    "                return\n",
    "            payload[\"timestamp\"] = parsed[0]+\" \"+parsed[1]+\" \"+parsed[2]\n",
    "            payload[\"pid\"] = parsed[5]\n",
    "            message = parsed[6].split(';')\n",
    "            msg = []\n",
    "            for f in message:\n",
    "                msg.append(f.split(':'))\n",
    "            if len(msg) == 1 or len(msg) == 2:\n",
    "                if message[0].split()[0] == 'reverse':\n",
    "                    payload['reversedMapping'] = False\n",
    "                    return payload\n",
    "                else:\n",
    "                    return \n",
    "            if msg[1][1] == ' Version':\n",
    "                payload[\"client\"] = msg[4][1]\n",
    "            if msg[1][1] == ' Authname':\n",
    "                payload[\"user\"] = msg[3][1].split('[')[0]\n",
    "            payload['ip'] = msg[2][1]\n",
    "        except ParseException:\n",
    "            print (\"error parsing line:\", line, end='')\n",
    "            pass\n",
    "        except:\n",
    "            print (\"error parsing line:\", line, end='')\n",
    "            raise\n",
    "        return payload"
   ]
  },
  {
   "cell_type": "markdown",
   "metadata": {},
   "source": [
    "Après avoir importé les modules et fonctions dont nous avions besoin, nous avons crée la classe `SyslogParser` et nous lui avons associé deux fonctions `__init__(self)` (qui est obligatoire) et `parse(self, line)` qui nous permet de parser la ligne `line` passée en argument. \n",
    "\n",
    "La fonction `__init__(self)` utilise les outils fournis par le module `pyparsing` pour définir un patron (ou *pattern* en anglais) de ligne qui est appelé `__pattern`. Celui ci est de la forme : `timestamp hostname command[pid]: message` et utilise les fonctions de pyparsing pour une robustesse maximale. On définit ensuite la fonction `parse(self, line)` qui sert à parser une ligne. La ligne est donnée au parseur de patron `__pattern` qui retourne une liste appelée `parsed`. Cette liste est utilisée pour créer un dictionnaire nommé `payload` (qu'on peut traduire par *message utile* en français). Ce dictionnaire à 5 champs (ou `keys`):\n",
    "\n",
    "* `timestamp` : la date\n",
    "* `hostname` : le nom de la machine\n",
    "* `command` : le nom de l'application qui écrit dans le fichier de logs\n",
    "* `pid` : le PID de l'application (son numéro de processus)\n",
    "* `message` : le message que l'application à envoyé\n",
    "\n",
    "La fonction `parseSSH(self, line)` permet de traiter uniquement les lignes générées par le démon `sshd` et de les analyser plus finement. Cette fonction parse la ligne `line` donnée en paramètre et retourne le dictionnaire `payload` qui contient suivant (ceux qui sont facultatifs sont indiqués) :\n",
    "\n",
    "* `timestamp` : la date\n",
    "* `pid` : le PID de l'application\n",
    "* `client` : le nom et la version du client ssh (facultatif)\n",
    "* `user` : le nom de l'utilisateur utilisé (facultatif)\n",
    "* `reversedMapping` : vérification du *reverse mapping* (pour éviter les tentatives d'IP spoofing)\n",
    "\n",
    "Nous allons vérifier si notre parseur fonctionne avec un exemple simple, une ligne tirée du fichier `messages`."
   ]
  },
  {
   "cell_type": "code",
   "execution_count": 3,
   "metadata": {
    "collapsed": false
   },
   "outputs": [],
   "source": [
    "sample_line = \"Nov 28 03:50:01 bach cron[16620]: (root) CMD (test -x /usr/sbin/run-crons && /usr/sbin/run-crons)\"\n",
    "parser = SyslogParser()\n",
    "fields = parser.parse(sample_line)"
   ]
  },
  {
   "cell_type": "markdown",
   "metadata": {},
   "source": [
    "##### Question"
   ]
  },
  {
   "cell_type": "markdown",
   "metadata": {},
   "source": [
    "Affichez la ligne à traiter et la ligne traitée pour vérifier si le code à bien fonctionné"
   ]
  },
  {
   "cell_type": "code",
   "execution_count": 4,
   "metadata": {
    "collapsed": false
   },
   "outputs": [
    {
     "name": "stdout",
     "output_type": "stream",
     "text": [
      "Ligne à traiter: Nov 28 03:50:01 bach cron[16620]: (root) CMD (test -x /usr/sbin/run-crons && /usr/sbin/run-crons)\n",
      "Ligne traitée: {'pid': '16620', 'command': 'cron', 'message': '(root) CMD (test -x /usr/sbin/run-crons && /usr/sbin/run-crons)', 'timestamp': 'Nov 28 03:50:01', 'hostname': 'bach'}\n"
     ]
    }
   ],
   "source": [
    "print (\"Ligne à traiter:\", sample_line)\n",
    "print (\"Ligne traitée:\", fields)"
   ]
  },
  {
   "cell_type": "markdown",
   "metadata": {},
   "source": [
    "## Analyse des logs"
   ]
  },
  {
   "cell_type": "markdown",
   "metadata": {},
   "source": [
    "Après avoir vérifié que notre parseur a bien fonctionné, et que tous les champs sont bien renseignés. La ligne parsée génère un dictionnaire, appellé `fields` ici, dont les entrées sont les différents champs.\n",
    "\n",
    "Avant de traiter le vrai fichier `/var/log/messages`, nous allons utiliser un fichier de test, qui contient les premières lignes de `/var/log/messages`. Cela nous permettra de faire une première analyse, de vérifier le bon fonctionnement sans avoir besoin de traiter l'intégralité des données du vrai fichier. Une fois les tests réalisés, nous pourrons traiter l'intégralité du fichier `message`."
   ]
  },
  {
   "cell_type": "markdown",
   "metadata": {},
   "source": [
    "##### Question"
   ]
  },
  {
   "cell_type": "markdown",
   "metadata": {},
   "source": [
    "Écrivez le code qui permet d'ouvrir le fichier `test_messages5000` et qui parse chacune de ses lignes. Les lignes ainsi parsées  sont à aggréger dans une liste que vous appelerez `log_list`."
   ]
  },
  {
   "cell_type": "code",
   "execution_count": 5,
   "metadata": {
    "collapsed": false
   },
   "outputs": [],
   "source": [
    "with open('test_messages5000', 'r') as f:\n",
    "    lignes = f.readlines()\n",
    "parser = SyslogParser()\n",
    "log_list = []\n",
    "for l in lignes:\n",
    "    fields = parser.parse(l)\n",
    "    log_list.append(fields)"
   ]
  },
  {
   "cell_type": "markdown",
   "metadata": {},
   "source": [
    "Vérifiez la taille de `log_list`, qui doit être égale à 5000 si vous avez ouvert `test_messages5000`."
   ]
  },
  {
   "cell_type": "code",
   "execution_count": 6,
   "metadata": {
    "collapsed": false
   },
   "outputs": [
    {
     "data": {
      "text/plain": [
       "5000"
      ]
     },
     "execution_count": 6,
     "metadata": {},
     "output_type": "execute_result"
    }
   ],
   "source": [
    "len(log_list)"
   ]
  },
  {
   "cell_type": "markdown",
   "metadata": {},
   "source": [
    "Il y a bien un nombre de lignes relativement faible pour le fichier de test, comparativement aux 200 000 lignes du \"vrai\" fichier `/var/log/messages`.\n",
    "\n",
    "Nous allons maintenant utiliser le module `pandas` pour mettre en forme les données. Ce module permet de créer des *DataFrames* : ce sont des conteneurs qui permettent de mettre l'information en forme."
   ]
  },
  {
   "cell_type": "code",
   "execution_count": 7,
   "metadata": {
    "collapsed": false
   },
   "outputs": [],
   "source": [
    "import pandas as pd\n",
    "from pandas import Series, DataFrame, Panel\n",
    "df = DataFrame(log_list)"
   ]
  },
  {
   "cell_type": "markdown",
   "metadata": {},
   "source": [
    "##### Question"
   ]
  },
  {
   "cell_type": "markdown",
   "metadata": {},
   "source": [
    "Affichez les 3 premières éléments de `df`. Les *DataFrame* peuvent se manipuler comme des listes."
   ]
  },
  {
   "cell_type": "code",
   "execution_count": 8,
   "metadata": {
    "collapsed": false
   },
   "outputs": [
    {
     "data": {
      "text/html": [
       "<div>\n",
       "<table border=\"1\" class=\"dataframe\">\n",
       "  <thead>\n",
       "    <tr style=\"text-align: right;\">\n",
       "      <th></th>\n",
       "      <th>command</th>\n",
       "      <th>hostname</th>\n",
       "      <th>message</th>\n",
       "      <th>pid</th>\n",
       "      <th>timestamp</th>\n",
       "    </tr>\n",
       "  </thead>\n",
       "  <tbody>\n",
       "    <tr>\n",
       "      <th>0</th>\n",
       "      <td>syslog-ng</td>\n",
       "      <td>bach</td>\n",
       "      <td>Configuration reload request received, reloadi...</td>\n",
       "      <td>2138</td>\n",
       "      <td>Nov 28 03:10:03</td>\n",
       "    </tr>\n",
       "    <tr>\n",
       "      <th>1</th>\n",
       "      <td>run-crons</td>\n",
       "      <td>bach</td>\n",
       "      <td>(root) CMD (/etc/cron.daily/makewhatis)</td>\n",
       "      <td>16357</td>\n",
       "      <td>Nov 28 03:10:03</td>\n",
       "    </tr>\n",
       "    <tr>\n",
       "      <th>2</th>\n",
       "      <td>run-crons</td>\n",
       "      <td>bach</td>\n",
       "      <td>(root) CMD (/etc/cron.daily/rkhunter)</td>\n",
       "      <td>16406</td>\n",
       "      <td>Nov 28 03:10:03</td>\n",
       "    </tr>\n",
       "    <tr>\n",
       "      <th>3</th>\n",
       "      <td>cron</td>\n",
       "      <td>bach</td>\n",
       "      <td>(root) CMD (test -x /usr/sbin/run-crons &amp;&amp; /us...</td>\n",
       "      <td>16455</td>\n",
       "      <td>Nov 28 03:20:01</td>\n",
       "    </tr>\n",
       "    <tr>\n",
       "      <th>4</th>\n",
       "      <td>cron</td>\n",
       "      <td>bach</td>\n",
       "      <td>(root) CMD (test -x /usr/sbin/run-crons &amp;&amp; /us...</td>\n",
       "      <td>16510</td>\n",
       "      <td>Nov 28 03:30:01</td>\n",
       "    </tr>\n",
       "  </tbody>\n",
       "</table>\n",
       "</div>"
      ],
      "text/plain": [
       "     command hostname                                            message  \\\n",
       "0  syslog-ng     bach  Configuration reload request received, reloadi...   \n",
       "1  run-crons     bach            (root) CMD (/etc/cron.daily/makewhatis)   \n",
       "2  run-crons     bach              (root) CMD (/etc/cron.daily/rkhunter)   \n",
       "3       cron     bach  (root) CMD (test -x /usr/sbin/run-crons && /us...   \n",
       "4       cron     bach  (root) CMD (test -x /usr/sbin/run-crons && /us...   \n",
       "\n",
       "     pid        timestamp  \n",
       "0   2138  Nov 28 03:10:03  \n",
       "1  16357  Nov 28 03:10:03  \n",
       "2  16406  Nov 28 03:10:03  \n",
       "3  16455  Nov 28 03:20:01  \n",
       "4  16510  Nov 28 03:30:01  "
      ]
     },
     "execution_count": 8,
     "metadata": {},
     "output_type": "execute_result"
    }
   ],
   "source": [
    "df[0:5]"
   ]
  },
  {
   "cell_type": "markdown",
   "metadata": {},
   "source": [
    "Nous allons maintenant utiliser le champ `timestamp` comme étiquettes temporelles pour nos logs :"
   ]
  },
  {
   "cell_type": "code",
   "execution_count": 30,
   "metadata": {
    "collapsed": false
   },
   "outputs": [
    {
     "name": "stdout",
     "output_type": "stream",
     "text": [
      "<class 'str'> Nov 28 05:01:44 <class 'datetime.datetime'> 2014-11-28 05:01:44\n"
     ]
    },
    {
     "data": {
      "text/plain": [
       "Timestamp('2014-11-28 05:01:44')"
      ]
     },
     "execution_count": 30,
     "metadata": {},
     "output_type": "execute_result"
    }
   ],
   "source": [
    "from datetime import datetime\n",
    "# from time import strftime, strptime\n",
    "\n",
    "ma_date = df.timestamp.tolist()[20]\n",
    "mon_time = datetime.strptime(\"2014 \"+ma_date, \"%Y %b %d %H:%M:%S\")\n",
    "print (type(ma_date), ma_date, type(mon_time), mon_time)\n",
    "#mon_datetime =datetime(year=mon_time.tm_year, month=mon_time.tm_mon, day=mon_time.tm_mday, \n",
    "#                       hour=mon_time.tm_hour, minute=mon_time.tm_min, second=mon_time.tm_sec)\n",
    "pd.to_datetime(mon_time)"
   ]
  },
  {
   "cell_type": "code",
   "execution_count": 32,
   "metadata": {
    "collapsed": true
   },
   "outputs": [],
   "source": [
    "ts = []\n",
    "for s in df.timestamp.tolist():\n",
    "    ts.append(datetime.strptime(\"2014 \"+s, \"%Y %b %d %H:%M:%S\"))\n",
    "df.index = pd.to_datetime(ts)\n",
    "del df['timestamp']"
   ]
  },
  {
   "cell_type": "code",
   "execution_count": null,
   "metadata": {
    "collapsed": false
   },
   "outputs": [],
   "source": [
    "une_date = \"03:30:01\"\n",
    "pd.to_datetime(une_date)\n",
    "moo = pd.date_range('20000101',periods=1)\n",
    "print(moo.year)\n",
    "#moo = moo.astype(str)\n",
    "pd.to_datetime(pd.to_datetime(\"20141128 \"+une_date, format=\"%Y%m%d %H:%M:%S\"))\n",
    "\n",
    "from time import strftime, gmtime, strptime\n",
    "ma_date = strptime(\"2014 \"+\"Nov 28 03:50:01\", \"%Y %b %d %H:%M:%S\")\n",
    "\n",
    "strftime(\"%b %d %H:%M:%S\", gmtime())\n",
    "toto = df.timestamp.as_matrix()\n",
    "toto = df.timestamp.tolist()\n",
    "print (type(toto))\n",
    "print (toto[:5])\n",
    "\n",
    "ma_date = df.timestamp.tolist()[20]\n",
    "montime = strptime(\"2014 \"+ma_date, \"%Y %b %d %H:%M:%S\")\n",
    "print (type(ma_date)\n",
    "\n",
    "# print (pd.to_datetime(montime))\n",
    "\n",
    "import datetime\n",
    "datetime.datetime(year=ma_date.title, month, day[, hour[, minute[, second)\n",
    "\n",
    "# df.index =\n",
    "# [pd.to_datetime(strptime(\"2014 \"+d, \"%Y %b %d %H:%M:%S\")) for d in df.timestamp.tolist()]\n",
    "# pd.to_datetime(df['timestamp'], infer_datetime_format=True)"
   ]
  },
  {
   "cell_type": "code",
   "execution_count": null,
   "metadata": {
    "collapsed": true
   },
   "outputs": [],
   "source": [
    "type(df.timestamp.as_matrix())"
   ]
  },
  {
   "cell_type": "code",
   "execution_count": null,
   "metadata": {
    "collapsed": false
   },
   "outputs": [],
   "source": [
    "df[:5]"
   ]
  },
  {
   "cell_type": "code",
   "execution_count": null,
   "metadata": {
    "collapsed": true
   },
   "outputs": [],
   "source": [
    "# df.index = pd.to_datetime(df.pop(df['timestamp'])) ne fonctionne pas avec pandas 1.7\n",
    "ts = []\n",
    "for i in df.timestamp:\n",
    "    ts.append(i.split()[2])\n",
    "df.index = pd.to_datetime(ts)\n",
    "del df['timestamp']\n"
   ]
  },
  {
   "cell_type": "markdown",
   "metadata": {},
   "source": [
    "Il est possible d'afficher les informations sur cette *DataFrame* avec:"
   ]
  },
  {
   "cell_type": "code",
   "execution_count": 33,
   "metadata": {
    "collapsed": false
   },
   "outputs": [
    {
     "name": "stdout",
     "output_type": "stream",
     "text": [
      "<class 'pandas.core.frame.DataFrame'>\n",
      "DatetimeIndex: 5000 entries, 2014-11-28 03:10:03 to 2014-11-29 01:12:04\n",
      "Data columns (total 4 columns):\n",
      "command     5000 non-null object\n",
      "hostname    5000 non-null object\n",
      "message     5000 non-null object\n",
      "pid         5000 non-null object\n",
      "dtypes: object(4)\n",
      "memory usage: 195.3+ KB\n"
     ]
    }
   ],
   "source": [
    "df.info()"
   ]
  },
  {
   "cell_type": "markdown",
   "metadata": {},
   "source": [
    "Il est également possible d'afficher les informations sur le contenus et les différents champs de la *DataFrame* :"
   ]
  },
  {
   "cell_type": "code",
   "execution_count": 34,
   "metadata": {
    "collapsed": false
   },
   "outputs": [
    {
     "data": {
      "text/html": [
       "<div>\n",
       "<table border=\"1\" class=\"dataframe\">\n",
       "  <thead>\n",
       "    <tr style=\"text-align: right;\">\n",
       "      <th></th>\n",
       "      <th>command</th>\n",
       "      <th>hostname</th>\n",
       "      <th>message</th>\n",
       "      <th>pid</th>\n",
       "    </tr>\n",
       "  </thead>\n",
       "  <tbody>\n",
       "    <tr>\n",
       "      <th>count</th>\n",
       "      <td>5000</td>\n",
       "      <td>5000</td>\n",
       "      <td>5000</td>\n",
       "      <td>5000</td>\n",
       "    </tr>\n",
       "    <tr>\n",
       "      <th>unique</th>\n",
       "      <td>4</td>\n",
       "      <td>1</td>\n",
       "      <td>1607</td>\n",
       "      <td>1022</td>\n",
       "    </tr>\n",
       "    <tr>\n",
       "      <th>top</th>\n",
       "      <td>sshd</td>\n",
       "      <td>bach</td>\n",
       "      <td>pam_unix(sshd:auth): authentication failure; l...</td>\n",
       "      <td>22411</td>\n",
       "    </tr>\n",
       "    <tr>\n",
       "      <th>freq</th>\n",
       "      <td>4842</td>\n",
       "      <td>5000</td>\n",
       "      <td>463</td>\n",
       "      <td>21</td>\n",
       "    </tr>\n",
       "  </tbody>\n",
       "</table>\n",
       "</div>"
      ],
      "text/plain": [
       "       command hostname                                            message  \\\n",
       "count     5000     5000                                               5000   \n",
       "unique       4        1                                               1607   \n",
       "top       sshd     bach  pam_unix(sshd:auth): authentication failure; l...   \n",
       "freq      4842     5000                                                463   \n",
       "\n",
       "          pid  \n",
       "count    5000  \n",
       "unique   1022  \n",
       "top     22411  \n",
       "freq       21  "
      ]
     },
     "execution_count": 34,
     "metadata": {},
     "output_type": "execute_result"
    }
   ],
   "source": [
    "df.describe()"
   ]
  },
  {
   "cell_type": "markdown",
   "metadata": {},
   "source": [
    "Regardons maintenant quels sont les applications qui ont envoyées des messages, nous allons utiliser la fonction `unique` pour afficher l'ensemble des valeurs prises par le champs `command`."
   ]
  },
  {
   "cell_type": "code",
   "execution_count": 35,
   "metadata": {
    "collapsed": false
   },
   "outputs": [
    {
     "data": {
      "text/plain": [
       "sshd         4842\n",
       "cron          154\n",
       "run-crons       2\n",
       "syslog-ng       2\n",
       "Name: command, dtype: int64"
      ]
     },
     "execution_count": 35,
     "metadata": {},
     "output_type": "execute_result"
    }
   ],
   "source": [
    "df.command.value_counts()"
   ]
  },
  {
   "cell_type": "markdown",
   "metadata": {},
   "source": [
    "##### Question"
   ]
  },
  {
   "cell_type": "markdown",
   "metadata": {},
   "source": [
    "Quelle est la commande la plus fréquente ? Que pouvez vous dire sur les tâches de `cron` ?"
   ]
  },
  {
   "cell_type": "markdown",
   "metadata": {},
   "source": [
    " "
   ]
  },
  {
   "cell_type": "markdown",
   "metadata": {},
   "source": [
    "## Figures et visualisations"
   ]
  },
  {
   "cell_type": "markdown",
   "metadata": {},
   "source": [
    "On peut générer un histogramme à partir de ces données de la façon suivante. On regroupe les informations de la *DataFrame* par commande. On calcule ensuite le nombre de chaque commande avec la fonction `size()` puis on affiche un diagramme en bâtons (*bars* en anglais). La bibliothèque Pandas permet de générer facilement toute sort de graphique en appelant la fonction `plot()` avec comme argument `kind`. Les types possibles sont: \n",
    "\n",
    "* `bar` ou `barh` pour les diagrammes (verticaux ou horizontaux)\n",
    "* `hist` pour les histogrammes\n",
    "* `box` pour les boîtes à moustaches\n",
    "* `kde` ou `density` pour les figures de densité de probabilités\n",
    "* `area` pour les aires \n",
    "* `scatter` pour les nuages de points\n",
    "* `hexbin` pour les cartes hexagonales\n",
    "* `pie` pour les camemberts"
   ]
  },
  {
   "cell_type": "code",
   "execution_count": 36,
   "metadata": {
    "collapsed": false
   },
   "outputs": [
    {
     "data": {
      "text/plain": [
       "<matplotlib.axes._subplots.AxesSubplot at 0x10907eb70>"
      ]
     },
     "execution_count": 36,
     "metadata": {},
     "output_type": "execute_result"
    },
    {
     "data": {
      "image/png": "[encoded data removed]",
      "text/plain": [
       "<matplotlib.figure.Figure at 0x10907e710>"
      ]
     },
     "metadata": {},
     "output_type": "display_data"
    }
   ],
   "source": [
    "grouped_status = df.groupby('command')\n",
    "grouped_status.size().plot(kind='bar')"
   ]
  },
  {
   "cell_type": "markdown",
   "metadata": {},
   "source": [
    "Regardons maintenant le nombres de messages générés toutes les dix minutes. On va donc ré-échantilloner les commandes avec `resample()` en faisant des paquets de 10 minutes (indiqué ici par `10t`) dans lesquels on va sommer chaque commande (avec `how='count'`). "
   ]
  },
  {
   "cell_type": "code",
   "execution_count": 37,
   "metadata": {
    "collapsed": false
   },
   "outputs": [
    {
     "data": {
      "text/plain": [
       "<matplotlib.axes._subplots.AxesSubplot at 0x1090ed5f8>"
      ]
     },
     "execution_count": 37,
     "metadata": {},
     "output_type": "execute_result"
    },
    {
     "data": {
      "image/png": "[encoded data removed]",
      "text/plain": [
       "<matplotlib.figure.Figure at 0x1091524a8>"
      ]
     },
     "metadata": {},
     "output_type": "display_data"
    }
   ],
   "source": [
    "df_s = df.command.resample('10t', how='count')\n",
    "df_s.plot()"
   ]
  },
  {
   "cell_type": "markdown",
   "metadata": {},
   "source": [
    "Pour voir la part respectives de chaque applications dans la génération de log, on peut séparer les données quantitative pour chaque application puis les regrouper dans un *DataFrame* commun. On peut en profiter pour regrouper les activités de `cron` de `run-crons` sous la même étiquette. Pour avoir des résultats interprétables, on aggrège les messages par groupe de 2h (`120t`)."
   ]
  },
  {
   "cell_type": "code",
   "execution_count": 38,
   "metadata": {
    "collapsed": false
   },
   "outputs": [
    {
     "data": {
      "text/plain": [
       "<matplotlib.axes._subplots.AxesSubplot at 0x10907e6a0>"
      ]
     },
     "execution_count": 38,
     "metadata": {},
     "output_type": "execute_result"
    },
    {
     "data": {
      "image/png": "[encoded data removed]",
      "text/plain": [
       "<matplotlib.figure.Figure at 0x10919c358>"
      ]
     },
     "metadata": {},
     "output_type": "display_data"
    }
   ],
   "source": [
    "t_span = '120t'\n",
    "df_cron = df['command'][df['command'].isin(['cron', 'run-crons']) ].resample(t_span, how='count')\n",
    "df_sshd = df['command'][df['command'] == 'sshd'].resample(t_span, how='count')\n",
    "df_syslog = df['command'][df['command'] == 'syslog-ng'].resample(t_span, how='count')\n",
    "\n",
    "status_df = DataFrame({'cron': df_cron, \n",
    "                       'sshd': df_sshd, \n",
    "                       'syslog': df_syslog})\n",
    "status_df.plot(kind=\"bar\", stacked=True, color=(\"r\", \"g\",\"b\"), xticks=())"
   ]
  },
  {
   "cell_type": "markdown",
   "metadata": {},
   "source": [
    "## Analyse des traces SSH"
   ]
  },
  {
   "cell_type": "markdown",
   "metadata": {},
   "source": [
    "Voici un exemple de traces SSH : "
   ]
  },
  {
   "cell_type": "code",
   "execution_count": 39,
   "metadata": {
    "collapsed": false
   },
   "outputs": [],
   "source": [
    "samples=[\n",
    "\"Nov 28 05:01:44 bach sshd[17038]: SSH: Server;Ltype: Version;Remote: 122.225.97.104-29185;Protocol: 2.0;Client: libssh2_1.4.2\", \n",
    "\"Nov 28 05:01:45 bach sshd[17038]: SSH: Server;Ltype: Kex;Remote: 122.225.97.104-29185;Enc: aes128-ctr;MAC: hmac-sha1;Comp: none [preauth]\",\n",
    "\"Nov 28 05:01:59 bach sshd[17038]: SSH: Server;Ltype: Authname;Remote: 122.225.97.104-29185;Name: root [preauth]\",\n",
    "\"Nov 28 05:01:59 bach sshd[17038]: reverse mapping checking getaddrinfo for mx7.fund123.cn [122.225.97.104] failed - POSSIBLE BREAK-IN ATTEMPT!\",\n",
    "\"Nov 28 05:01:59 bach sshd[17038]: User root from 122.225.97.104 not allowed because not listed in AllowUsers\",\n",
    "\"Nov 28 05:01:59 bach sshd[17038]: input_userauth_request: invalid user root [preauth]\",\n",
    "\"Nov 28 05:01:59 bach sshd[17038]: Connection closed by 122.225.97.104 [preauth]\"]"
   ]
  },
  {
   "cell_type": "markdown",
   "metadata": {},
   "source": [
    "On peut voir que les informations sur la connexion SSH sont réparties sur plusieurs messages :\n",
    "\n",
    "* Le premier indique l'adresse IP, la version du protocole, le client. \n",
    "* Le second précise l'encryptage et les moyens cryptographiques. \n",
    "* Le troisième donne l'utilisateur utilisé pour la connexion.\n",
    "* Le quatrième indique que le nom de la machine ne correspond pas à l'adresse IP.\n",
    "* Le cinquième explique que `root` n'est pas admis à se connecter en SSH.\n",
    "* Le sixième indique le message envoyé au client.\n",
    "* Le septième précise que la connexion a été fermée par le client.\n",
    "\n",
    "Ces sept message sont issus du même processus, on peut voir que le PID est le même pour tous. Or le parseur SSH permet seulement d'analyser les logs lignes à lignes. Le résultat est le suivant :"
   ]
  },
  {
   "cell_type": "code",
   "execution_count": 40,
   "metadata": {
    "collapsed": false
   },
   "outputs": [
    {
     "name": "stdout",
     "output_type": "stream",
     "text": [
      "Ligne parsée :\n",
      " {'pid': '17038', 'client': ' libssh2_1.4.2', 'timestamp': 'Nov 28 05:01:44', 'ip': ' 122.225.97.104-29185'}\n",
      "Ligne parsée :\n",
      " {'pid': '17038', 'timestamp': 'Nov 28 05:01:45', 'ip': ' 122.225.97.104-29185'}\n",
      "Ligne parsée :\n",
      " {'pid': '17038', 'user': ' root ', 'timestamp': 'Nov 28 05:01:59', 'ip': ' 122.225.97.104-29185'}\n",
      "Ligne parsée :\n",
      " {'pid': '17038', 'reversedMapping': False, 'timestamp': 'Nov 28 05:01:59'}\n",
      "Ligne parsée :\n",
      " None\n",
      "Ligne parsée :\n",
      " None\n",
      "Ligne parsée :\n",
      " None\n"
     ]
    }
   ],
   "source": [
    "parser = SyslogParser()\n",
    "for s in samples:\n",
    "    print (\"Ligne parsée :\\n\", parser.parseSSH(s))"
   ]
  },
  {
   "cell_type": "markdown",
   "metadata": {},
   "source": [
    "Le parseur retourne des informations différentes pour les 4 premières lignes et ne retourne rien pour les 3 dernières."
   ]
  },
  {
   "cell_type": "markdown",
   "metadata": {},
   "source": [
    "##### Question"
   ]
  },
  {
   "cell_type": "markdown",
   "metadata": {},
   "source": [
    "Écrivez le code nécessaire pour traiter le fichier `test_message100` et :\n",
    "\n",
    "* Créer une liste appelée `sshlog_list` qui va stocker toutes les lignes parsées\n",
    "* Supprimer les élements vide de la liste (leur valeur est `None`)\n",
    "* Traiter les éléments de la liste pour fusionner ceux qui ont le même PID. Vous utiliserez `a.update(b)` qui permet de mettre à jour les champs de `a` avec ceux de `b` et `del b` qui permet du supprimer `b`. "
   ]
  },
  {
   "cell_type": "code",
   "execution_count": 42,
   "metadata": {
    "collapsed": false
   },
   "outputs": [],
   "source": [
    "with open('test_messages5000', 'r') as f:\n",
    "    lines = f.readlines()\n",
    "sshlog_list =[]\n",
    "parser = SyslogParser()\n",
    "for l in lines:\n",
    "    payload = parser.parseSSH(l)\n",
    "    if payload != None:\n",
    "        sshlog_list.append(payload)\n",
    "        \n",
    "i=0\n",
    "while i < len(sshlog_list):\n",
    "    try:\n",
    "        for j in reversed(range(i)):\n",
    "            if sshlog_list[i]['pid'] == sshlog_list[j]['pid']:\n",
    "                sshlog_list[j].update(sshlog_list[i])\n",
    "                del sshlog_list[i]\n",
    "                break\n",
    "        else:\n",
    "            i += 1\n",
    "    except KeyError:\n",
    "        print ('i =', i, sshlog_list[i])\n",
    "        "
   ]
  },
  {
   "cell_type": "markdown",
   "metadata": {},
   "source": [
    "##### Question"
   ]
  },
  {
   "cell_type": "markdown",
   "metadata": {},
   "source": [
    "Après avoir validé votre code sur la question précédente, adaptez le pour traiter le fichier `test_messages5000`."
   ]
  },
  {
   "cell_type": "code",
   "execution_count": 45,
   "metadata": {
    "collapsed": false
   },
   "outputs": [
    {
     "data": {
      "text/plain": [
       "397"
      ]
     },
     "execution_count": 45,
     "metadata": {},
     "output_type": "execute_result"
    }
   ],
   "source": [
    "len(sshlog_list)"
   ]
  },
  {
   "cell_type": "code",
   "execution_count": 47,
   "metadata": {
    "collapsed": true
   },
   "outputs": [],
   "source": [
    "df = DataFrame(sshlog_list)"
   ]
  },
  {
   "cell_type": "code",
   "execution_count": 48,
   "metadata": {
    "collapsed": false
   },
   "outputs": [
    {
     "data": {
      "text/html": [
       "<div>\n",
       "<table border=\"1\" class=\"dataframe\">\n",
       "  <thead>\n",
       "    <tr style=\"text-align: right;\">\n",
       "      <th></th>\n",
       "      <th>client</th>\n",
       "      <th>ip</th>\n",
       "      <th>pid</th>\n",
       "      <th>reversedMapping</th>\n",
       "      <th>timestamp</th>\n",
       "      <th>user</th>\n",
       "    </tr>\n",
       "  </thead>\n",
       "  <tbody>\n",
       "    <tr>\n",
       "      <th>count</th>\n",
       "      <td>397</td>\n",
       "      <td>397</td>\n",
       "      <td>397</td>\n",
       "      <td>139</td>\n",
       "      <td>397</td>\n",
       "      <td>394</td>\n",
       "    </tr>\n",
       "    <tr>\n",
       "      <th>unique</th>\n",
       "      <td>7</td>\n",
       "      <td>397</td>\n",
       "      <td>397</td>\n",
       "      <td>1</td>\n",
       "      <td>330</td>\n",
       "      <td>72</td>\n",
       "    </tr>\n",
       "    <tr>\n",
       "      <th>top</th>\n",
       "      <td>libssh-0.1</td>\n",
       "      <td>134.255.255.35-56809</td>\n",
       "      <td>24543</td>\n",
       "      <td>False</td>\n",
       "      <td>Nov 28 22:12:35</td>\n",
       "      <td>root</td>\n",
       "    </tr>\n",
       "    <tr>\n",
       "      <th>freq</th>\n",
       "      <td>277</td>\n",
       "      <td>1</td>\n",
       "      <td>1</td>\n",
       "      <td>139</td>\n",
       "      <td>6</td>\n",
       "      <td>204</td>\n",
       "    </tr>\n",
       "  </tbody>\n",
       "</table>\n",
       "</div>"
      ],
      "text/plain": [
       "             client                     ip    pid reversedMapping  \\\n",
       "count           397                    397    397             139   \n",
       "unique            7                    397    397               1   \n",
       "top      libssh-0.1   134.255.255.35-56809  24543           False   \n",
       "freq            277                      1      1             139   \n",
       "\n",
       "              timestamp    user  \n",
       "count               397     394  \n",
       "unique              330      72  \n",
       "top     Nov 28 22:12:35   root   \n",
       "freq                  6     204  "
      ]
     },
     "execution_count": 48,
     "metadata": {},
     "output_type": "execute_result"
    }
   ],
   "source": [
    "df.describe()"
   ]
  },
  {
   "cell_type": "markdown",
   "metadata": {},
   "source": [
    "Convertissons maintenant la liste obtenue sur ce fichier en *DataFrame* :"
   ]
  },
  {
   "cell_type": "code",
   "execution_count": 50,
   "metadata": {
    "collapsed": false
   },
   "outputs": [],
   "source": [
    "df = DataFrame(sshlog_list)\n",
    "ts = []\n",
    "for s in df.timestamp:\n",
    "    ts.append(datetime.strptime(\"2014 \"+s, \"%Y %b %d %H:%M:%S\"))\n",
    "df.index = pd.to_datetime(ts)\n",
    "del df['timestamp']"
   ]
  },
  {
   "cell_type": "markdown",
   "metadata": {},
   "source": [
    "Vous pouvez utiliser `df.info()` et `df.describe()` pour vérifier les informations sur la *DataFrame*."
   ]
  },
  {
   "cell_type": "code",
   "execution_count": null,
   "metadata": {
    "collapsed": false
   },
   "outputs": [],
   "source": [
    "df.describe()"
   ]
  },
  {
   "cell_type": "markdown",
   "metadata": {},
   "source": [
    "##### Question"
   ]
  },
  {
   "cell_type": "markdown",
   "metadata": {},
   "source": [
    "Utilisez la fonction `plot()` pour mettre sous forme de figures les informations de votre fichier de message. Vous proposerez une petite analyse des informations ainsi obtenues."
   ]
  },
  {
   "cell_type": "code",
   "execution_count": null,
   "metadata": {
    "collapsed": false
   },
   "outputs": [],
   "source": [
    "df.user.value_counts()"
   ]
  },
  {
   "cell_type": "markdown",
   "metadata": {},
   "source": [
    "##### Question (*)"
   ]
  },
  {
   "cell_type": "markdown",
   "metadata": {},
   "source": [
    "Cette question est facultative. Vous utiliserez le module Basemap pour afficher une carte sur monde sur laquelle vous afficherez les positions géographiques associées à ces adresses IP. Pour cela, vous utiliserez le code suivant qui permet de récuperer les coordonnées de latitude et de longitude pour chaque IP. Le site freegeoip.net qui propose ce service limite le nombre de demandes. Vous devrez donc d'abord enlever les doublons, c'est à dire éviter de faire plusieurs requêtes pour la même IP. "
   ]
  },
  {
   "cell_type": "code",
   "execution_count": null,
   "metadata": {
    "collapsed": false
   },
   "outputs": [],
   "source": [
    "import re\n",
    "from csv import reader\n",
    "from urllib.request import urlopen # drop request for python 2 version\n",
    "FREE_GEOIP_CSV_URL = \"http://freegeoip.net/csv/%s\"\n",
    "def valid_ip(ip):\n",
    "\n",
    "    pattern = r\"\\b(25[0-5]|2[0-4][0-9]|[01]?[0-9][0-9]?)\\.(25[0-5]|2[0-4][0-9]|[01]?[0-9][0-9]?)\\.(25[0-5]|2[0-4][0-9]|[01]?[0-9][0-9]?)\\.(25[0-5]|2[0-4][0-9]|[01]?[0-9][0-9]?)\\b\"\n",
    "\n",
    "    return re.match(pattern, ip)\n",
    "\n",
    "def __get_geodata_csv(ip):\n",
    "    if not valid_ip(ip):\n",
    "        raise Exception('Invalid IP format', 'You must enter a valid ip format: X.X.X.X')\n",
    "\n",
    "    URL = FREE_GEOIP_CSV_URL % ip\n",
    "    response_csv = reader(urlopen(URL))\n",
    "    csv_data = response_csv.next()\n",
    "\n",
    "    return {\n",
    "        \"status\": u\"True\" == csv_data[0],\n",
    "        \"ip\":csv_data[1],\n",
    "        \"countrycode\":csv_data[2],\n",
    "        \"countryname\":csv_data[3],\n",
    "        \"regioncode\":csv_data[4],\n",
    "        \"regionname\":csv_data[5],\n",
    "        \"city\":csv_data[6],\n",
    "        \"zipcode\":csv_data[7],\n",
    "        \"latitude\":csv_data[8],\n",
    "        \"longitude\":csv_data[9]\n",
    "    }\n",
    "\n",
    "def get_geodata(ip):\n",
    "    return __get_geodata_csv(ip)"
   ]
  },
  {
   "cell_type": "code",
   "execution_count": null,
   "metadata": {
    "collapsed": false
   },
   "outputs": [],
   "source": [
    "# écrivez le code qui permette de récupérer lats, la liste des latitudes,\n",
    "# et lons, la listes des longitudes associés aux IP uniques"
   ]
  },
  {
   "cell_type": "code",
   "execution_count": null,
   "metadata": {
    "collapsed": false
   },
   "outputs": [],
   "source": [
    "from mpl_toolkits.basemap import Basemap\n",
    "\n",
    "m = Basemap(projection='mill') # creation de la carte en utilisant la projection de Millner\n",
    "figure(figsize(10,14)) # on change la taille de la figure\n",
    "x, y = m(lons, lats) # lons et lats sont les listes des latitudes et des longitudes des IP\n",
    "m.scatter(x, y, marker='o', color='r') # on affiche des points au coordonnées des IP\n",
    "m.drawcoastlines(color='SaddleBrown') # on affiche les côtes\n",
    "m.drawmapboundary(fill_color='SkyBlue') # on remplit les océans\n",
    "_ = m.fillcontinents(color='BurlyWood',lake_color='SkyBlue', zorder=0) # on remplit les continents"
   ]
  }
 ],
 "metadata": {
  "kernelspec": {
   "display_name": "Python 3",
   "language": "python",
   "name": "python3"
  },
  "language_info": {
   "codemirror_mode": {
    "name": "ipython",
    "version": 3
   },
   "file_extension": ".py",
   "mimetype": "text/x-python",
   "name": "python",
   "nbconvert_exporter": "python",
   "pygments_lexer": "ipython3",
   "version": "3.4.3"
  }
 },
 "nbformat": 4,
 "nbformat_minor": 0
}
