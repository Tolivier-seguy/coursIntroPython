{
 "metadata": {
  "name": "",
  "signature": "sha256:024bebe960d6f4501ebdbe362ed273c741075729ffe65a6672b1606065d3d9a9"
 },
 "nbformat": 3,
 "nbformat_minor": 0,
 "worksheets": [
  {
   "cells": [
    {
     "cell_type": "code",
     "collapsed": false,
     "input": [
      "from __future__ import print_function"
     ],
     "language": "python",
     "metadata": {},
     "outputs": [],
     "prompt_number": 2
    },
    {
     "cell_type": "heading",
     "level": 2,
     "metadata": {},
     "source": [
      "Fichiers et entr\u00e9es/sorties"
     ]
    },
    {
     "cell_type": "markdown",
     "metadata": {},
     "source": [
      "Pour \u00e9crire ou lire dans un fichier, **`open()`** renvoie un objet de type fichier, et est utilise\u0301e plus ge\u0301ne\u0301ralement avec deux arguments : **`open(nomfichier, mode)`**."
     ]
    },
    {
     "cell_type": "code",
     "collapsed": false,
     "input": [
      "f=open('fichiertravail.txt', 'w')"
     ],
     "language": "python",
     "metadata": {},
     "outputs": [],
     "prompt_number": 11
    },
    {
     "cell_type": "markdown",
     "metadata": {},
     "source": [
      "Le premier argument est une chai\u0302ne de caracte\u0300res contenant le nom du fichier. Le deuxie\u0300me argument est une autre chai\u0302ne de caracte\u0300res contenant quelques caracte\u0300res de\u0301crivant la manie\u0300re d\u2019utiliser le fichier. *mode* vaut `'r'` quand le fichier doit e\u0302tre seulement lu, `'w'` pour seulement \u00eatre e\u0301crit (un fichier de\u0301ja\u0300 existant avec le me\u0302me nom sera efface\u0301), et `'a'` ouvre le fichier en ajout ; les donne\u0301es e\u0301crites dans le fichier seront automatiquement ajoute\u0301es a\u0300 la fin. `'r+'` ouvre le fichier pour la lecture et l\u2019e\u0301criture. L\u2019argument mode est facultatif ; `'r'` sera pris par de\u0301faut s\u2019il est omis.\n",
      "\n",
      "Pour \u00e9crire dans un fichier, on peut utiliser la primitive **`f.write(`** *chaine* **`)`**, qui \u00e9crit la cha\u00eene de caract\u00e8res dans le fichier"
     ]
    },
    {
     "cell_type": "code",
     "collapsed": false,
     "input": [
      "f.write('Voici un test\\n')"
     ],
     "language": "python",
     "metadata": {},
     "outputs": [],
     "prompt_number": 12
    },
    {
     "cell_type": "markdown",
     "metadata": {},
     "source": [
      "Pour e\u0301crire quelque chose d\u2019autre qu\u2019une chai\u0302ne il est ne\u0301cessaire de commencer par le convertir en chai\u0302ne :"
     ]
    },
    {
     "cell_type": "code",
     "collapsed": false,
     "input": [
      "value = ('la reponse est', 42)\n",
      "s = str(value)\n",
      "f.write(s)"
     ],
     "language": "python",
     "metadata": {},
     "outputs": [],
     "prompt_number": 13
    },
    {
     "cell_type": "markdown",
     "metadata": {},
     "source": [
      "Une fois le fichier utilis\u00e9, il faut le fermer avec **`f.close()`**. Apre\u0300s avoir appele\u0301 **`f.close()`**, les tentatives d\u2019utiliser l\u2019objet fichier e\u0301choueront automatiquement."
     ]
    },
    {
     "cell_type": "code",
     "collapsed": false,
     "input": [
      "f.close()"
     ],
     "language": "python",
     "metadata": {},
     "outputs": [],
     "prompt_number": 14
    },
    {
     "cell_type": "markdown",
     "metadata": {},
     "source": [
      "Il existe une fa\u00e7on plus ad\u00e9quate pour travailler sur un fichier, qui permet de ne pas avoir besoin d'utiliser `close`. Nous verrons cette syntaxe en utilisant **`f.read(`** *taille* **`)`** qui lit une certaine quantite\u0301 de donne\u0301es et les retourne en tant que chai\u0302ne de caracte\u0300res. *taille* est un argument nume\u0301rique facultatif. Quand *taille* est omis ou ne\u0301gatif, le contenu entier du fichier sera lu et retourne\u0301. Autrement, au plus *taille* octets sont lus et retourne\u0301s."
     ]
    },
    {
     "cell_type": "code",
     "collapsed": false,
     "input": [
      "with open('fichiertravail.txt', 'r') as f:\n",
      "    s = f.read()\n",
      "    print (s)"
     ],
     "language": "python",
     "metadata": {},
     "outputs": [
      {
       "output_type": "stream",
       "stream": "stdout",
       "text": [
        "Voici un test\n",
        "('la reponse est', 42)\n"
       ]
      }
     ],
     "prompt_number": 15
    },
    {
     "cell_type": "markdown",
     "metadata": {},
     "source": [
      "**`f.readline()`** lit une seule ligne a\u0300 partir du fichier ; un caracte\u0300re de fin de ligne (`\\n`) est laisse\u0301 a\u0300 l\u2019extre\u0301mite\u0301 de la chai\u0302ne de caracte\u0300res lue, et est seulement omis sur la dernie\u0300re ligne du fichier si le fichier ne se termine pas par une fin de ligne. Cela rend la valeur de retour non ambigue\u0308 ; si **`f.readline()`** renvoie une chai\u0302ne de caracte\u0300res vide, la fin du fichier a e\u0301te\u0301 atteinte, alors qu\u2019une fin de ligne est repre\u0301sente\u0301e par `'\\n'`, une chai\u0302ne de caracte\u0300res contenant seulement une seule fin de ligne."
     ]
    },
    {
     "cell_type": "code",
     "collapsed": false,
     "input": [
      "with open('fichiertravail.txt', 'r') as f:\n",
      "    s = f.readline()\n",
      "    while s != '':\n",
      "        print (s)\n",
      "        s = f.readline()"
     ],
     "language": "python",
     "metadata": {},
     "outputs": [
      {
       "output_type": "stream",
       "stream": "stdout",
       "text": [
        "Voici un test\n",
        "\n",
        "('la reponse est', 42)\n"
       ]
      }
     ],
     "prompt_number": 25
    },
    {
     "cell_type": "markdown",
     "metadata": {},
     "source": [
      "**`f.readlines()`** renvoie une liste contenant toutes les lignes de donne\u0301es dans le fichier. Si un parame\u0300tre optionnel `sizehint` est donne\u0301, alors elle lit le nombre d\u2019octets indique\u0301, plus autant d\u2019octets qu\u2019il en faut pour comple\u0301ter la dernie\u0300re ligne commence\u0301e, et renvoie la liste des lignes ainsi lues. Cela est souvent utile pour per- mettre la lecture par lignes efficace, sans devoir charger entie\u0300rement le fichier en me\u0301moire. La liste retourne\u0301e est entie\u0300rement faite de lignes comple\u0300tes."
     ]
    },
    {
     "cell_type": "code",
     "collapsed": false,
     "input": [
      "with open('fichiertravail.txt', 'r') as f:\n",
      "    lines = f.readlines()\n",
      "for i, l in enumerate(lines):\n",
      "    print ('ligne', i, ':', l)"
     ],
     "language": "python",
     "metadata": {},
     "outputs": [
      {
       "output_type": "stream",
       "stream": "stdout",
       "text": [
        "ligne 0 : Voici un test\n",
        "\n",
        "ligne 1 : ('la reponse est', 42)\n"
       ]
      }
     ],
     "prompt_number": 26
    },
    {
     "cell_type": "heading",
     "level": 2,
     "metadata": {},
     "source": [
      "Le module `pickle`"
     ]
    },
    {
     "cell_type": "markdown",
     "metadata": {},
     "source": [
      "Les chai\u0302nes de caracte\u0300res peuvent facilement e\u0302tre e\u0301crites et lues dans un fichier. Les nombres demandent un peu plus d\u2019effort, puisque la me\u0301thode `read()` renvoie seulement les chai\u0302nes de caracte\u0300res, qui devront e\u0302tre passe\u0301es vers une fonction comme `int()`, qui prend une chai\u0302ne de caracte\u0300res comme `'123'` et renvoie sa valeur nume\u0301rique 123. Cependant, quand vous voulez sauvegarder des types de donne\u0301es plus complexes comme des listes, des dictionnaires, ou des instances de classe, les choses deviennent beaucoup plus complique\u0301es.\n",
      "\n",
      "Pluto\u0302t que faire e\u0301crire et de\u0301boguer constamment par les utilisateurs le code pour sauvegarder des types de donne\u0301es complexes, Python fournit un module standard appele\u0301 pickle. C\u2019est un module e\u0301tonnant qui peut prendre presque n\u2019importe quel objet Python (me\u0302me quelques formes de code Python !), et le convertir en une repre\u0301sentation sous forme de chai\u0302ne de caracte\u0300res ; ce processus s\u2019appelle *pickling*. Reconstruire l\u2019objet a\u0300 partir de sa repre\u0301sentation en chai\u0302ne de caracte\u0300res s\u2019appelle *unpickling*. Entre pickling et unpickling, la chai\u0302ne de caracte\u0300res repre\u0301sentant l\u2019objet a pu avoir e\u0301te\u0301 enregistre\u0301e dans un fichier ou des donne\u0301es, ou avoir e\u0301te\u0301 envoye\u0301e a\u0300 une machine e\u0301loigne\u0301e via une connexion re\u0301seau.\n",
      "\n",
      "Si vous avez un objet `x`, et un objet fichier `f` ouvert en e\u0301criture, la voie la plus simple de *pickler* l\u2019objet prend seulement une ligne de code :\n",
      "\n",
      "`pickle.dump(x, f)`\n",
      "\n",
      "Pour *unpickler* l\u2019objet, si `f` est un objet fichier ouvert en lecture :\n",
      "\n",
      "`x = pickle.load(f)`"
     ]
    },
    {
     "cell_type": "heading",
     "level": 2,
     "metadata": {},
     "source": [
      "La gestion des fichiers"
     ]
    },
    {
     "cell_type": "markdown",
     "metadata": {},
     "source": [
      "Il est possible de manipuler les primitives syst\u00e8mes en Python. La plupart des fonctions du syst\u00e8me sont disponible dans le module `os`:"
     ]
    },
    {
     "cell_type": "code",
     "collapsed": false,
     "input": [
      "import os"
     ],
     "language": "python",
     "metadata": {},
     "outputs": [],
     "prompt_number": 27
    },
    {
     "cell_type": "markdown",
     "metadata": {},
     "source": [
      "Pour conna\u00eetre toutes les fonctions disponibles, il est possible d'utiliser `help(os)` ou `dir(os)`.\n",
      "\n",
      "Pour les ta\u0302ches courantes de gestion de fichiers et re\u0301pertoires, la module `shutil` fournit une interface de haut niveau facile a\u0300 utiliser :"
     ]
    },
    {
     "cell_type": "code",
     "collapsed": false,
     "input": [
      "import shutil\n",
      "shutil.copyfile('fichiertravail.txt', 'macopie.txt')\n",
      "shutil.move('macopie.txt', 'lacopie.txt')"
     ],
     "language": "python",
     "metadata": {},
     "outputs": [],
     "prompt_number": 29
    },
    {
     "cell_type": "markdown",
     "metadata": {},
     "source": [
      "Le module `glob` fournit une fonction pour construire des listes de fichiers a\u0300 partir de recherches avec jockers (les *) dans des re\u0301pertoires :"
     ]
    },
    {
     "cell_type": "code",
     "collapsed": false,
     "input": [
      "import glob\n",
      "glob.glob('*.txt')"
     ],
     "language": "python",
     "metadata": {},
     "outputs": [
      {
       "metadata": {},
       "output_type": "pyout",
       "prompt_number": 36,
       "text": [
        "['fichiertravail.txt', 'lacopie.txt']"
       ]
      }
     ],
     "prompt_number": 36
    },
    {
     "cell_type": "heading",
     "level": 2,
     "metadata": {},
     "source": [
      "Acc\u00e8s \u00e0 internet"
     ]
    },
    {
     "cell_type": "markdown",
     "metadata": {},
     "source": [
      "Il y a un certain nombre de modules pour acce\u0301der a\u0300 Internet et pour traiter les protocoles de l\u2019Internet. Deux des plus simples sont `urllib2` pour re\u0301cupe\u0301rer des donne\u0301es depuis des url et `smtplib` pour envoyer du courrier :"
     ]
    },
    {
     "cell_type": "code",
     "collapsed": false,
     "input": [
      "import urllib2\n",
      "for line in urllib2.urlopen('http://www.python.org'):\n",
      "    if 'meta' in line: # on affiche uniquement les lignes contenant la balise meta\n",
      "        print (line)"
     ],
     "language": "python",
     "metadata": {},
     "outputs": [
      {
       "output_type": "stream",
       "stream": "stdout",
       "text": [
        "    <meta charset=\"utf-8\">\n",
        "\n",
        "    <meta http-equiv=\"X-UA-Compatible\" content=\"IE=edge\">\n",
        "\n",
        "    <meta name=\"application-name\" content=\"Python.org\">\n",
        "\n",
        "    <meta name=\"msapplication-tooltip\" content=\"The official home of the Python Programming Language\">\n",
        "\n",
        "    <meta name=\"apple-mobile-web-app-title\" content=\"Python.org\">\n",
        "\n",
        "    <meta name=\"apple-mobile-web-app-capable\" content=\"yes\">\n",
        "\n",
        "    <meta name=\"apple-mobile-web-app-status-bar-style\" content=\"black\">\n",
        "\n",
        "    <meta name=\"viewport\" content=\"width=device-width, initial-scale=1.0\">\n",
        "\n",
        "    <meta name=\"HandheldFriendly\" content=\"True\">\n",
        "\n",
        "    <meta name=\"format-detection\" content=\"telephone=no\">\n",
        "\n",
        "    <meta http-equiv=\"cleartype\" content=\"on\">\n",
        "\n",
        "    <meta http-equiv=\"imagetoolbar\" content=\"false\">\n",
        "\n",
        "    <meta name=\"msapplication-TileImage\" content=\"/static/metro-icon-144x144-precomposed.png\"><!-- white shape -->\n",
        "\n",
        "    <meta name=\"msapplication-TileColor\" content=\"#3673a5\"><!-- python blue -->\n",
        "\n",
        "    <meta name=\"msapplication-navbutton-color\" content=\"#3673a5\">\n",
        "\n",
        "    <meta property=\"og:site_name\" content=\"Python.org\">\n",
        "\n",
        "    <meta property=\"og:type\" content=\"website\">\n",
        "\n",
        "    <meta property=\"og:title\" content=\"Welcome to Python.org\">\n",
        "\n",
        "    <meta name=\"description\" content=\"The official home of the Python Programming Language\">\n",
        "\n",
        "    <meta name=\"og:description\" content=\"The official home of the Python Programming Language\">\n",
        "\n",
        "    <meta name=\"keywords\" content=\"Python programming language object oriented web free open source software license documentation download community\">\n",
        "\n",
        "    <meta property=\"og:tag\" content=\"Python programming language object oriented web free open source software license documentation download community\">\n",
        "\n",
        "    <meta property=\"og:published_time\" content=\"\">\n",
        "\n",
        "    <meta property=\"og:modified_time\" content=\"\">\n",
        "\n",
        "    <meta property=\"og:author\" content=\"\">\n",
        "\n",
        "    <meta property=\"og:section\" content=\"\"> \n",
        "\n",
        "    <meta property=\"og:url\" content=\"\">\n",
        "\n",
        "    <meta property=\"og:image\" content=\"\">\n",
        "\n",
        "    <meta property=\"og:video\" content=\"\">\n",
        "\n",
        "            <nav class=\"meta-navigation container\" role=\"navigation\">\n",
        "\n",
        "    <li class=\"python-meta current_item selectedcurrent_branch selected\">\n",
        "\n",
        "    <li class=\"psf-meta \">\n",
        "\n",
        "    <li class=\"docs-meta \">\n",
        "\n",
        "    <li class=\"pypi-meta \">\n",
        "\n",
        "    <li class=\"jobs-meta \">\n",
        "\n",
        "    <li class=\"shop-meta \">\n",
        "\n"
       ]
      }
     ],
     "prompt_number": 39
    },
    {
     "cell_type": "markdown",
     "metadata": {},
     "source": [
      "Un exemple pour `smtplib` : \n",
      "\n",
      "`import smtplib`\n",
      "\n",
      "`server = smtplib.SMTP('localhost')`\n",
      "\n",
      "`server.sendmail('expediteur@a.com', 'destinataire@b.org',`\n",
      "\n",
      "`\"\"\"To: destinataire`\n",
      "\n",
      "`From: me`\n",
      "\n",
      "`Un message de test`\n",
      "\n",
      "`\"\"\")`\n",
      "\n",
      "`server.close()`"
     ]
    },
    {
     "cell_type": "heading",
     "level": 2,
     "metadata": {},
     "source": [
      "Les autres modules"
     ]
    },
    {
     "cell_type": "markdown",
     "metadata": {},
     "source": [
      "Les autres modules sont d\u00e9crits ici : https://docs.python.org/2/library/"
     ]
    },
    {
     "cell_type": "markdown",
     "metadata": {},
     "source": [
      "1. **Gestion des cha\u00eenes de caract\u00e8res**\n",
      "    - **string** \u2014 Op\u00e9rations communes sur les cha\u00eenes de caract\u00e8res\n",
      "    - **re** \u2014 Expressions r\u00e9guli\u00e8res\n",
      "    - **struct** \u2014 Interpr\u00e8ter les cha\u00eenes de caract\u00e8res comme des paquets de donn\u00e9es binaires\n",
      "    - **difflib** \u2014 Aides pour calculer des diff\u00e9rences\n",
      "    - **StringIO** \u2014 Lecture et \u00e9criture des cha\u00eenes comme des fichiers\n",
      "    - **cStringIO** \u2014 Versin plus rapide de StringIO\n",
      "    - **textwrap** \u2014  Wrapping et remplissage de texte\n",
      "    - **codecs** \u2014 Registres des codecs et classes de base\n",
      "    - **unicodedata** \u2014 Base de donn\u00e9es Unicode\n",
      "    - **stringprep** \u2014 Pr\u00e9paration pour la conversion en cha\u00eenes internet\n",
      "    - **fpformat** \u2014 Conversions en virgules floattante\n",
      "    \n",
      "2. **Types de donn\u00e9es**\n",
      "    - **datetime** \u2014 Basic date and time types\n",
      "    - **calendar** \u2014 General calendar-related functions\n",
      "    - **collections** \u2014 High-performance container datatypes\n",
      "    - **heapq** \u2014 Heap queue algorithm\n",
      "    - **bisect** \u2014 Array bisection algorithm\n",
      "    - **array** \u2014 Efficient arrays of numeric values\n",
      "    - **sets** \u2014 Unordered collections of unique elements\n",
      "    - **sched** \u2014 Event scheduler\n",
      "    - **mutex** \u2014 Mutual exclusion support\n",
      "    - **Queue** \u2014 A synchronized queue class\n",
      "    - **weakref** \u2014 Weak references\n",
      "    - **UserDict** \u2014 Class wrapper for dictionary objects\n",
      "    - **UserList** \u2014 Class wrapper for list objects\n",
      "    - **UserString** \u2014 Class wrapper for string objects\n",
      "    - **types** \u2014 Names for built-in types\n",
      "    - **new** \u2014 Creation of runtime internal objects\n",
      "    - **copy** \u2014 Shallow and deep copy operations\n",
      "    - **pprint** \u2014 Data pretty printer\n",
      "    - **repr** \u2014 Alternate repr() implementation\n",
      "\n",
      "3. **Numeric and Mathematical Modules**\n",
      "    - **numbers** \u2014 Numeric abstract base classes\n",
      "    - **math** \u2014 Mathematical functions\n",
      "    - **cmath** \u2014 Mathematical functions for complex numbers\n",
      "    - **decimal** \u2014 Decimal fixed point and floating point arithmetic\n",
      "    - **fractions** \u2014 Rational numbers\n",
      "    - **random** \u2014 Generate pseudo-random numbers\n",
      "    - **itertools** \u2014 Functions creating iterators for efficient looping\n",
      "    - **functools** \u2014 Higher-order functions and operations on callable objects\n",
      "    - **operator** \u2014 Standard operators as functions\n",
      "    \n",
      "4. **File and Directory Access**\n",
      "    - **os.path** \u2014 Common pathname manipulations\n",
      "    - **fileinput** \u2014 Iterate over lines from multiple input streams\n",
      "    - **stat** \u2014 Interpreting stat() results\n",
      "    - **statvfs** \u2014 Constants used with os.statvfs()\n",
      "    - **filecmp** \u2014 File and Directory Comparisons\n",
      "    - **tempfile** \u2014 Generate temporary files and directories\n",
      "    - **glob** \u2014 Unix style pathname pattern expansion\n",
      "    - **fnmatch** \u2014 Unix filename pattern matching\n",
      "    - **linecache** \u2014 Random access to text lines\n",
      "    - **shutil** \u2014 High-level file operations\n",
      "    - **dircache** \u2014 Cached directory listings\n",
      "    - **macpath** \u2014 Mac OS 9 path manipulation functions\n",
      "\n",
      "5. **Data Persistence**\n",
      "\n",
      "    - **pickle** \u2014 Python object serialization\n",
      "    - **cPickle** \u2014 A faster pickle\n",
      "    - **copy_reg** \u2014 Register pickle support functions\n",
      "    - **shelve** \u2014 Python object persistence\n",
      "    - **marshal** \u2014 Internal Python object serialization\n",
      "    - **anydbm** \u2014 Generic access to DBM-style databases\n",
      "    - **whichdb** \u2014 Guess which DBM module created a database\n",
      "    - **dbm** \u2014 Simple \u201cdatabase\u201d interface\n",
      "    - **gdbm** \u2014 GNU\u2019s reinterpretation of dbm\n",
      "    - **dbhash** \u2014 DBM-style interface to the BSD database library\n",
      "    - **bsddb** \u2014 Interface to Berkeley DB library\n",
      "    - **dumbdbm** \u2014 Portable DBM implementation\n",
      "    - **sqlite3** \u2014 DB-API 2.0 interface for SQLite databases\n",
      "\n",
      "6. **Data Compression and Archiving**\n",
      "\n",
      "    - **zlib** \u2014 Compression compatible with gzip\n",
      "    - **gzip** \u2014 Support for gzip files\n",
      "    - **bz2** \u2014 Compression compatible with bzip2\n",
      "    - **zipfile** \u2014 Work with ZIP archives\n",
      "    - **tarfile** \u2014 Read and write tar archive files\n",
      "\n",
      "7. **File Formats**\n",
      "\n",
      "    - **csv** \u2014 CSV File Reading and Writing\n",
      "    - **ConfigParser** \u2014 Configuration file parser\n",
      "    - **robotparser** \u2014 Parser for robots.txt\n",
      "    - **netrc** \u2014 netrc file processing\n",
      "    - **xdrlib** \u2014 Encode and decode XDR data\n",
      "    - **plistlib** \u2014 Generate and parse Mac OS X .plist files\n",
      "    \n",
      "8. **Cryptographic Services**\n",
      "\n",
      "    - **hashlib** \u2014 Secure hashes and message digests\n",
      "    - **hmac** \u2014 Keyed-Hashing for Message Authentication\n",
      "    - **md5** \u2014 MD5 message digest algorithm\n",
      "    - **sha** \u2014 SHA-1 message digest algorithm\n",
      "\n",
      "9. **Generic Operating System Services**\n",
      "\n",
      "    - **os** \u2014 Miscellaneous operating system interfaces\n",
      "    - **io** \u2014 Core tools for working with streams\n",
      "    - **time** \u2014 Time access and conversions\n",
      "    - **argparse** \u2014 Parser for command-line options, arguments and sub-commands\n",
      "    - **optparse** \u2014 Parser for command line options\n",
      "    - **getopt** \u2014 C-style parser for command line options\n",
      "    - **logging** \u2014 Logging facility for Python\n",
      "    - **logging.config** \u2014 Logging configuration\n",
      "    - **logging.handlers** \u2014 Logging handlers\n",
      "    - **getpass** \u2014 Portable password input\n",
      "    - **curses** \u2014 Terminal handling for character-cell displays\n",
      "    - **curses.textpad** \u2014 Text input widget for curses programs\n",
      "    - **curses.ascii** \u2014 Utilities for ASCII characters\n",
      "    - **curses.panel** \u2014 A panel stack extension for curses\n",
      "    - **platform** \u2014 Access to underlying platform\u2019s identifying data\n",
      "    - **errno** \u2014 Standard errno system symbols\n",
      "    - **ctypes** \u2014 A foreign function library for Python\n",
      "    \n",
      "10. **Optional Operating System Services**\n",
      "\n",
      "    - **select** \u2014 Waiting for I/O completion\n",
      "    - **threading** \u2014 Higher-level threading interface\n",
      "    - **thread** \u2014 Multiple threads of control\n",
      "    - **dummy_threading** \u2014 Drop-in replacement for the threading module\n",
      "    - **dummy_thread** \u2014 Drop-in replacement for the thread module\n",
      "    - **multiprocessing** \u2014 Process-based \u201cthreading\u201d interface\n",
      "    - **mmap** \u2014 Memory-mapped file support\n",
      "    - **readline** \u2014 GNU readline interface\n",
      "    - **rlcompleter** \u2014 Completion function for GNU readline\n",
      "    \n",
      "11. **Interprocess Communication and Networking**\n",
      "\n",
      "    - **subprocess** \u2014 Subprocess management\n",
      "    - **socket** \u2014 Low-level networking interface\n",
      "    - **ssl** \u2014 TLS/SSL wrapper for socket objects\n",
      "    - **signal** \u2014 Set handlers for asynchronous events\n",
      "    - **popen2** \u2014 Subprocesses with accessible I/O streams\n",
      "    - **asyncore** \u2014 Asynchronous socket handler\n",
      "    - **asynchat** \u2014 Asynchronous socket command/response handler\n",
      "\n",
      "12. **Internet Data Handling**\n",
      "\n",
      "    - **email** \u2014 An email and MIME handling package\n",
      "    - **json** \u2014 JSON encoder and decoder\n",
      "    - **mailcap** \u2014 Mailcap file handling\n",
      "    - **mailbox** \u2014 Manipulate mailboxes in various formats\n",
      "    - **mhlib** \u2014 Access to MH mailboxes\n",
      "    - **mimetools** \u2014 Tools for parsing MIME messages\n",
      "    - **mimetypes** \u2014 Map filenames to MIME types\n",
      "    - **MimeWriter** \u2014 Generic MIME file writer\n",
      "    - **mimify** \u2014 MIME processing of mail messages\n",
      "    - **multifile** \u2014 Support for files containing distinct parts\n",
      "    - **rfc822** \u2014 Parse RFC 2822 mail headers\n",
      "    - **base64** \u2014 RFC 3548: Base16, Base32, Base64 Data Encodings\n",
      "    - **binhex** \u2014 Encode and decode binhex4 files\n",
      "    - **binascii** \u2014 Convert between binary and ASCII\n",
      "    - **quopri** \u2014 Encode and decode MIME quoted-printable data\n",
      "    - **uu** \u2014 Encode and decode uuencode files\n",
      "\n",
      "13. **Structured Markup Processing Tools**\n",
      "\n",
      "    - **HTMLParser** \u2014 Simple HTML and XHTML parser\n",
      "    - **sgmllib** \u2014 Simple SGML parser\n",
      "    - **htmllib** \u2014 A parser for HTML documents\n",
      "    - **htmlentitydefs** \u2014 Definitions of HTML general entities\n",
      "    - XML Processing Modules\n",
      "    - XML vulnerabilities\n",
      "    - **xml.etree.ElementTree** \u2014 The ElementTree XML API\n",
      "    - **xml.dom** \u2014 The Document Object Model API\n",
      "    - **xml.dom.minidom** \u2014 Minimal DOM implementation\n",
      "    - **xml.dom.pulldom** \u2014 Support for building partial DOM trees\n",
      "    - **xml.sax** \u2014 Support for SAX2 parsers\n",
      "    - **xml.sax.handler** \u2014 Base classes for SAX handlers\n",
      "    - **xml.sax.saxutils** \u2014 SAX Utilities\n",
      "    - **xml.sax.xmlreader** \u2014 Interface for XML parsers\n",
      "    - **xml.parsers.expat** \u2014 Fast XML parsing using Expat\n",
      "\n",
      "14. **Internet Protocols and Support**\n",
      "\n",
      "    - **webbrowser** \u2014 Convenient Web-browser controller\n",
      "    - **cgi** \u2014 Common Gateway Interface support\n",
      "    - **cgitb** \u2014 Traceback manager for CGI scripts\n",
      "    - **wsgiref** \u2014 WSGI Utilities and Reference Implementation\n",
      "    - **urllib** \u2014 Open arbitrary resources by URL\n",
      "    - **urllib2** \u2014 extensible library for opening URLs\n",
      "    - **httplib** \u2014 HTTP protocol client\n",
      "    - **ftplib** \u2014 FTP protocol client\n",
      "    - **poplib** \u2014 POP3 protocol client\n",
      "    - **imaplib** \u2014 IMAP4 protocol client\n",
      "    - **nntplib** \u2014 NNTP protocol client\n",
      "    - **smtplib** \u2014 SMTP protocol client\n",
      "    - **smtpd** \u2014 SMTP Server\n",
      "    - **telnetlib** \u2014 Telnet client\n",
      "    - **uuid** \u2014 UUID objects according to RFC 4122\n",
      "    - **urlparse** \u2014 Parse URLs into components\n",
      "    - **SocketServer** \u2014 A framework for network servers\n",
      "    - **BaseHTTPServer** \u2014 Basic HTTP server\n",
      "    - **SimpleHTTPServer** \u2014 Simple HTTP request handler\n",
      "    - **CGIHTTPServer** \u2014 CGI-capable HTTP request handler\n",
      "    - **cookielib** \u2014 Cookie handling for HTTP clients\n",
      "    - **Cookie** \u2014 HTTP state management\n",
      "    - **xmlrpclib** \u2014 XML-RPC client access\n",
      "    - **SimpleXMLRPCServer** \u2014 Basic XML-RPC server\n",
      "    - **DocXMLRPCServer** \u2014 Self-documenting XML-RPC server\n",
      "\n",
      "15. **Multimedia Services**\n",
      "\n",
      "    - **audioop** \u2014 Manipulate raw audio data\n",
      "    - **imageop** \u2014 Manipulate raw image data\n",
      "    - **aifc** \u2014 Read and write AIFF and AIFC files\n",
      "    - **sunau** \u2014 Read and write Sun AU files\n",
      "    - **wave** \u2014 Read and write WAV files\n",
      "    - **chunk** \u2014 Read IFF chunked data\n",
      "    - **colorsys** \u2014 Conversions between color systems\n",
      "    - **imghdr** \u2014 Determine the type of an image\n",
      "    - **sndhdr** \u2014 Determine type of sound file\n",
      "    - **ossaudiodev** \u2014 Access to OSS-compatible audio devices\n",
      "\n",
      "16. **Internationalization**\n",
      "\n",
      "    - **gettext** \u2014 Multilingual internationalization services\n",
      "    - **locale** \u2014 Internationalization services\n",
      "\n",
      "17. **Program Frameworks**\n",
      "\n",
      "    - **cmd** \u2014 Support for line-oriented command interpreters\n",
      "    - **shlex** \u2014 Simple lexical analysis\n",
      "\n",
      "18. **Graphical User Interfaces with Tk**\n",
      "\n",
      "    - **Tkinter** \u2014 Python interface to Tcl/Tk\n",
      "    - **ttk** \u2014 Tk themed widgets\n",
      "    - **Tix** \u2014 Extension widgets for Tk\n",
      "    - **ScrolledText** \u2014 Scrolled Text Widget\n",
      "    - **turtle** \u2014 Turtle graphics for Tk\n",
      "    - IDLE\n",
      "    - Other Graphical User Interface Packages\n",
      "\n",
      "19. **Development Tools**\n",
      "\n",
      "    - **pydoc** \u2014 Documentation generator and online help system\n",
      "    - **doctest** \u2014 Test interactive Python examples\n",
      "    - **unittest** \u2014 Unit testing framework\n",
      "    - **2to3** - Automated Python 2 to 3 code translation\n",
      "    - **test** \u2014 Regression tests package for Python\n",
      "    - **test.test_support** \u2014 Utility functions for tests\n",
      "\n",
      "20. **Debugging and Profiling**\n",
      "\n",
      "    - **bdb** \u2014 Debugger framework\n",
      "    - **pdb** \u2014 The Python Debugger\n",
      "    - **Debugger** Commands\n",
      "    - The Python Profilers\n",
      "    - **hotshot** \u2014 High performance logging profiler\n",
      "    - **timeit** \u2014 Measure execution time of small code snippets\n",
      "    - **trace** \u2014 Trace or track Python statement execution\n",
      "\n",
      "21. **Python Runtime Services**\n",
      "\n",
      "    - **sys** \u2014 System-specific parameters and functions\n",
      "    - **sysconfig** \u2014 Provide access to Python\u2019s configuration information\n",
      "    - **`__builtin__`** \u2014 Built-in objects\n",
      "    - **future`_`builtins** \u2014 Python 3 builtins\n",
      "    - **`__`main`__`** \u2014 Top-level script environment\n",
      "    - **warnings** \u2014 Warning control\n",
      "    - **contextlib** \u2014 Utilities for with-statement contexts\n",
      "    - **abc** \u2014 Abstract Base Classes\n",
      "    - **atexit** \u2014 Exit handlers\n",
      "    - **traceback** \u2014 Print or retrieve a stack traceback\n",
      "    - **`__`future`__`** \u2014 Future statement definitions\n",
      "    - **gc** \u2014 Garbage Collector interface\n",
      "    - **inspect** \u2014 Inspect live objects\n",
      "    - **site** \u2014 Site-specific configuration hook\n",
      "    - **user** \u2014 User-specific configuration hook\n",
      "    - **fpectl** \u2014 Floating point exception control\n",
      "    - **distutils** \u2014 Building and installing Python modules\n",
      "\n",
      "22. **Custom Python Interpreters**\n",
      "\n",
      "    - **code** \u2014 Interpreter base classes\n",
      "    - **codeop** \u2014 Compile Python code\n",
      "\n",
      "23. **Restricted Execution**\n",
      "\n",
      "    - **rexec** \u2014 Restricted execution framework\n",
      "    - **Bastion** \u2014 Restricting access to objects\n",
      "\n",
      "24. **Importing Modules**\n",
      "\n",
      "    - **imp** \u2014 Access the import internals\n",
      "    - **importlib** \u2013 Convenience wrappers for __import__()\n",
      "    - **imputil** \u2014 Import utilities\n",
      "    - **zipimport** \u2014 Import modules from Zip archives\n",
      "    - **pkgutil** \u2014 Package extension utility\n",
      "    - **modulefinder** \u2014 Find modules used by a script\n",
      "    - **runpy** \u2014 Locating and executing Python modules\n",
      "\n",
      "25. **Python Language Services**\n",
      "\n",
      "    - **parser** \u2014 Access Python parse trees\n",
      "    - **ast** \u2014 Abstract Syntax Trees\n",
      "    - **symtable** \u2014 Access to the compiler\u2019s symbol tables\n",
      "    - **symbol** \u2014 Constants used with Python parse trees\n",
      "    - **token** \u2014 Constants used with Python parse trees\n",
      "    - **keyword** \u2014 Testing for Python keywords\n",
      "    - **tokenize** \u2014 Tokenizer for Python source\n",
      "    - **tabnanny** \u2014 Detection of ambiguous indentation\n",
      "    - **pyclbr** \u2014 Python class browser support\n",
      "    - **py_compile** \u2014 Compile Python source files\n",
      "    - **compileall** \u2014 Byte-compile Python libraries\n",
      "    - **dis** \u2014 Disassembler for Python bytecode\n",
      "    - **pickletools** \u2014 Tools for pickle developers\n",
      "\n",
      "26. **Python compiler package**\n",
      "\n",
      "    - The basic interface\n",
      "    - Limitations\n",
      "    - Python Abstract Syntax\n",
      "    - Using Visitors to Walk ASTs\n",
      "    - Bytecode Generation\n",
      "\n",
      "27. **Miscellaneous Services**\n",
      "\n",
      "    - **formatter** \u2014 Generic output formatting\n",
      "\n",
      "28. **MS Windows Specific Services**\n",
      "\n",
      "    - **msilib** \u2014 Read and write Microsoft Installer files\n",
      "    - **msvcrt** \u2013 Useful routines from the MS VC++ runtime\n",
      "    - **`_`winreg** \u2013 Windows registry access\n",
      "    - **winsound** \u2014 Sound-playing interface for Windows\n",
      "\n",
      "29. **Unix Specific Services**\n",
      "\n",
      "    - **posix** \u2014 The most common POSIX system calls\n",
      "    - **pwd** \u2014 The password database\n",
      "    - **spwd** \u2014 The shadow password database\n",
      "    - **grp** \u2014 The group database\n",
      "    - **crypt** \u2014 Function to check Unix passwords\n",
      "    - **dl** \u2014 Call C functions in shared objects\n",
      "    - **termios** \u2014 POSIX style tty control\n",
      "    - **tty** \u2014 Terminal control functions\n",
      "    - **pty** \u2014 Pseudo-terminal utilities\n",
      "    - **fcntl** \u2014 The fcntl and ioctl system calls\n",
      "    - **pipes** \u2014 Interface to shell pipelines\n",
      "    - **posixfile** \u2014 File-like objects with locking support\n",
      "    - **resource** \u2014 Resource usage information\n",
      "    - **nis** \u2014 Interface to Sun\u2019s NIS (Yellow Pages)\n",
      "    - **syslog** \u2014 Unix syslog library routines\n",
      "    - **commands** \u2014 Utilities for running commands\n",
      "\n",
      "30. **Mac OS X specific services**\n",
      "\n",
      "    - **ic** \u2014 Access to the Mac OS X Internet Config\n",
      "    - **MacOS** \u2014 Access to Mac OS interpreter features\n",
      "    - **macostools** \u2014 Convenience routines for file manipulation\n",
      "    - **findertools** \u2014 The finder\u2018s Apple Events interface\n",
      "    - **EasyDialogs** \u2014 Basic Macintosh dialogs\n",
      "    - **FrameWork** \u2014 Interactive application framework\n",
      "    - **autoGIL** \u2014 Global Interpreter Lock handling in event loops\n",
      "    - **Mac** OS Toolbox Modules\n",
      "    - **ColorPicker** \u2014 Color selection dialog\n",
      "\n"
     ]
    },
    {
     "cell_type": "markdown",
     "metadata": {},
     "source": [
      "*Ce notebook est une adaptation de la traduction fran\u00e7aise, dirig\u00e9e par Olivier Berger et mise \u00e0 jour par Henri Garreta, du tutoriel Python \u00e9dit\u00e9 par Guido van Rossum et Fred L. Drake.*"
     ]
    }
   ],
   "metadata": {}
  }
 ]
}