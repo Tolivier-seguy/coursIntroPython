{
 "metadata": {
  "name": "",
  "signature": "sha256:c2766b26e8475432901e7506ba8c9fec9a38fe3e47a8a57421d89af250836974"
 },
 "nbformat": 3,
 "nbformat_minor": 0,
 "worksheets": [
  {
   "cells": [
    {
     "cell_type": "code",
     "collapsed": false,
     "input": [
      "from __future__ import print_function"
     ],
     "language": "python",
     "metadata": {},
     "outputs": [],
     "prompt_number": 1
    },
    {
     "cell_type": "heading",
     "level": 2,
     "metadata": {},
     "source": [
      "Modules"
     ]
    },
    {
     "cell_type": "markdown",
     "metadata": {},
     "source": [
      "Python offre un moyen de mettre des de\u0301finitions dans un fichier et de les utiliser dans un script ou dans un session interactive de l\u2019interpre\u0301teur. Un tel fichier s\u2019appelle un module ; les de\u0301finitions d\u2019un module peuvent e\u0302tre importe\u0301es dans un autre module ou dans le module principal (la collection de variables a\u0300 laquelle vous avez acce\u0300s dans un script exe\u0301cute\u0301 depuis le plus haut niveau et dans le mode calculatrice).\n",
      "\n",
      "Un module est un fichier contenant des de\u0301finitions et des instructions Python. Le nom de fichier est le nom du module auquel est ajoute\u0301 le suffixe '`.py`'. Dans un module, le nom du module (comme chai\u0302ne de caracte\u0300res) est disponible comme valeur de la variable globale **`__name__`**. Par exemple, employez votre e\u0301diteur de texte pre\u0301fe\u0301re\u0301 pour cre\u0301er un fichier appele\u0301 `'fibo.py'` dans le re\u0301pertoire courant avec le contenu suivant :"
     ]
    },
    {
     "cell_type": "code",
     "collapsed": false,
     "input": [
      "# Module nombres de Fibonacci\n",
      "def fib(n):    # e\u0301crit la se\u0301rie de Fibonacci jusqu\u2019a\u0300 n\n",
      "    a, b = 0, 1\n",
      "    while b < n:\n",
      "        print (b, end=' ')\n",
      "        a, b = b, a+b\n",
      "        \n",
      "def fib2(n): # retourne la se\u0301rie de Fibonacci jusqu\u2019a\u0300 n\n",
      "    result = []\n",
      "    a, b = 0, 1\n",
      "    while b < n:\n",
      "        result.append(b)\n",
      "        a, b = b, a+b\n",
      "    return result"
     ],
     "language": "python",
     "metadata": {},
     "outputs": [],
     "prompt_number": 3
    },
    {
     "cell_type": "markdown",
     "metadata": {},
     "source": [
      "On se d\u00e9place dans le r\u00e9pertoire courant, \u00e0 adapter \u00e0 votre environnement."
     ]
    },
    {
     "cell_type": "code",
     "collapsed": false,
     "input": [
      "cd src/notebook/coursIntroPython/"
     ],
     "language": "python",
     "metadata": {},
     "outputs": [
      {
       "output_type": "stream",
       "stream": "stdout",
       "text": [
        "[Errno 2] No such file or directory: 'src/notebook/coursIntroPython/'\n",
        "/Users/sylchev/src/notebook/coursIntroPython\n"
       ]
      }
     ],
     "prompt_number": 3
    },
    {
     "cell_type": "markdown",
     "metadata": {},
     "source": [
      "Maintenant lancez l\u2019interpre\u0301teur Python et importez ce module avec la commande suivante :"
     ]
    },
    {
     "cell_type": "code",
     "collapsed": false,
     "input": [
      "import fibo"
     ],
     "language": "python",
     "metadata": {},
     "outputs": [],
     "prompt_number": 2
    },
    {
     "cell_type": "markdown",
     "metadata": {},
     "source": [
      "En utilisant le nom de module vous pouvez acce\u0301der aux fonctions :"
     ]
    },
    {
     "cell_type": "code",
     "collapsed": false,
     "input": [
      "fibo.fib(1000)"
     ],
     "language": "python",
     "metadata": {},
     "outputs": [
      {
       "output_type": "stream",
       "stream": "stdout",
       "text": [
        "1 1 2 3 5 8 13 21 34 55 89 144 233 377 610 987 "
       ]
      }
     ],
     "prompt_number": 5
    },
    {
     "cell_type": "code",
     "collapsed": false,
     "input": [
      "fibo.fib2(100)"
     ],
     "language": "python",
     "metadata": {},
     "outputs": [
      {
       "metadata": {},
       "output_type": "pyout",
       "prompt_number": 6,
       "text": [
        "[1, 1, 2, 3, 5, 8, 13, 21, 34, 55, 89]"
       ]
      }
     ],
     "prompt_number": 6
    },
    {
     "cell_type": "markdown",
     "metadata": {},
     "source": [
      "Pour conna\u00eetre les noms qu'un module d\u00e9fini on peut utiliser la fonction `dir()`, qui renvoie la liste tri\u00e9e des cha\u00eenes de caract\u00e8res."
     ]
    },
    {
     "cell_type": "code",
     "collapsed": false,
     "input": [
      "dir(fibo)"
     ],
     "language": "python",
     "metadata": {},
     "outputs": [
      {
       "metadata": {},
       "output_type": "pyout",
       "prompt_number": 7,
       "text": [
        "['__builtins__',\n",
        " '__doc__',\n",
        " '__file__',\n",
        " '__name__',\n",
        " '__package__',\n",
        " 'fib',\n",
        " 'fib2',\n",
        " 'print_function']"
       ]
      }
     ],
     "prompt_number": 7
    },
    {
     "cell_type": "heading",
     "level": 2,
     "metadata": {},
     "source": [
      "Modules de la biblioth\u00e8ques standard"
     ]
    },
    {
     "cell_type": "markdown",
     "metadata": {},
     "source": [
      "Beaucoup de fonctionalit\u00e9s de Python sont disponibles dans des biblioth\u00e8ques appel\u00e9es *modules*. Pour am\u00e9liorer la lisibilit\u00e9 et la portabilit\u00e9 du code, ces modules ne sont pas pr\u00e9-charg\u00e9s lorsque vous lancez Python : il faut les importer explicitement. Par exemple, il y a un module de *math* qui contient de nombreuses fonctions relatives au math\u00e9matiques. Si vous souhaitez utiliser la fonction cosinus, *cos*, vous pouvez importer le module *math* puis indiquer que vous appelez la fonction cos en utilisant la notation pr\u00e9fix\u00e9e. Il en va de m\u00eame pour les autres \u00e9l\u00e9ments de *math* comme par exemple la constante $\\pi$"
     ]
    },
    {
     "cell_type": "code",
     "collapsed": false,
     "input": [
      "import math\n",
      "math.cos(2 * math.pi)"
     ],
     "language": "python",
     "metadata": {},
     "outputs": [
      {
       "metadata": {},
       "output_type": "pyout",
       "prompt_number": 10,
       "text": [
        "1.0"
       ]
      }
     ],
     "prompt_number": 10
    },
    {
     "cell_type": "markdown",
     "metadata": {},
     "source": [
      "Quand on a fait un import, il faut donc pr\u00e9fixer tous les objets du module (par exemple *math.cos*), ceci permet de lever certaines ambigu\u00eft\u00e9s lors de la lecture du code.\n",
      "\n",
      "Cependant, surtout lorsqu'on \u00e9crit du code \u00e0 usage unique, cette notation est lourde. Il est possible d'importer tout le contenu d'un module dans l'espace de noms (*namespace*) courant.\n",
      "\n",
      "L'espace de noms est constitu\u00e9 par l'ensemble des variables et des fonctions atteignables depuis un endroit du code. Pour conna\u00eetre le contenu de l'espace de noms courant dans iPython, on peut faire appel \u00e0 la commande `%whos`"
     ]
    },
    {
     "cell_type": "code",
     "collapsed": false,
     "input": [
      "%whos"
     ],
     "language": "python",
     "metadata": {},
     "outputs": [
      {
       "output_type": "stream",
       "stream": "stdout",
       "text": [
        "Variable   Type      Data/Info\n",
        "------------------------------\n",
        "fibo       module    <module 'fibo' from 'fibo.pyc'>\n"
       ]
      }
     ],
     "prompt_number": 11
    },
    {
     "cell_type": "markdown",
     "metadata": {},
     "source": [
      "Revenons aux modules, pour importer tout le contenu d'un module dans l'espace de noms courant, on peut utiliser:"
     ]
    },
    {
     "cell_type": "code",
     "collapsed": false,
     "input": [
      "from math import *\n",
      "cos(2 * pi)"
     ],
     "language": "python",
     "metadata": {},
     "outputs": [
      {
       "metadata": {},
       "output_type": "pyout",
       "prompt_number": 12,
       "text": [
        "1.0"
       ]
      }
     ],
     "prompt_number": 12
    },
    {
     "cell_type": "markdown",
     "metadata": {},
     "source": [
      "Si on importe ainsi beaucoup de modules, ce qui est assez courant, l'espace de nom va vite \u00eatre tr\u00e8s rempli. Si deux fonctions ou variables portent le m\u00eame nom, alors c'est la fonction du dernier module import\u00e9 qui sera conserv\u00e9e. Voyons par exemple \u00e0 quoi ressemble l'espace de noms courant maintenant que nous avons import\u00e9 tout le module math:"
     ]
    },
    {
     "cell_type": "code",
     "collapsed": false,
     "input": [
      "%whos"
     ],
     "language": "python",
     "metadata": {},
     "outputs": [
      {
       "output_type": "stream",
       "stream": "stdout",
       "text": [
        "Variable    Type                          Data/Info\n",
        "---------------------------------------------------\n",
        "acos        builtin_function_or_method    <built-in function acos>\n",
        "acosh       builtin_function_or_method    <built-in function acosh>\n",
        "asin        builtin_function_or_method    <built-in function asin>\n",
        "asinh       builtin_function_or_method    <built-in function asinh>\n",
        "atan        builtin_function_or_method    <built-in function atan>\n",
        "atan2       builtin_function_or_method    <built-in function atan2>\n",
        "atanh       builtin_function_or_method    <built-in function atanh>\n",
        "ceil        builtin_function_or_method    <built-in function ceil>\n",
        "copysign    builtin_function_or_method    <built-in function copysign>\n",
        "cos         builtin_function_or_method    <built-in function cos>\n",
        "cosh        builtin_function_or_method    <built-in function cosh>\n",
        "degrees     builtin_function_or_method    <built-in function degrees>\n",
        "e           float                         2.71828182846\n",
        "erf         builtin_function_or_method    <built-in function erf>\n",
        "erfc        builtin_function_or_method    <built-in function erfc>\n",
        "exp         builtin_function_or_method    <built-in function exp>\n",
        "expm1       builtin_function_or_method    <built-in function expm1>\n",
        "fabs        builtin_function_or_method    <built-in function fabs>\n",
        "factorial   builtin_function_or_method    <built-in function factorial>\n",
        "fibo        module                        <module 'fibo' from 'fibo.pyc'>\n",
        "floor       builtin_function_or_method    <built-in function floor>\n",
        "fmod        builtin_function_or_method    <built-in function fmod>\n",
        "frexp       builtin_function_or_method    <built-in function frexp>\n",
        "fsum        builtin_function_or_method    <built-in function fsum>\n",
        "gamma       builtin_function_or_method    <built-in function gamma>\n",
        "hypot       builtin_function_or_method    <built-in function hypot>\n",
        "isinf       builtin_function_or_method    <built-in function isinf>\n",
        "isnan       builtin_function_or_method    <built-in function isnan>\n",
        "ldexp       builtin_function_or_method    <built-in function ldexp>\n",
        "lgamma      builtin_function_or_method    <built-in function lgamma>\n",
        "log         builtin_function_or_method    <built-in function log>\n",
        "log10       builtin_function_or_method    <built-in function log10>\n",
        "log1p       builtin_function_or_method    <built-in function log1p>\n",
        "modf        builtin_function_or_method    <built-in function modf>\n",
        "pi          float                         3.14159265359\n",
        "pow         builtin_function_or_method    <built-in function pow>\n",
        "radians     builtin_function_or_method    <built-in function radians>\n",
        "sin         builtin_function_or_method    <built-in function sin>\n",
        "sinh        builtin_function_or_method    <built-in function sinh>\n",
        "sqrt        builtin_function_or_method    <built-in function sqrt>\n",
        "tan         builtin_function_or_method    <built-in function tan>\n",
        "tanh        builtin_function_or_method    <built-in function tanh>\n",
        "trunc       builtin_function_or_method    <built-in function trunc>\n"
       ]
      }
     ],
     "prompt_number": 13
    },
    {
     "cell_type": "markdown",
     "metadata": {},
     "source": [
      "La bonne pratique concilie le meilleur des deux approches. Elle permet d'importer dans l'espace de noms uniquement les fonctions utiles."
     ]
    },
    {
     "cell_type": "code",
     "collapsed": false,
     "input": [
      "from math import cos, pi\n",
      "cos(2 * pi)"
     ],
     "language": "python",
     "metadata": {},
     "outputs": [
      {
       "metadata": {},
       "output_type": "pyout",
       "prompt_number": 14,
       "text": [
        "1.0"
       ]
      }
     ],
     "prompt_number": 14
    },
    {
     "cell_type": "markdown",
     "metadata": {},
     "source": [
      "*Ce notebook est une adaptation de la traduction fran\u00e7aise, dirig\u00e9e par Olivier Berger et mise \u00e0 jour par Henri Garreta, du tutoriel Python \u00e9dit\u00e9 par Guido van Rossum et Fred L. Drake.*"
     ]
    }
   ],
   "metadata": {}
  }
 ]
}