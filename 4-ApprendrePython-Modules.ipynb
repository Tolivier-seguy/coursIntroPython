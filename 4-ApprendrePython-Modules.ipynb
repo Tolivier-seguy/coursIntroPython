{
 "metadata": {
  "name": "",
  "signature": "sha256:1e491b73f2ecf17b1ae10605098f7cf11f5e236c06f616398910ef82ee653841"
 },
 "nbformat": 3,
 "nbformat_minor": 0,
 "worksheets": [
  {
   "cells": [
    {
     "cell_type": "code",
     "collapsed": false,
     "input": [
      "from __future__ import print_function"
     ],
     "language": "python",
     "metadata": {},
     "outputs": [],
     "prompt_number": 1
    },
    {
     "cell_type": "heading",
     "level": 2,
     "metadata": {},
     "source": [
      "Modules"
     ]
    },
    {
     "cell_type": "markdown",
     "metadata": {},
     "source": [
      "Python offre un moyen de mettre des de\u0301finitions dans un fichier et de les utiliser dans un script ou dans un session interactive de l\u2019interpre\u0301teur. Un tel fichier s\u2019appelle un module ; les de\u0301finitions d\u2019un module peuvent e\u0302tre importe\u0301es dans un autre module ou dans le module principal (la collection de variables a\u0300 laquelle vous avez acce\u0300s dans un script exe\u0301cute\u0301 depuis le plus haut niveau et dans le mode calculatrice).\n",
      "\n",
      "Un module est un fichier contenant des de\u0301finitions et des instructions Python. Le nom de fichier est le nom du module auquel est ajoute\u0301 le suffixe '`.py`'. Dans un module, le nom du module (comme chai\u0302ne de caracte\u0300res) est disponible comme valeur de la variable globale **`__name__`**. Par exemple, employez votre e\u0301diteur de texte pre\u0301fe\u0301re\u0301 pour cre\u0301er un fichier appele\u0301 `'fibo.py'` dans le re\u0301pertoire courant avec le contenu suivant :"
     ]
    },
    {
     "cell_type": "code",
     "collapsed": false,
     "input": [
      "# Module nombres de Fibonacci\n",
      "def fib(n):    # e\u0301crit la se\u0301rie de Fibonacci jusqu\u2019a\u0300 n\n",
      "    a, b = 0, 1\n",
      "    while b < n:\n",
      "        print (b, end=' ')\n",
      "        a, b = b, a+b\n",
      "        \n",
      "def fib2(n): # retourne la se\u0301rie de Fibonacci jusqu\u2019a\u0300 n\n",
      "    result = []\n",
      "    a, b = 0, 1\n",
      "    while b < n:\n",
      "        result.append(b)\n",
      "        a, b = b, a+b\n",
      "    return result"
     ],
     "language": "python",
     "metadata": {},
     "outputs": [],
     "prompt_number": 3
    },
    {
     "cell_type": "markdown",
     "metadata": {},
     "source": [
      "Maintenant lancez l\u2019interpre\u0301teur Python et importez ce module avec la commande suivante :"
     ]
    },
    {
     "cell_type": "code",
     "collapsed": false,
     "input": [
      "cd src/notebook/coursIntroPython/"
     ],
     "language": "python",
     "metadata": {},
     "outputs": [
      {
       "output_type": "stream",
       "stream": "stdout",
       "text": [
        "/Users/sylchev/src/notebook/coursIntroPython\n"
       ]
      }
     ],
     "prompt_number": 21
    },
    {
     "cell_type": "code",
     "collapsed": false,
     "input": [
      "import fibo"
     ],
     "language": "python",
     "metadata": {},
     "outputs": [],
     "prompt_number": 23
    },
    {
     "cell_type": "code",
     "collapsed": false,
     "input": [],
     "language": "python",
     "metadata": {},
     "outputs": []
    }
   ],
   "metadata": {}
  }
 ]
}